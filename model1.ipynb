{
 "cells": [
  {
   "attachments": {},
   "cell_type": "markdown",
   "metadata": {},
   "source": [
    "Dataset:- https://www.kaggle.com/datasets/mirichoi0218/insurance"
   ]
  },
  {
   "attachments": {},
   "cell_type": "markdown",
   "metadata": {},
   "source": [
    "Import libraries"
   ]
  },
  {
   "cell_type": "code",
   "execution_count": 1,
   "metadata": {},
   "outputs": [],
   "source": [
    "import numpy as np\n",
    "import pandas as pd\n",
    "import seaborn as sns\n",
    "import matplotlib.pyplot as plt\n",
    "sns.set()"
   ]
  },
  {
   "attachments": {},
   "cell_type": "markdown",
   "metadata": {},
   "source": [
    "Import the data"
   ]
  },
  {
   "cell_type": "code",
   "execution_count": 2,
   "metadata": {},
   "outputs": [],
   "source": [
    "data = pd.read_csv(r\"insurance.csv\")"
   ]
  },
  {
   "cell_type": "code",
   "execution_count": 39,
   "metadata": {},
   "outputs": [
    {
     "data": {
      "text/html": [
       "<div>\n",
       "<style scoped>\n",
       "    .dataframe tbody tr th:only-of-type {\n",
       "        vertical-align: middle;\n",
       "    }\n",
       "\n",
       "    .dataframe tbody tr th {\n",
       "        vertical-align: top;\n",
       "    }\n",
       "\n",
       "    .dataframe thead th {\n",
       "        text-align: right;\n",
       "    }\n",
       "</style>\n",
       "<table border=\"1\" class=\"dataframe\">\n",
       "  <thead>\n",
       "    <tr style=\"text-align: right;\">\n",
       "      <th></th>\n",
       "      <th>age</th>\n",
       "      <th>sex</th>\n",
       "      <th>bmi</th>\n",
       "      <th>children</th>\n",
       "      <th>smoker</th>\n",
       "      <th>region</th>\n",
       "      <th>charges</th>\n",
       "    </tr>\n",
       "  </thead>\n",
       "  <tbody>\n",
       "    <tr>\n",
       "      <th>0</th>\n",
       "      <td>19</td>\n",
       "      <td>female</td>\n",
       "      <td>27.900</td>\n",
       "      <td>0</td>\n",
       "      <td>yes</td>\n",
       "      <td>southwest</td>\n",
       "      <td>16884.92400</td>\n",
       "    </tr>\n",
       "    <tr>\n",
       "      <th>1</th>\n",
       "      <td>18</td>\n",
       "      <td>male</td>\n",
       "      <td>33.770</td>\n",
       "      <td>1</td>\n",
       "      <td>no</td>\n",
       "      <td>southeast</td>\n",
       "      <td>1725.55230</td>\n",
       "    </tr>\n",
       "    <tr>\n",
       "      <th>2</th>\n",
       "      <td>28</td>\n",
       "      <td>male</td>\n",
       "      <td>33.000</td>\n",
       "      <td>3</td>\n",
       "      <td>no</td>\n",
       "      <td>southeast</td>\n",
       "      <td>4449.46200</td>\n",
       "    </tr>\n",
       "    <tr>\n",
       "      <th>3</th>\n",
       "      <td>33</td>\n",
       "      <td>male</td>\n",
       "      <td>22.705</td>\n",
       "      <td>0</td>\n",
       "      <td>no</td>\n",
       "      <td>northwest</td>\n",
       "      <td>21984.47061</td>\n",
       "    </tr>\n",
       "    <tr>\n",
       "      <th>4</th>\n",
       "      <td>32</td>\n",
       "      <td>male</td>\n",
       "      <td>28.880</td>\n",
       "      <td>0</td>\n",
       "      <td>no</td>\n",
       "      <td>northwest</td>\n",
       "      <td>3866.85520</td>\n",
       "    </tr>\n",
       "  </tbody>\n",
       "</table>\n",
       "</div>"
      ],
      "text/plain": [
       "   age     sex     bmi  children smoker     region      charges\n",
       "0   19  female  27.900         0    yes  southwest  16884.92400\n",
       "1   18    male  33.770         1     no  southeast   1725.55230\n",
       "2   28    male  33.000         3     no  southeast   4449.46200\n",
       "3   33    male  22.705         0     no  northwest  21984.47061\n",
       "4   32    male  28.880         0     no  northwest   3866.85520"
      ]
     },
     "execution_count": 39,
     "metadata": {},
     "output_type": "execute_result"
    }
   ],
   "source": [
    "data.head()"
   ]
  },
  {
   "cell_type": "code",
   "execution_count": 3,
   "metadata": {},
   "outputs": [],
   "source": [
    "Y = data.iloc[:,-1]\n",
    "X = data.iloc[:,:-1]"
   ]
  },
  {
   "cell_type": "code",
   "execution_count": 90,
   "metadata": {},
   "outputs": [
    {
     "data": {
      "text/plain": [
       "1338"
      ]
     },
     "execution_count": 90,
     "metadata": {},
     "output_type": "execute_result"
    }
   ],
   "source": [
    "# sns.scatterplot(data,x='per capita income (US$)', y=\"year\")\n",
    "# plt.show()\n",
    "Y.size"
   ]
  },
  {
   "attachments": {},
   "cell_type": "markdown",
   "metadata": {},
   "source": [
    "Handling missing data\n"
   ]
  },
  {
   "cell_type": "code",
   "execution_count": 42,
   "metadata": {},
   "outputs": [
    {
     "data": {
      "text/plain": [
       "age         0\n",
       "sex         0\n",
       "bmi         0\n",
       "children    0\n",
       "smoker      0\n",
       "region      0\n",
       "charges     0\n",
       "dtype: int64"
      ]
     },
     "execution_count": 42,
     "metadata": {},
     "output_type": "execute_result"
    }
   ],
   "source": [
    "pd.isnull(data).sum()"
   ]
  },
  {
   "attachments": {},
   "cell_type": "markdown",
   "metadata": {},
   "source": [
    "One hot label encoding method\n"
   ]
  },
  {
   "cell_type": "code",
   "execution_count": 4,
   "metadata": {},
   "outputs": [],
   "source": [
    "def OneHotEncoderMethod(indices, data):\n",
    "    from sklearn.compose import ColumnTransformer\n",
    "    from sklearn.preprocessing import OneHotEncoder\n",
    "    columnTransformer = ColumnTransformer([('encoder', OneHotEncoder(),indices )], remainder='passthrough')\n",
    "    return columnTransformer.fit_transform(data)"
   ]
  },
  {
   "attachments": {},
   "cell_type": "markdown",
   "metadata": {},
   "source": [
    "Label ENCODING METHOD"
   ]
  },
  {
   "cell_type": "code",
   "execution_count": 5,
   "metadata": {},
   "outputs": [],
   "source": [
    "def LabelEncoderMethod(series):\n",
    "    from sklearn import preprocessing\n",
    "    LE = preprocessing.LabelEncoder()\n",
    "    return LE.fit_transform(series)"
   ]
  },
  {
   "attachments": {},
   "cell_type": "markdown",
   "metadata": {},
   "source": [
    "Encoding x features"
   ]
  },
  {
   "cell_type": "code",
   "execution_count": 6,
   "metadata": {},
   "outputs": [],
   "source": [
    "def EncodingSelection(X, threshold=10):\n",
    "    # Step 01 : Select the string col\n",
    "    string_cols = list(np.where((X.dtypes == object))[0])\n",
    "    one_hot_encoding_indices = []\n",
    "    \n",
    "    # Step 02: The number of categoty is 2 and more than threshold, label encode\n",
    "    for col in string_cols:\n",
    "        length = len(pd.unique(X[X.columns[col]]))\n",
    "        if length == 2 or length > threshold:\n",
    "            X[X.columns[col]] = LabelEncoderMethod(X[X.columns[col]])\n",
    "        else:\n",
    "            one_hot_encoding_indices.append(col)\n",
    "            \n",
    "    # Step 03: One hot encode otherwise \n",
    "    X = OneHotEncoderMethod(one_hot_encoding_indices, X)\n",
    "    return X"
   ]
  },
  {
   "cell_type": "code",
   "execution_count": 7,
   "metadata": {},
   "outputs": [],
   "source": [
    "X = EncodingSelection(X)"
   ]
  },
  {
   "cell_type": "code",
   "execution_count": 108,
   "metadata": {},
   "outputs": [
    {
     "data": {
      "text/plain": [
       "12042"
      ]
     },
     "execution_count": 108,
     "metadata": {},
     "output_type": "execute_result"
    }
   ],
   "source": [
    "X.size"
   ]
  },
  {
   "attachments": {},
   "cell_type": "markdown",
   "metadata": {},
   "source": [
    "Train test split"
   ]
  },
  {
   "cell_type": "code",
   "execution_count": 11,
   "metadata": {},
   "outputs": [],
   "source": [
    "from sklearn.model_selection import train_test_split\n",
    "x_train, x_test,y_train,y_test = train_test_split(X,Y, test_size=0.20, random_state=1)"
   ]
  },
  {
   "attachments": {},
   "cell_type": "markdown",
   "metadata": {},
   "source": [
    "Feature scaling"
   ]
  },
  {
   "cell_type": "code",
   "execution_count": 76,
   "metadata": {},
   "outputs": [],
   "source": [
    "from sklearn import preprocessing\n",
    "sc = preprocessing.StandardScaler()"
   ]
  },
  {
   "cell_type": "code",
   "execution_count": 77,
   "metadata": {},
   "outputs": [],
   "source": [
    "sc.fit(x_train)\n",
    "x_train = sc.transform(x_train)\n",
    "x_test = sc.transform(x_test)"
   ]
  },
  {
   "cell_type": "code",
   "execution_count": 78,
   "metadata": {},
   "outputs": [
    {
     "data": {
      "text/plain": [
       "array([[-0.57087511,  1.76954066, -0.59822071, ..., -0.66474472,\n",
       "        -0.90705771, -0.50874702],\n",
       "       [-0.57087511, -0.56511841, -0.59822071, ..., -1.51402369,\n",
       "        -0.07894188, -0.50874702],\n",
       "       [-0.57087511, -0.56511841,  1.67162383, ...,  1.08117685,\n",
       "        -0.90705771, -0.50874702],\n",
       "       ...,\n",
       "       [ 1.75169662, -0.56511841, -0.59822071, ...,  0.70063454,\n",
       "         0.74917395,  1.96561348],\n",
       "       [-0.57087511, -0.56511841,  1.67162383, ..., -1.38009893,\n",
       "         0.74917395,  1.96561348],\n",
       "       [-0.57087511, -0.56511841,  1.67162383, ..., -0.44589206,\n",
       "        -0.07894188, -0.50874702]])"
      ]
     },
     "execution_count": 78,
     "metadata": {},
     "output_type": "execute_result"
    }
   ],
   "source": [
    "x_train"
   ]
  },
  {
   "attachments": {},
   "cell_type": "markdown",
   "metadata": {},
   "source": [
    "Builduing linear model"
   ]
  },
  {
   "cell_type": "code",
   "execution_count": 79,
   "metadata": {},
   "outputs": [],
   "source": [
    "from sklearn.linear_model import LinearRegression\n",
    "model = LinearRegression()"
   ]
  },
  {
   "cell_type": "code",
   "execution_count": 80,
   "metadata": {},
   "outputs": [],
   "source": [
    "from sklearn.preprocessing import PolynomialFeatures\n",
    "poly = PolynomialFeatures(degree=3)\n",
    "poly_x_train = poly.fit_transform(x_train)\n",
    "poly_x_test = poly.fit_transform(x_test)"
   ]
  },
  {
   "cell_type": "code",
   "execution_count": 81,
   "metadata": {},
   "outputs": [
    {
     "data": {
      "text/html": [
       "<style>#sk-container-id-2 {color: black;background-color: white;}#sk-container-id-2 pre{padding: 0;}#sk-container-id-2 div.sk-toggleable {background-color: white;}#sk-container-id-2 label.sk-toggleable__label {cursor: pointer;display: block;width: 100%;margin-bottom: 0;padding: 0.3em;box-sizing: border-box;text-align: center;}#sk-container-id-2 label.sk-toggleable__label-arrow:before {content: \"▸\";float: left;margin-right: 0.25em;color: #696969;}#sk-container-id-2 label.sk-toggleable__label-arrow:hover:before {color: black;}#sk-container-id-2 div.sk-estimator:hover label.sk-toggleable__label-arrow:before {color: black;}#sk-container-id-2 div.sk-toggleable__content {max-height: 0;max-width: 0;overflow: hidden;text-align: left;background-color: #f0f8ff;}#sk-container-id-2 div.sk-toggleable__content pre {margin: 0.2em;color: black;border-radius: 0.25em;background-color: #f0f8ff;}#sk-container-id-2 input.sk-toggleable__control:checked~div.sk-toggleable__content {max-height: 200px;max-width: 100%;overflow: auto;}#sk-container-id-2 input.sk-toggleable__control:checked~label.sk-toggleable__label-arrow:before {content: \"▾\";}#sk-container-id-2 div.sk-estimator input.sk-toggleable__control:checked~label.sk-toggleable__label {background-color: #d4ebff;}#sk-container-id-2 div.sk-label input.sk-toggleable__control:checked~label.sk-toggleable__label {background-color: #d4ebff;}#sk-container-id-2 input.sk-hidden--visually {border: 0;clip: rect(1px 1px 1px 1px);clip: rect(1px, 1px, 1px, 1px);height: 1px;margin: -1px;overflow: hidden;padding: 0;position: absolute;width: 1px;}#sk-container-id-2 div.sk-estimator {font-family: monospace;background-color: #f0f8ff;border: 1px dotted black;border-radius: 0.25em;box-sizing: border-box;margin-bottom: 0.5em;}#sk-container-id-2 div.sk-estimator:hover {background-color: #d4ebff;}#sk-container-id-2 div.sk-parallel-item::after {content: \"\";width: 100%;border-bottom: 1px solid gray;flex-grow: 1;}#sk-container-id-2 div.sk-label:hover label.sk-toggleable__label {background-color: #d4ebff;}#sk-container-id-2 div.sk-serial::before {content: \"\";position: absolute;border-left: 1px solid gray;box-sizing: border-box;top: 0;bottom: 0;left: 50%;z-index: 0;}#sk-container-id-2 div.sk-serial {display: flex;flex-direction: column;align-items: center;background-color: white;padding-right: 0.2em;padding-left: 0.2em;position: relative;}#sk-container-id-2 div.sk-item {position: relative;z-index: 1;}#sk-container-id-2 div.sk-parallel {display: flex;align-items: stretch;justify-content: center;background-color: white;position: relative;}#sk-container-id-2 div.sk-item::before, #sk-container-id-2 div.sk-parallel-item::before {content: \"\";position: absolute;border-left: 1px solid gray;box-sizing: border-box;top: 0;bottom: 0;left: 50%;z-index: -1;}#sk-container-id-2 div.sk-parallel-item {display: flex;flex-direction: column;z-index: 1;position: relative;background-color: white;}#sk-container-id-2 div.sk-parallel-item:first-child::after {align-self: flex-end;width: 50%;}#sk-container-id-2 div.sk-parallel-item:last-child::after {align-self: flex-start;width: 50%;}#sk-container-id-2 div.sk-parallel-item:only-child::after {width: 0;}#sk-container-id-2 div.sk-dashed-wrapped {border: 1px dashed gray;margin: 0 0.4em 0.5em 0.4em;box-sizing: border-box;padding-bottom: 0.4em;background-color: white;}#sk-container-id-2 div.sk-label label {font-family: monospace;font-weight: bold;display: inline-block;line-height: 1.2em;}#sk-container-id-2 div.sk-label-container {text-align: center;}#sk-container-id-2 div.sk-container {/* jupyter's `normalize.less` sets `[hidden] { display: none; }` but bootstrap.min.css set `[hidden] { display: none !important; }` so we also need the `!important` here to be able to override the default hidden behavior on the sphinx rendered scikit-learn.org. See: https://github.com/scikit-learn/scikit-learn/issues/21755 */display: inline-block !important;position: relative;}#sk-container-id-2 div.sk-text-repr-fallback {display: none;}</style><div id=\"sk-container-id-2\" class=\"sk-top-container\"><div class=\"sk-text-repr-fallback\"><pre>LinearRegression()</pre><b>In a Jupyter environment, please rerun this cell to show the HTML representation or trust the notebook. <br />On GitHub, the HTML representation is unable to render, please try loading this page with nbviewer.org.</b></div><div class=\"sk-container\" hidden><div class=\"sk-item\"><div class=\"sk-estimator sk-toggleable\"><input class=\"sk-toggleable__control sk-hidden--visually\" id=\"sk-estimator-id-2\" type=\"checkbox\" checked><label for=\"sk-estimator-id-2\" class=\"sk-toggleable__label sk-toggleable__label-arrow\">LinearRegression</label><div class=\"sk-toggleable__content\"><pre>LinearRegression()</pre></div></div></div></div></div>"
      ],
      "text/plain": [
       "LinearRegression()"
      ]
     },
     "execution_count": 81,
     "metadata": {},
     "output_type": "execute_result"
    }
   ],
   "source": [
    "model.fit(poly_x_train ,y_train)"
   ]
  },
  {
   "attachments": {},
   "cell_type": "markdown",
   "metadata": {},
   "source": [
    "Make the predictions"
   ]
  },
  {
   "cell_type": "code",
   "execution_count": 82,
   "metadata": {},
   "outputs": [],
   "source": [
    "y_predict = model.predict(poly_x_test)"
   ]
  },
  {
   "attachments": {},
   "cell_type": "markdown",
   "metadata": {},
   "source": [
    "Compare the results"
   ]
  },
  {
   "cell_type": "code",
   "execution_count": 83,
   "metadata": {},
   "outputs": [],
   "source": [
    "comparison = pd.DataFrame()\n"
   ]
  },
  {
   "cell_type": "code",
   "execution_count": 84,
   "metadata": {},
   "outputs": [],
   "source": [
    "comparison['Actual'] = y_test\n",
    "comparison['Predicted'] = y_predict"
   ]
  },
  {
   "cell_type": "code",
   "execution_count": 85,
   "metadata": {},
   "outputs": [
    {
     "data": {
      "text/html": [
       "<div>\n",
       "<style scoped>\n",
       "    .dataframe tbody tr th:only-of-type {\n",
       "        vertical-align: middle;\n",
       "    }\n",
       "\n",
       "    .dataframe tbody tr th {\n",
       "        vertical-align: top;\n",
       "    }\n",
       "\n",
       "    .dataframe thead th {\n",
       "        text-align: right;\n",
       "    }\n",
       "</style>\n",
       "<table border=\"1\" class=\"dataframe\">\n",
       "  <thead>\n",
       "    <tr style=\"text-align: right;\">\n",
       "      <th></th>\n",
       "      <th>Actual</th>\n",
       "      <th>Predicted</th>\n",
       "    </tr>\n",
       "  </thead>\n",
       "  <tbody>\n",
       "    <tr>\n",
       "      <th>559</th>\n",
       "      <td>1646.42970</td>\n",
       "      <td>3408.25</td>\n",
       "    </tr>\n",
       "    <tr>\n",
       "      <th>1087</th>\n",
       "      <td>11353.22760</td>\n",
       "      <td>13396.25</td>\n",
       "    </tr>\n",
       "    <tr>\n",
       "      <th>1020</th>\n",
       "      <td>8798.59300</td>\n",
       "      <td>11058.25</td>\n",
       "    </tr>\n",
       "    <tr>\n",
       "      <th>460</th>\n",
       "      <td>10381.47870</td>\n",
       "      <td>11934.25</td>\n",
       "    </tr>\n",
       "    <tr>\n",
       "      <th>802</th>\n",
       "      <td>2103.08000</td>\n",
       "      <td>1592.25</td>\n",
       "    </tr>\n",
       "    <tr>\n",
       "      <th>...</th>\n",
       "      <td>...</td>\n",
       "      <td>...</td>\n",
       "    </tr>\n",
       "    <tr>\n",
       "      <th>682</th>\n",
       "      <td>40103.89000</td>\n",
       "      <td>39108.25</td>\n",
       "    </tr>\n",
       "    <tr>\n",
       "      <th>629</th>\n",
       "      <td>42983.45850</td>\n",
       "      <td>52504.25</td>\n",
       "    </tr>\n",
       "    <tr>\n",
       "      <th>893</th>\n",
       "      <td>44202.65360</td>\n",
       "      <td>45224.25</td>\n",
       "    </tr>\n",
       "    <tr>\n",
       "      <th>807</th>\n",
       "      <td>2136.88225</td>\n",
       "      <td>4400.25</td>\n",
       "    </tr>\n",
       "    <tr>\n",
       "      <th>1165</th>\n",
       "      <td>5227.98875</td>\n",
       "      <td>6960.25</td>\n",
       "    </tr>\n",
       "  </tbody>\n",
       "</table>\n",
       "<p>268 rows × 2 columns</p>\n",
       "</div>"
      ],
      "text/plain": [
       "           Actual  Predicted\n",
       "559    1646.42970    3408.25\n",
       "1087  11353.22760   13396.25\n",
       "1020   8798.59300   11058.25\n",
       "460   10381.47870   11934.25\n",
       "802    2103.08000    1592.25\n",
       "...           ...        ...\n",
       "682   40103.89000   39108.25\n",
       "629   42983.45850   52504.25\n",
       "893   44202.65360   45224.25\n",
       "807    2136.88225    4400.25\n",
       "1165   5227.98875    6960.25\n",
       "\n",
       "[268 rows x 2 columns]"
      ]
     },
     "execution_count": 85,
     "metadata": {},
     "output_type": "execute_result"
    }
   ],
   "source": [
    "comparison"
   ]
  },
  {
   "attachments": {},
   "cell_type": "markdown",
   "metadata": {},
   "source": [
    "Evaluation\n"
   ]
  },
  {
   "cell_type": "code",
   "execution_count": 25,
   "metadata": {},
   "outputs": [],
   "source": [
    "from sklearn.metrics import r2_score"
   ]
  },
  {
   "cell_type": "code",
   "execution_count": 87,
   "metadata": {},
   "outputs": [
    {
     "data": {
      "text/plain": [
       "0.8419555876347757"
      ]
     },
     "execution_count": 87,
     "metadata": {},
     "output_type": "execute_result"
    }
   ],
   "source": [
    "r2_score(y_test,y_predict)"
   ]
  },
  {
   "attachments": {},
   "cell_type": "markdown",
   "metadata": {},
   "source": [
    "# Optimizers"
   ]
  },
  {
   "cell_type": "code",
   "execution_count": 88,
   "metadata": {},
   "outputs": [],
   "source": [
    "from tensorflow import keras"
   ]
  },
  {
   "cell_type": "code",
   "execution_count": 89,
   "metadata": {},
   "outputs": [],
   "source": [
    "from keras import layers"
   ]
  },
  {
   "cell_type": "code",
   "execution_count": 90,
   "metadata": {},
   "outputs": [
    {
     "ename": "AttributeError",
     "evalue": "'numpy.ndarray' object has no attribute '_unique_id'",
     "output_type": "error",
     "traceback": [
      "\u001b[1;31m---------------------------------------------------------------------------\u001b[0m",
      "\u001b[1;31mAttributeError\u001b[0m                            Traceback (most recent call last)",
      "Cell \u001b[1;32mIn[90], line 14\u001b[0m\n\u001b[0;32m      1\u001b[0m model \u001b[39m=\u001b[39m keras\u001b[39m.\u001b[39;49moptimizers\u001b[39m.\u001b[39;49mexperimental\u001b[39m.\u001b[39;49mSGD(\n\u001b[0;32m      2\u001b[0m     learning_rate\u001b[39m=\u001b[39;49m\u001b[39m0.01\u001b[39;49m,\n\u001b[0;32m      3\u001b[0m     momentum\u001b[39m=\u001b[39;49m\u001b[39m0.0\u001b[39;49m,\n\u001b[0;32m      4\u001b[0m     nesterov\u001b[39m=\u001b[39;49m\u001b[39mFalse\u001b[39;49;00m,\n\u001b[0;32m      5\u001b[0m     weight_decay\u001b[39m=\u001b[39;49m\u001b[39mNone\u001b[39;49;00m,\n\u001b[0;32m      6\u001b[0m     clipnorm\u001b[39m=\u001b[39;49m\u001b[39mNone\u001b[39;49;00m,\n\u001b[0;32m      7\u001b[0m     clipvalue\u001b[39m=\u001b[39;49m\u001b[39mNone\u001b[39;49;00m,\n\u001b[0;32m      8\u001b[0m     global_clipnorm\u001b[39m=\u001b[39;49m\u001b[39mNone\u001b[39;49;00m,\n\u001b[0;32m      9\u001b[0m     use_ema\u001b[39m=\u001b[39;49m\u001b[39mFalse\u001b[39;49;00m,\n\u001b[0;32m     10\u001b[0m     ema_momentum\u001b[39m=\u001b[39;49m\u001b[39m0.99\u001b[39;49m,\n\u001b[0;32m     11\u001b[0m     ema_overwrite_frequency\u001b[39m=\u001b[39;49m\u001b[39mNone\u001b[39;49;00m,\n\u001b[0;32m     12\u001b[0m     jit_compile\u001b[39m=\u001b[39;49m\u001b[39mTrue\u001b[39;49;00m,\n\u001b[0;32m     13\u001b[0m     name\u001b[39m=\u001b[39;49m\u001b[39m'\u001b[39;49m\u001b[39mSGD\u001b[39;49m\u001b[39m'\u001b[39;49m,\n\u001b[1;32m---> 14\u001b[0m )\u001b[39m.\u001b[39;49mbuild(x_train)\n",
      "File \u001b[1;32mc:\\Users\\ayush\\Desktop\\Study\\Surender sir research paper internship\\env\\Lib\\site-packages\\keras\\optimizers\\sgd.py:140\u001b[0m, in \u001b[0;36mSGD.build\u001b[1;34m(self, var_list)\u001b[0m\n\u001b[0;32m    131\u001b[0m \u001b[39mdef\u001b[39;00m \u001b[39mbuild\u001b[39m(\u001b[39mself\u001b[39m, var_list):\n\u001b[0;32m    132\u001b[0m \u001b[39m    \u001b[39m\u001b[39m\"\"\"Initialize optimizer variables.\u001b[39;00m\n\u001b[0;32m    133\u001b[0m \n\u001b[0;32m    134\u001b[0m \u001b[39m    SGD optimizer has one variable `momentums`, only set if `self.momentum`\u001b[39;00m\n\u001b[1;32m   (...)\u001b[0m\n\u001b[0;32m    138\u001b[0m \u001b[39m      var_list: list of model variables to build SGD variables on.\u001b[39;00m\n\u001b[0;32m    139\u001b[0m \u001b[39m    \"\"\"\u001b[39;00m\n\u001b[1;32m--> 140\u001b[0m     \u001b[39msuper\u001b[39;49m()\u001b[39m.\u001b[39;49mbuild(var_list)\n\u001b[0;32m    141\u001b[0m     \u001b[39mif\u001b[39;00m \u001b[39mhasattr\u001b[39m(\u001b[39mself\u001b[39m, \u001b[39m\"\u001b[39m\u001b[39m_built\u001b[39m\u001b[39m\"\u001b[39m) \u001b[39mand\u001b[39;00m \u001b[39mself\u001b[39m\u001b[39m.\u001b[39m_built:\n\u001b[0;32m    142\u001b[0m         \u001b[39mreturn\u001b[39;00m\n",
      "File \u001b[1;32mc:\\Users\\ayush\\Desktop\\Study\\Surender sir research paper internship\\env\\Lib\\site-packages\\keras\\optimizers\\optimizer.py:415\u001b[0m, in \u001b[0;36m_BaseOptimizer.build\u001b[1;34m(self, var_list)\u001b[0m\n\u001b[0;32m    413\u001b[0m \u001b[39mif\u001b[39;00m \u001b[39mgetattr\u001b[39m(\u001b[39mself\u001b[39m, \u001b[39m\"\u001b[39m\u001b[39m_built\u001b[39m\u001b[39m\"\u001b[39m, \u001b[39mFalse\u001b[39;00m):\n\u001b[0;32m    414\u001b[0m     \u001b[39mreturn\u001b[39;00m\n\u001b[1;32m--> 415\u001b[0m \u001b[39mself\u001b[39;49m\u001b[39m.\u001b[39;49m_build_index_dict(var_list)\n\u001b[0;32m    416\u001b[0m \u001b[39mif\u001b[39;00m \u001b[39mself\u001b[39m\u001b[39m.\u001b[39muse_ema:\n\u001b[0;32m    417\u001b[0m     \u001b[39mself\u001b[39m\u001b[39m.\u001b[39m_model_variables_moving_average \u001b[39m=\u001b[39m []\n",
      "File \u001b[1;32mc:\\Users\\ayush\\Desktop\\Study\\Surender sir research paper internship\\env\\Lib\\site-packages\\keras\\optimizers\\optimizer.py:441\u001b[0m, in \u001b[0;36m_BaseOptimizer._build_index_dict\u001b[1;34m(self, var_list)\u001b[0m\n\u001b[0;32m    439\u001b[0m \u001b[39mself\u001b[39m\u001b[39m.\u001b[39m_index_dict \u001b[39m=\u001b[39m {}\n\u001b[0;32m    440\u001b[0m \u001b[39mfor\u001b[39;00m i, var \u001b[39min\u001b[39;00m \u001b[39menumerate\u001b[39m(var_list):\n\u001b[1;32m--> 441\u001b[0m     var_key \u001b[39m=\u001b[39m \u001b[39mself\u001b[39;49m\u001b[39m.\u001b[39;49m_var_key(var)\n\u001b[0;32m    442\u001b[0m     \u001b[39mself\u001b[39m\u001b[39m.\u001b[39m_index_dict[var_key] \u001b[39m=\u001b[39m i\n",
      "File \u001b[1;32mc:\\Users\\ayush\\Desktop\\Study\\Surender sir research paper internship\\env\\Lib\\site-packages\\keras\\optimizers\\optimizer.py:1125\u001b[0m, in \u001b[0;36mOptimizer._var_key\u001b[1;34m(self, variable)\u001b[0m\n\u001b[0;32m   1117\u001b[0m \u001b[39melif\u001b[39;00m (\n\u001b[0;32m   1118\u001b[0m     tf_utils\u001b[39m.\u001b[39mis_extension_type(variable)\n\u001b[0;32m   1119\u001b[0m     \u001b[39mand\u001b[39;00m \u001b[39mhasattr\u001b[39m(variable, \u001b[39m\"\u001b[39m\u001b[39mhandle\u001b[39m\u001b[39m\"\u001b[39m)\n\u001b[1;32m   (...)\u001b[0m\n\u001b[0;32m   1122\u001b[0m     \u001b[39m# For ResourceVariables, the _distributed_container attribute\u001b[39;00m\n\u001b[0;32m   1123\u001b[0m     \u001b[39m# is added to their handle tensors.\u001b[39;00m\n\u001b[0;32m   1124\u001b[0m     variable \u001b[39m=\u001b[39m variable\u001b[39m.\u001b[39mhandle\u001b[39m.\u001b[39m_distributed_container()\n\u001b[1;32m-> 1125\u001b[0m \u001b[39mreturn\u001b[39;00m \u001b[39msuper\u001b[39;49m()\u001b[39m.\u001b[39;49m_var_key(variable)\n",
      "File \u001b[1;32mc:\\Users\\ayush\\Desktop\\Study\\Surender sir research paper internship\\env\\Lib\\site-packages\\keras\\optimizers\\optimizer.py:161\u001b[0m, in \u001b[0;36m_BaseOptimizer._var_key\u001b[1;34m(self, variable)\u001b[0m\n\u001b[0;32m    157\u001b[0m \u001b[39m\u001b[39m\u001b[39m\"\"\"Get a unique identifier of the given variable.\"\"\"\u001b[39;00m\n\u001b[0;32m    158\u001b[0m \u001b[39m# Get the distributed variable if it exists.\u001b[39;00m\n\u001b[0;32m    159\u001b[0m \u001b[39m# TODO(b/199214315): replace _unique_id with ref() after fixing ref()\u001b[39;00m\n\u001b[0;32m    160\u001b[0m \u001b[39m# issues on AggregatingVariable.\u001b[39;00m\n\u001b[1;32m--> 161\u001b[0m \u001b[39mreturn\u001b[39;00m variable\u001b[39m.\u001b[39;49m_unique_id\n",
      "\u001b[1;31mAttributeError\u001b[0m: 'numpy.ndarray' object has no attribute '_unique_id'"
     ]
    }
   ],
   "source": [
    "model = keras.optimizers.experimental.SGD(\n",
    "    learning_rate=0.01,\n",
    "    momentum=0.0,\n",
    "    nesterov=False,\n",
    "    weight_decay=None,\n",
    "    clipnorm=None,\n",
    "    clipvalue=None,\n",
    "    global_clipnorm=None,\n",
    "    use_ema=False,\n",
    "    ema_momentum=0.99,\n",
    "    ema_overwrite_frequency=None,\n",
    "    jit_compile=True,\n",
    "    name='SGD',\n",
    ").build(x_train)"
   ]
  },
  {
   "cell_type": "code",
   "execution_count": 91,
   "metadata": {},
   "outputs": [],
   "source": [
    "from sklearn.ensemble import AdaBoostRegressor\n",
    "model = AdaBoostRegressor(n_estimators=100, random_state=0, learning_rate=0.1) "
   ]
  },
  {
   "cell_type": "code",
   "execution_count": 92,
   "metadata": {},
   "outputs": [],
   "source": [
    "model.fit(poly_x_train,y_train)\n",
    "y_predict_ADAregressor = model.predict(poly_x_test)"
   ]
  },
  {
   "cell_type": "code",
   "execution_count": 93,
   "metadata": {},
   "outputs": [
    {
     "data": {
      "text/html": [
       "<div>\n",
       "<style scoped>\n",
       "    .dataframe tbody tr th:only-of-type {\n",
       "        vertical-align: middle;\n",
       "    }\n",
       "\n",
       "    .dataframe tbody tr th {\n",
       "        vertical-align: top;\n",
       "    }\n",
       "\n",
       "    .dataframe thead th {\n",
       "        text-align: right;\n",
       "    }\n",
       "</style>\n",
       "<table border=\"1\" class=\"dataframe\">\n",
       "  <thead>\n",
       "    <tr style=\"text-align: right;\">\n",
       "      <th></th>\n",
       "      <th>Actual</th>\n",
       "      <th>Predicted</th>\n",
       "    </tr>\n",
       "  </thead>\n",
       "  <tbody>\n",
       "    <tr>\n",
       "      <th>559</th>\n",
       "      <td>1646.42970</td>\n",
       "      <td>6985.141464</td>\n",
       "    </tr>\n",
       "    <tr>\n",
       "      <th>1087</th>\n",
       "      <td>11353.22760</td>\n",
       "      <td>14606.854406</td>\n",
       "    </tr>\n",
       "    <tr>\n",
       "      <th>1020</th>\n",
       "      <td>8798.59300</td>\n",
       "      <td>13817.441101</td>\n",
       "    </tr>\n",
       "    <tr>\n",
       "      <th>460</th>\n",
       "      <td>10381.47870</td>\n",
       "      <td>14312.295489</td>\n",
       "    </tr>\n",
       "    <tr>\n",
       "      <th>802</th>\n",
       "      <td>2103.08000</td>\n",
       "      <td>6792.775421</td>\n",
       "    </tr>\n",
       "    <tr>\n",
       "      <th>...</th>\n",
       "      <td>...</td>\n",
       "      <td>...</td>\n",
       "    </tr>\n",
       "    <tr>\n",
       "      <th>682</th>\n",
       "      <td>40103.89000</td>\n",
       "      <td>9971.247899</td>\n",
       "    </tr>\n",
       "    <tr>\n",
       "      <th>629</th>\n",
       "      <td>42983.45850</td>\n",
       "      <td>41354.883691</td>\n",
       "    </tr>\n",
       "    <tr>\n",
       "      <th>893</th>\n",
       "      <td>44202.65360</td>\n",
       "      <td>48251.684417</td>\n",
       "    </tr>\n",
       "    <tr>\n",
       "      <th>807</th>\n",
       "      <td>2136.88225</td>\n",
       "      <td>7097.323078</td>\n",
       "    </tr>\n",
       "    <tr>\n",
       "      <th>1165</th>\n",
       "      <td>5227.98875</td>\n",
       "      <td>7381.166185</td>\n",
       "    </tr>\n",
       "  </tbody>\n",
       "</table>\n",
       "<p>268 rows × 2 columns</p>\n",
       "</div>"
      ],
      "text/plain": [
       "           Actual     Predicted\n",
       "559    1646.42970   6985.141464\n",
       "1087  11353.22760  14606.854406\n",
       "1020   8798.59300  13817.441101\n",
       "460   10381.47870  14312.295489\n",
       "802    2103.08000   6792.775421\n",
       "...           ...           ...\n",
       "682   40103.89000   9971.247899\n",
       "629   42983.45850  41354.883691\n",
       "893   44202.65360  48251.684417\n",
       "807    2136.88225   7097.323078\n",
       "1165   5227.98875   7381.166185\n",
       "\n",
       "[268 rows x 2 columns]"
      ]
     },
     "execution_count": 93,
     "metadata": {},
     "output_type": "execute_result"
    }
   ],
   "source": [
    "comparison = pd.DataFrame()\n",
    "comparison['Actual'] = y_test\n",
    "comparison['Predicted'] = y_predict_ADAregressor\n",
    "comparison"
   ]
  },
  {
   "cell_type": "code",
   "execution_count": 94,
   "metadata": {},
   "outputs": [
    {
     "data": {
      "text/plain": [
       "0.808602570861185"
      ]
     },
     "execution_count": 94,
     "metadata": {},
     "output_type": "execute_result"
    }
   ],
   "source": [
    "r2_score(y_test,y_predict_ADAregressor)"
   ]
  },
  {
   "cell_type": "code",
   "execution_count": 123,
   "metadata": {},
   "outputs": [
    {
     "ename": "NotFittedError",
     "evalue": "This LinearRegression instance is not fitted yet. Call 'fit' with appropriate arguments before using this estimator.",
     "output_type": "error",
     "traceback": [
      "\u001b[1;31m---------------------------------------------------------------------------\u001b[0m",
      "\u001b[1;31mNotFittedError\u001b[0m                            Traceback (most recent call last)",
      "Cell \u001b[1;32mIn[123], line 2\u001b[0m\n\u001b[0;32m      1\u001b[0m plt\u001b[39m.\u001b[39mscatter(X[\u001b[39m'\u001b[39m\u001b[39mbmi\u001b[39m\u001b[39m'\u001b[39m],Y)\n\u001b[1;32m----> 2\u001b[0m plt\u001b[39m.\u001b[39mplot(X[\u001b[39m'\u001b[39m\u001b[39mbmi\u001b[39m\u001b[39m'\u001b[39m],LinearRegression()\u001b[39m.\u001b[39;49mpredict(X[\u001b[39m'\u001b[39;49m\u001b[39mbmi\u001b[39;49m\u001b[39m'\u001b[39;49m]), color\u001b[39m=\u001b[39m\u001b[39m'\u001b[39m\u001b[39mred\u001b[39m\u001b[39m'\u001b[39m)\n\u001b[0;32m      3\u001b[0m plt\u001b[39m.\u001b[39mshow()\n",
      "File \u001b[1;32mc:\\Users\\ayush\\Desktop\\Study\\Surender sir research paper internship\\env\\Lib\\site-packages\\sklearn\\linear_model\\_base.py:354\u001b[0m, in \u001b[0;36mLinearModel.predict\u001b[1;34m(self, X)\u001b[0m\n\u001b[0;32m    340\u001b[0m \u001b[39mdef\u001b[39;00m \u001b[39mpredict\u001b[39m(\u001b[39mself\u001b[39m, X):\n\u001b[0;32m    341\u001b[0m \u001b[39m    \u001b[39m\u001b[39m\"\"\"\u001b[39;00m\n\u001b[0;32m    342\u001b[0m \u001b[39m    Predict using the linear model.\u001b[39;00m\n\u001b[0;32m    343\u001b[0m \n\u001b[1;32m   (...)\u001b[0m\n\u001b[0;32m    352\u001b[0m \u001b[39m        Returns predicted values.\u001b[39;00m\n\u001b[0;32m    353\u001b[0m \u001b[39m    \"\"\"\u001b[39;00m\n\u001b[1;32m--> 354\u001b[0m     \u001b[39mreturn\u001b[39;00m \u001b[39mself\u001b[39;49m\u001b[39m.\u001b[39;49m_decision_function(X)\n",
      "File \u001b[1;32mc:\\Users\\ayush\\Desktop\\Study\\Surender sir research paper internship\\env\\Lib\\site-packages\\sklearn\\linear_model\\_base.py:335\u001b[0m, in \u001b[0;36mLinearModel._decision_function\u001b[1;34m(self, X)\u001b[0m\n\u001b[0;32m    334\u001b[0m \u001b[39mdef\u001b[39;00m \u001b[39m_decision_function\u001b[39m(\u001b[39mself\u001b[39m, X):\n\u001b[1;32m--> 335\u001b[0m     check_is_fitted(\u001b[39mself\u001b[39;49m)\n\u001b[0;32m    337\u001b[0m     X \u001b[39m=\u001b[39m \u001b[39mself\u001b[39m\u001b[39m.\u001b[39m_validate_data(X, accept_sparse\u001b[39m=\u001b[39m[\u001b[39m\"\u001b[39m\u001b[39mcsr\u001b[39m\u001b[39m\"\u001b[39m, \u001b[39m\"\u001b[39m\u001b[39mcsc\u001b[39m\u001b[39m\"\u001b[39m, \u001b[39m\"\u001b[39m\u001b[39mcoo\u001b[39m\u001b[39m\"\u001b[39m], reset\u001b[39m=\u001b[39m\u001b[39mFalse\u001b[39;00m)\n\u001b[0;32m    338\u001b[0m     \u001b[39mreturn\u001b[39;00m safe_sparse_dot(X, \u001b[39mself\u001b[39m\u001b[39m.\u001b[39mcoef_\u001b[39m.\u001b[39mT, dense_output\u001b[39m=\u001b[39m\u001b[39mTrue\u001b[39;00m) \u001b[39m+\u001b[39m \u001b[39mself\u001b[39m\u001b[39m.\u001b[39mintercept_\n",
      "File \u001b[1;32mc:\\Users\\ayush\\Desktop\\Study\\Surender sir research paper internship\\env\\Lib\\site-packages\\sklearn\\utils\\validation.py:1390\u001b[0m, in \u001b[0;36mcheck_is_fitted\u001b[1;34m(estimator, attributes, msg, all_or_any)\u001b[0m\n\u001b[0;32m   1385\u001b[0m     fitted \u001b[39m=\u001b[39m [\n\u001b[0;32m   1386\u001b[0m         v \u001b[39mfor\u001b[39;00m v \u001b[39min\u001b[39;00m \u001b[39mvars\u001b[39m(estimator) \u001b[39mif\u001b[39;00m v\u001b[39m.\u001b[39mendswith(\u001b[39m\"\u001b[39m\u001b[39m_\u001b[39m\u001b[39m\"\u001b[39m) \u001b[39mand\u001b[39;00m \u001b[39mnot\u001b[39;00m v\u001b[39m.\u001b[39mstartswith(\u001b[39m\"\u001b[39m\u001b[39m__\u001b[39m\u001b[39m\"\u001b[39m)\n\u001b[0;32m   1387\u001b[0m     ]\n\u001b[0;32m   1389\u001b[0m \u001b[39mif\u001b[39;00m \u001b[39mnot\u001b[39;00m fitted:\n\u001b[1;32m-> 1390\u001b[0m     \u001b[39mraise\u001b[39;00m NotFittedError(msg \u001b[39m%\u001b[39m {\u001b[39m\"\u001b[39m\u001b[39mname\u001b[39m\u001b[39m\"\u001b[39m: \u001b[39mtype\u001b[39m(estimator)\u001b[39m.\u001b[39m\u001b[39m__name__\u001b[39m})\n",
      "\u001b[1;31mNotFittedError\u001b[0m: This LinearRegression instance is not fitted yet. Call 'fit' with appropriate arguments before using this estimator."
     ]
    },
    {
     "data": {
      "image/png": "[encoded data removed]",
      "text/plain": [
       "<Figure size 640x480 with 1 Axes>"
      ]
     },
     "metadata": {},
     "output_type": "display_data"
    }
   ],
   "source": [
    "plt.scatter(X['bmi'],Y)\n",
    "plt(X['bmi'],LinearRegression().fit(x_).predict(X['bmi']), color='red')\n",
    "plt.show()"
   ]
  },
  {
   "cell_type": "code",
   "execution_count": 133,
   "metadata": {},
   "outputs": [
    {
     "data": {
      "text/plain": [
       "[<matplotlib.lines.Line2D at 0x1fcdbaab790>]"
      ]
     },
     "execution_count": 133,
     "metadata": {},
     "output_type": "execute_result"
    },
    {
     "data": {
      "image/png": "[encoded data removed]",
      "text/plain": [
       "<Figure size 640x480 with 1 Axes>"
      ]
     },
     "metadata": {},
     "output_type": "display_data"
    }
   ],
   "source": [
    "col = 'bmi'\n",
    "plt.scatter(X[col],Y)\n",
    "plt.plot(np.unique(X[col]), np.poly1d(np.polyfit(X[col], Y, 1))(np.unique(X[col])), color='red')"
   ]
  },
  {
   "cell_type": "code",
   "execution_count": 47,
   "metadata": {},
   "outputs": [
    {
     "data": {
      "text/plain": [
       "12042"
      ]
     },
     "execution_count": 47,
     "metadata": {},
     "output_type": "execute_result"
    }
   ],
   "source": [
    "X.size"
   ]
  },
  {
   "cell_type": "code",
   "execution_count": 130,
   "metadata": {},
   "outputs": [
    {
     "data": {
      "text/plain": [
       "'age'"
      ]
     },
     "execution_count": 130,
     "metadata": {},
     "output_type": "execute_result"
    }
   ],
   "source": [
    "X.columns[0]"
   ]
  },
  {
   "attachments": {},
   "cell_type": "markdown",
   "metadata": {},
   "source": [
    "# SGD"
   ]
  },
  {
   "cell_type": "code",
   "execution_count": 8,
   "metadata": {},
   "outputs": [],
   "source": [
    "import tensorflow as tf;\n",
    "import numpy as np;\n",
    "import argparse"
   ]
  },
  {
   "cell_type": "code",
   "execution_count": 9,
   "metadata": {},
   "outputs": [],
   "source": [
    "from tensorflow import keras\n",
    "from tensorflow.keras import layers\n",
    "from tensorflow.keras.models import Sequential\n",
    "from tensorflow.keras.layers import Dense\n",
    "from tensorflow.keras.optimizers import SGD, Adadelta, Adam, Adagrad, Adamax, Nadam, RMSprop \n",
    "from tensorflow.keras.losses import mse"
   ]
  },
  {
   "cell_type": "code",
   "execution_count": 12,
   "metadata": {},
   "outputs": [
    {
     "name": "stdout",
     "output_type": "stream",
     "text": [
      "Printing behins here: ----------------\n",
      "Epoch 1/100\n",
      "34/34 [==============================] - 4s 3ms/step - loss: 13199.0742\n",
      "Epoch 2/100\n",
      "34/34 [==============================] - 0s 2ms/step - loss: 13115.2383\n",
      "Epoch 3/100\n",
      "34/34 [==============================] - 0s 1ms/step - loss: 13031.3906\n",
      "Epoch 4/100\n",
      "34/34 [==============================] - 0s 1ms/step - loss: 12947.6338\n",
      "Epoch 5/100\n",
      "34/34 [==============================] - 0s 1ms/step - loss: 12863.8203\n",
      "Epoch 6/100\n",
      "34/34 [==============================] - 0s 1ms/step - loss: 12780.0498\n",
      "Epoch 7/100\n",
      "34/34 [==============================] - 0s 1ms/step - loss: 12696.2959\n",
      "Epoch 8/100\n",
      "34/34 [==============================] - 0s 1ms/step - loss: 12612.3838\n",
      "Epoch 9/100\n",
      "34/34 [==============================] - 0s 1ms/step - loss: 12528.6406\n",
      "Epoch 10/100\n",
      "34/34 [==============================] - 0s 1ms/step - loss: 12444.7354\n",
      "Epoch 11/100\n",
      "34/34 [==============================] - 0s 1ms/step - loss: 12360.8877\n",
      "Epoch 12/100\n",
      "34/34 [==============================] - 0s 1ms/step - loss: 12276.9326\n",
      "Epoch 13/100\n",
      "34/34 [==============================] - 0s 1ms/step - loss: 12193.0410\n",
      "Epoch 14/100\n",
      "34/34 [==============================] - 0s 1ms/step - loss: 12109.2305\n",
      "Epoch 15/100\n",
      "34/34 [==============================] - 0s 1ms/step - loss: 12025.3926\n",
      "Epoch 16/100\n",
      "34/34 [==============================] - 0s 1ms/step - loss: 11941.9561\n",
      "Epoch 17/100\n",
      "34/34 [==============================] - 0s 1ms/step - loss: 11858.5664\n",
      "Epoch 18/100\n",
      "34/34 [==============================] - 0s 1ms/step - loss: 11775.0762\n",
      "Epoch 19/100\n",
      "34/34 [==============================] - 0s 1ms/step - loss: 11691.7910\n",
      "Epoch 20/100\n",
      "34/34 [==============================] - 0s 1ms/step - loss: 11608.8184\n",
      "Epoch 21/100\n",
      "34/34 [==============================] - 0s 999us/step - loss: 11526.2207\n",
      "Epoch 22/100\n",
      "34/34 [==============================] - 0s 1ms/step - loss: 11444.3320\n",
      "Epoch 23/100\n",
      "34/34 [==============================] - 0s 1ms/step - loss: 11362.5996\n",
      "Epoch 24/100\n",
      "34/34 [==============================] - 0s 1ms/step - loss: 11281.3604\n",
      "Epoch 25/100\n",
      "34/34 [==============================] - 0s 1ms/step - loss: 11200.6494\n",
      "Epoch 26/100\n",
      "34/34 [==============================] - 0s 1ms/step - loss: 11120.8193\n",
      "Epoch 27/100\n",
      "34/34 [==============================] - 0s 1ms/step - loss: 11041.8271\n",
      "Epoch 28/100\n",
      "34/34 [==============================] - 0s 997us/step - loss: 10963.9658\n",
      "Epoch 29/100\n",
      "34/34 [==============================] - 0s 1ms/step - loss: 10886.1543\n",
      "Epoch 30/100\n",
      "34/34 [==============================] - 0s 1ms/step - loss: 10809.1484\n",
      "Epoch 31/100\n",
      "34/34 [==============================] - 0s 1ms/step - loss: 10733.7812\n",
      "Epoch 32/100\n",
      "34/34 [==============================] - 0s 1ms/step - loss: 10658.6152\n",
      "Epoch 33/100\n",
      "34/34 [==============================] - 0s 1ms/step - loss: 10584.7520\n",
      "Epoch 34/100\n",
      "34/34 [==============================] - 0s 1ms/step - loss: 10512.2441\n",
      "Epoch 35/100\n",
      "34/34 [==============================] - 0s 1ms/step - loss: 10440.8994\n",
      "Epoch 36/100\n",
      "34/34 [==============================] - 0s 1ms/step - loss: 10370.7822\n",
      "Epoch 37/100\n",
      "34/34 [==============================] - 0s 1ms/step - loss: 10301.7607\n",
      "Epoch 38/100\n",
      "34/34 [==============================] - 0s 1ms/step - loss: 10234.6260\n",
      "Epoch 39/100\n",
      "34/34 [==============================] - 0s 2ms/step - loss: 10169.0879\n",
      "Epoch 40/100\n",
      "34/34 [==============================] - 0s 2ms/step - loss: 10104.5908\n",
      "Epoch 41/100\n",
      "34/34 [==============================] - 0s 2ms/step - loss: 10040.7637\n",
      "Epoch 42/100\n",
      "34/34 [==============================] - 0s 2ms/step - loss: 9977.3525\n",
      "Epoch 43/100\n",
      "34/34 [==============================] - 0s 1ms/step - loss: 9914.7188\n",
      "Epoch 44/100\n",
      "34/34 [==============================] - 0s 1ms/step - loss: 9853.1846\n",
      "Epoch 45/100\n",
      "34/34 [==============================] - 0s 1ms/step - loss: 9792.5576\n",
      "Epoch 46/100\n",
      "34/34 [==============================] - 0s 1ms/step - loss: 9733.1543\n",
      "Epoch 47/100\n",
      "34/34 [==============================] - 0s 1ms/step - loss: 9676.3779\n",
      "Epoch 48/100\n",
      "34/34 [==============================] - 0s 2ms/step - loss: 9620.4551\n",
      "Epoch 49/100\n",
      "34/34 [==============================] - 0s 1ms/step - loss: 9565.3447\n",
      "Epoch 50/100\n",
      "34/34 [==============================] - 0s 1ms/step - loss: 9510.7783\n",
      "Epoch 51/100\n",
      "34/34 [==============================] - 0s 1ms/step - loss: 9456.5850\n",
      "Epoch 52/100\n",
      "34/34 [==============================] - 0s 1ms/step - loss: 9403.2539\n",
      "Epoch 53/100\n",
      "34/34 [==============================] - 0s 1ms/step - loss: 9350.3369\n",
      "Epoch 54/100\n",
      "34/34 [==============================] - 0s 1ms/step - loss: 9297.7842\n",
      "Epoch 55/100\n",
      "34/34 [==============================] - 0s 1ms/step - loss: 9246.5186\n",
      "Epoch 56/100\n",
      "34/34 [==============================] - 0s 1ms/step - loss: 9195.4268\n",
      "Epoch 57/100\n",
      "34/34 [==============================] - 0s 1ms/step - loss: 9146.0205\n",
      "Epoch 58/100\n",
      "34/34 [==============================] - 0s 2ms/step - loss: 9098.1797\n",
      "Epoch 59/100\n",
      "34/34 [==============================] - 0s 2ms/step - loss: 9051.1348\n",
      "Epoch 60/100\n",
      "34/34 [==============================] - 0s 1ms/step - loss: 9004.1836\n",
      "Epoch 61/100\n",
      "34/34 [==============================] - 0s 1ms/step - loss: 8958.1504\n",
      "Epoch 62/100\n",
      "34/34 [==============================] - 0s 1ms/step - loss: 8913.6104\n",
      "Epoch 63/100\n",
      "34/34 [==============================] - 0s 1ms/step - loss: 8870.1045\n",
      "Epoch 64/100\n",
      "34/34 [==============================] - 0s 1ms/step - loss: 8827.5547\n",
      "Epoch 65/100\n",
      "34/34 [==============================] - 0s 1ms/step - loss: 8785.7344\n",
      "Epoch 66/100\n",
      "34/34 [==============================] - 0s 1ms/step - loss: 8745.2236\n",
      "Epoch 67/100\n",
      "34/34 [==============================] - 0s 1ms/step - loss: 8705.5273\n",
      "Epoch 68/100\n",
      "34/34 [==============================] - 0s 1ms/step - loss: 8666.5449\n",
      "Epoch 69/100\n",
      "34/34 [==============================] - 0s 1ms/step - loss: 8628.5654\n",
      "Epoch 70/100\n",
      "34/34 [==============================] - 0s 1ms/step - loss: 8592.2324\n",
      "Epoch 71/100\n",
      "34/34 [==============================] - 0s 1ms/step - loss: 8555.4775\n",
      "Epoch 72/100\n",
      "34/34 [==============================] - 0s 1ms/step - loss: 8520.0771\n",
      "Epoch 73/100\n",
      "34/34 [==============================] - 0s 1ms/step - loss: 8485.5127\n",
      "Epoch 74/100\n",
      "34/34 [==============================] - 0s 1ms/step - loss: 8452.0967\n",
      "Epoch 75/100\n",
      "34/34 [==============================] - 0s 4ms/step - loss: 8419.1289\n",
      "Epoch 76/100\n",
      "34/34 [==============================] - 0s 2ms/step - loss: 8387.2344\n",
      "Epoch 77/100\n",
      "34/34 [==============================] - 0s 1ms/step - loss: 8356.0459\n",
      "Epoch 78/100\n",
      "34/34 [==============================] - 0s 1ms/step - loss: 8325.5000\n",
      "Epoch 79/100\n",
      "34/34 [==============================] - 0s 1ms/step - loss: 8295.6533\n",
      "Epoch 80/100\n",
      "34/34 [==============================] - 0s 1ms/step - loss: 8266.7646\n",
      "Epoch 81/100\n",
      "34/34 [==============================] - 0s 1ms/step - loss: 8238.6309\n",
      "Epoch 82/100\n",
      "34/34 [==============================] - 0s 2ms/step - loss: 8211.2617\n",
      "Epoch 83/100\n",
      "34/34 [==============================] - 0s 1ms/step - loss: 8184.7524\n",
      "Epoch 84/100\n",
      "34/34 [==============================] - 0s 2ms/step - loss: 8159.1616\n",
      "Epoch 85/100\n",
      "34/34 [==============================] - 0s 2ms/step - loss: 8134.1597\n",
      "Epoch 86/100\n",
      "34/34 [==============================] - 0s 1ms/step - loss: 8110.3794\n",
      "Epoch 87/100\n",
      "34/34 [==============================] - 0s 1ms/step - loss: 8086.9805\n",
      "Epoch 88/100\n",
      "34/34 [==============================] - 0s 1ms/step - loss: 8064.1831\n",
      "Epoch 89/100\n",
      "34/34 [==============================] - 0s 1ms/step - loss: 8042.1348\n",
      "Epoch 90/100\n",
      "34/34 [==============================] - 0s 1ms/step - loss: 8020.1123\n",
      "Epoch 91/100\n",
      "34/34 [==============================] - 0s 2ms/step - loss: 7998.8374\n",
      "Epoch 92/100\n",
      "34/34 [==============================] - 0s 1ms/step - loss: 7977.7617\n",
      "Epoch 93/100\n",
      "34/34 [==============================] - 0s 1ms/step - loss: 7957.5122\n",
      "Epoch 94/100\n",
      "34/34 [==============================] - 0s 1ms/step - loss: 7938.0093\n",
      "Epoch 95/100\n",
      "34/34 [==============================] - 0s 1ms/step - loss: 7918.6123\n",
      "Epoch 96/100\n",
      "34/34 [==============================] - 0s 1ms/step - loss: 7899.4487\n",
      "Epoch 97/100\n",
      "34/34 [==============================] - 0s 1ms/step - loss: 7880.8149\n",
      "Epoch 98/100\n",
      "34/34 [==============================] - 0s 1ms/step - loss: 7863.1196\n",
      "Epoch 99/100\n",
      "34/34 [==============================] - 0s 1ms/step - loss: 7845.4419\n",
      "Epoch 100/100\n",
      "34/34 [==============================] - 0s 1ms/step - loss: 7828.3833\n"
     ]
    },
    {
     "data": {
      "text/plain": [
       "<matplotlib.legend.Legend at 0x1d8c8ab7950>"
      ]
     },
     "execution_count": 12,
     "metadata": {},
     "output_type": "execute_result"
    },
    {
     "data": {
      "image/png": "[encoded data removed]",
      "text/plain": [
       "<Figure size 640x480 with 1 Axes>"
      ]
     },
     "metadata": {},
     "output_type": "display_data"
    }
   ],
   "source": [
    "#SGD\n",
    "# Use the required optimizer to compile the model\n",
    "\n",
    "model = Sequential()\n",
    "model.add(Dense(1))\n",
    "\n",
    "print(\"Printing behins here: ----------------\")\n",
    "model.compile(optimizer=tf.keras.optimizers.SGD(learning_rate=0.001,momentum=0.0,\n",
    "    nesterov=False,),loss=tf.keras.losses.mean_absolute_error)\n",
    "train = model.fit(x_train,y_train,epochs=100)\n",
    "\n",
    "#loss over time\n",
    "plt.plot(train.history['loss'],label='loss')\n",
    "plt.xlabel('epochs')\n",
    "plt.ylabel('loss')\n",
    "plt.legend('SGD')\n",
    "# model.predict(x_test,y_test)"
   ]
  },
  {
   "cell_type": "code",
   "execution_count": 50,
   "metadata": {},
   "outputs": [
    {
     "data": {
      "text/plain": [
       "216     10355.64100\n",
       "731     10065.41300\n",
       "866      1141.44510\n",
       "202     13012.20865\n",
       "820      7445.91800\n",
       "           ...     \n",
       "715     12146.97100\n",
       "905      4564.19145\n",
       "1096    44641.19740\n",
       "235     19444.26580\n",
       "1061    11554.22360\n",
       "Name: charges, Length: 1070, dtype: float64"
      ]
     },
     "execution_count": 50,
     "metadata": {},
     "output_type": "execute_result"
    }
   ],
   "source": [
    "y_train"
   ]
  },
  {
   "cell_type": "code",
   "execution_count": null,
   "metadata": {},
   "outputs": [],
   "source": []
  },
  {
   "cell_type": "code",
   "execution_count": 10,
   "metadata": {},
   "outputs": [],
   "source": [
    "\n",
    "def sigmoid_activation(x):\n",
    "\t# compute the sigmoid activation value for a given input\n",
    "\treturn 1.0 / (1 + np.exp(-x))\n",
    "def sigmoid_deriv(x):\n",
    "\t# compute the derivative of the sigmoid function ASSUMING\n",
    "\t# that the input \"x\" has already been passed through the sigmoid\n",
    "\t# activation function\n",
    "\treturn x * (1 - x)"
   ]
  },
  {
   "cell_type": "code",
   "execution_count": 11,
   "metadata": {},
   "outputs": [],
   "source": [
    "def predict(X, W):\n",
    "\t# take the dot product between our features and weight matrix\n",
    "\tpreds = sigmoid_activation(X.dot(W))\n",
    "\t# apply a step function to threshold the outputs to binary\n",
    "\t# class labels\n",
    "\tpreds[preds <= 0.5] = 0\n",
    "\tpreds[preds > 0] = 1\n",
    "\t# return the predictions\n",
    "\treturn preds"
   ]
  },
  {
   "cell_type": "code",
   "execution_count": 12,
   "metadata": {},
   "outputs": [],
   "source": [
    "def next_batch(X, y, batchSize):\n",
    "\t# loop over our dataset \"X\" in mini-batches, yielding a tuple of\n",
    "\t# the current batched data and labels\n",
    "\tfor i in np.arange(0, X.shape[0], batchSize):\n",
    "\t\tyield (X[i:i + batchSize], y[i:i + batchSize])"
   ]
  },
  {
   "cell_type": "code",
   "execution_count": 13,
   "metadata": {},
   "outputs": [],
   "source": [
    "X = np.c_[X, np.ones((X.shape[0]))]"
   ]
  },
  {
   "cell_type": "code",
   "execution_count": 14,
   "metadata": {},
   "outputs": [
    {
     "data": {
      "text/plain": [
       "array([[0., 0., 0., ..., 0., 1., 1.],\n",
       "       [0., 0., 1., ..., 1., 0., 1.],\n",
       "       [0., 0., 1., ..., 3., 0., 1.],\n",
       "       ...,\n",
       "       [0., 0., 1., ..., 0., 0., 1.],\n",
       "       [0., 0., 0., ..., 0., 0., 1.],\n",
       "       [0., 1., 0., ..., 0., 1., 1.]])"
      ]
     },
     "execution_count": 14,
     "metadata": {},
     "output_type": "execute_result"
    }
   ],
   "source": [
    "X"
   ]
  },
  {
   "cell_type": "code",
   "execution_count": 15,
   "metadata": {},
   "outputs": [],
   "source": [
    "from sklearn.model_selection import train_test_split\n",
    "x_train, x_test,y_train,y_test = train_test_split(X,Y, test_size=0.20, random_state=1)"
   ]
  },
  {
   "cell_type": "code",
   "execution_count": 16,
   "metadata": {},
   "outputs": [
    {
     "name": "stdout",
     "output_type": "stream",
     "text": [
      "[INFO] training...\n"
     ]
    }
   ],
   "source": [
    "# initialize our weight matrix and list of losses\n",
    "print(\"[INFO] training...\")\n",
    "W = np.random.randn(X.shape[1], 1)\n",
    "losses = []"
   ]
  },
  {
   "cell_type": "code",
   "execution_count": 17,
   "metadata": {},
   "outputs": [
    {
     "name": "stdout",
     "output_type": "stream",
     "text": [
      "100\n"
     ]
    }
   ],
   "source": [
    "# construct the argument parse and parse the arguments\n",
    "\n",
    "import easydict\n",
    "args = easydict.EasyDict({\n",
    "        \"batch-size\": 32,\n",
    "        \"epochs\": 100,\n",
    "        \"alpha\": 0.01,\n",
    "})\n",
    "print(args[\"epochs\"])"
   ]
  },
  {
   "cell_type": "code",
   "execution_count": 24,
   "metadata": {},
   "outputs": [
    {
     "name": "stdout",
     "output_type": "stream",
     "text": [
      "[[1. 1. 1. 1. 1. 1. 1. 1. 1. 1.]\n",
      " [1. 1. 1. 1. 1. 1. 1. 1. 1. 1.]\n",
      " [1. 1. 1. 1. 1. 1. 1. 1. 1. 1.]\n",
      " [1. 1. 1. 1. 1. 1. 1. 1. 1. 1.]\n",
      " [1. 1. 1. 1. 1. 1. 1. 1. 1. 1.]\n",
      " [1. 1. 1. 1. 1. 1. 1. 1. 1. 1.]\n",
      " [1. 1. 1. 1. 1. 1. 1. 1. 1. 1.]\n",
      " [1. 1. 1. 1. 1. 1. 1. 1. 1. 1.]\n",
      " [1. 1. 1. 1. 1. 1. 1. 1. 1. 1.]\n",
      " [1. 1. 1. 1. 1. 1. 1. 1. 1. 1.]\n",
      " [1. 1. 1. 1. 1. 1. 1. 1. 1. 1.]\n",
      " [1. 1. 1. 1. 1. 1. 1. 1. 1. 1.]\n",
      " [1. 1. 1. 1. 1. 1. 1. 1. 1. 1.]\n",
      " [1. 1. 1. 1. 1. 1. 1. 1. 1. 1.]\n",
      " [1. 1. 1. 1. 1. 1. 1. 1. 1. 1.]\n",
      " [1. 1. 1. 1. 1. 1. 1. 1. 1. 1.]\n",
      " [1. 1. 1. 1. 1. 1. 1. 1. 1. 1.]\n",
      " [1. 1. 1. 1. 1. 1. 1. 1. 1. 1.]\n",
      " [1. 1. 1. 1. 1. 1. 1. 1. 1. 1.]\n",
      " [1. 1. 1. 1. 1. 1. 1. 1. 1. 1.]\n",
      " [1. 1. 1. 1. 1. 1. 1. 1. 1. 1.]\n",
      " [1. 1. 1. 1. 1. 1. 1. 1. 1. 1.]\n",
      " [1. 1. 1. 1. 1. 1. 1. 1. 1. 1.]\n",
      " [1. 1. 1. 1. 1. 1. 1. 1. 1. 1.]\n",
      " [1. 1. 1. 1. 1. 1. 1. 1. 1. 1.]\n",
      " [1. 1. 1. 1. 1. 1. 1. 1. 1. 1.]\n",
      " [1. 1. 1. 1. 1. 1. 1. 1. 1. 1.]\n",
      " [1. 1. 1. 1. 1. 1. 1. 1. 1. 1.]\n",
      " [1. 1. 1. 1. 1. 1. 1. 1. 1. 1.]\n",
      " [1. 1. 1. 1. 1. 1. 1. 1. 1. 1.]\n",
      " [1. 1. 1. 1. 1. 1. 1. 1. 1. 1.]\n",
      " [1. 1. 1. 1. 1. 1. 1. 1. 1. 1.]]\n",
      "(32, 10)\n"
     ]
    },
    {
     "ename": "ValueError",
     "evalue": "operands could not be broadcast together with shapes (32,10) (32,) ",
     "output_type": "error",
     "traceback": [
      "\u001b[1;31m---------------------------------------------------------------------------\u001b[0m",
      "\u001b[1;31mValueError\u001b[0m                                Traceback (most recent call last)",
      "Cell \u001b[1;32mIn[24], line 17\u001b[0m\n\u001b[0;32m     12\u001b[0m \u001b[39m# preds = preds.flatten()\u001b[39;00m\n\u001b[0;32m     13\u001b[0m \u001b[39m# now that we have our predictions, we need to determine the\u001b[39;00m\n\u001b[0;32m     14\u001b[0m \u001b[39m# \"error\", which is the difference between our predictions\u001b[39;00m\n\u001b[0;32m     15\u001b[0m \u001b[39m# and the true values\u001b[39;00m\n\u001b[0;32m     16\u001b[0m \u001b[39mprint\u001b[39m(preds\u001b[39m.\u001b[39mshape)\n\u001b[1;32m---> 17\u001b[0m error \u001b[39m=\u001b[39m (preds \u001b[39m-\u001b[39;49m batchY)\n\u001b[0;32m     18\u001b[0m epochLoss\u001b[39m.\u001b[39mappend(np\u001b[39m.\u001b[39msum(error \u001b[39m*\u001b[39m\u001b[39m*\u001b[39m \u001b[39m2\u001b[39m))\n\u001b[0;32m     19\u001b[0m \u001b[39m# the gradient descent update is the dot product between our\u001b[39;00m\n\u001b[0;32m     20\u001b[0m \u001b[39m# (1) current batch and (2) the error of the sigmoid\u001b[39;00m\n\u001b[0;32m     21\u001b[0m \u001b[39m# derivative of our predictions\u001b[39;00m\n",
      "File \u001b[1;32mc:\\Users\\ayush\\Desktop\\Study\\Surender sir research paper internship\\env\\Lib\\site-packages\\pandas\\core\\generic.py:2016\u001b[0m, in \u001b[0;36mNDFrame.__array_ufunc__\u001b[1;34m(self, ufunc, method, *inputs, **kwargs)\u001b[0m\n\u001b[0;32m   2012\u001b[0m \u001b[39m@final\u001b[39m\n\u001b[0;32m   2013\u001b[0m \u001b[39mdef\u001b[39;00m \u001b[39m__array_ufunc__\u001b[39m(\n\u001b[0;32m   2014\u001b[0m     \u001b[39mself\u001b[39m, ufunc: np\u001b[39m.\u001b[39mufunc, method: \u001b[39mstr\u001b[39m, \u001b[39m*\u001b[39minputs: Any, \u001b[39m*\u001b[39m\u001b[39m*\u001b[39mkwargs: Any\n\u001b[0;32m   2015\u001b[0m ):\n\u001b[1;32m-> 2016\u001b[0m     \u001b[39mreturn\u001b[39;00m arraylike\u001b[39m.\u001b[39;49marray_ufunc(\u001b[39mself\u001b[39;49m, ufunc, method, \u001b[39m*\u001b[39;49minputs, \u001b[39m*\u001b[39;49m\u001b[39m*\u001b[39;49mkwargs)\n",
      "File \u001b[1;32mc:\\Users\\ayush\\Desktop\\Study\\Surender sir research paper internship\\env\\Lib\\site-packages\\pandas\\core\\arraylike.py:273\u001b[0m, in \u001b[0;36marray_ufunc\u001b[1;34m(self, ufunc, method, *inputs, **kwargs)\u001b[0m\n\u001b[0;32m    270\u001b[0m kwargs \u001b[39m=\u001b[39m _standardize_out_kwarg(\u001b[39m*\u001b[39m\u001b[39m*\u001b[39mkwargs)\n\u001b[0;32m    272\u001b[0m \u001b[39m# for binary ops, use our custom dunder methods\u001b[39;00m\n\u001b[1;32m--> 273\u001b[0m result \u001b[39m=\u001b[39m maybe_dispatch_ufunc_to_dunder_op(\u001b[39mself\u001b[39;49m, ufunc, method, \u001b[39m*\u001b[39;49minputs, \u001b[39m*\u001b[39;49m\u001b[39m*\u001b[39;49mkwargs)\n\u001b[0;32m    274\u001b[0m \u001b[39mif\u001b[39;00m result \u001b[39mis\u001b[39;00m \u001b[39mnot\u001b[39;00m \u001b[39mNotImplemented\u001b[39m:\n\u001b[0;32m    275\u001b[0m     \u001b[39mreturn\u001b[39;00m result\n",
      "File \u001b[1;32mc:\\Users\\ayush\\Desktop\\Study\\Surender sir research paper internship\\env\\Lib\\site-packages\\pandas\\_libs\\ops_dispatch.pyx:113\u001b[0m, in \u001b[0;36mpandas._libs.ops_dispatch.maybe_dispatch_ufunc_to_dunder_op\u001b[1;34m()\u001b[0m\n",
      "File \u001b[1;32mc:\\Users\\ayush\\Desktop\\Study\\Surender sir research paper internship\\env\\Lib\\site-packages\\pandas\\core\\ops\\common.py:81\u001b[0m, in \u001b[0;36m_unpack_zerodim_and_defer.<locals>.new_method\u001b[1;34m(self, other)\u001b[0m\n\u001b[0;32m     77\u001b[0m             \u001b[39mreturn\u001b[39;00m \u001b[39mNotImplemented\u001b[39m\n\u001b[0;32m     79\u001b[0m other \u001b[39m=\u001b[39m item_from_zerodim(other)\n\u001b[1;32m---> 81\u001b[0m \u001b[39mreturn\u001b[39;00m method(\u001b[39mself\u001b[39;49m, other)\n",
      "File \u001b[1;32mc:\\Users\\ayush\\Desktop\\Study\\Surender sir research paper internship\\env\\Lib\\site-packages\\pandas\\core\\arraylike.py:198\u001b[0m, in \u001b[0;36mOpsMixin.__rsub__\u001b[1;34m(self, other)\u001b[0m\n\u001b[0;32m    196\u001b[0m \u001b[39m@unpack_zerodim_and_defer\u001b[39m(\u001b[39m\"\u001b[39m\u001b[39m__rsub__\u001b[39m\u001b[39m\"\u001b[39m)\n\u001b[0;32m    197\u001b[0m \u001b[39mdef\u001b[39;00m \u001b[39m__rsub__\u001b[39m(\u001b[39mself\u001b[39m, other):\n\u001b[1;32m--> 198\u001b[0m     \u001b[39mreturn\u001b[39;00m \u001b[39mself\u001b[39;49m\u001b[39m.\u001b[39;49m_arith_method(other, roperator\u001b[39m.\u001b[39;49mrsub)\n",
      "File \u001b[1;32mc:\\Users\\ayush\\Desktop\\Study\\Surender sir research paper internship\\env\\Lib\\site-packages\\pandas\\core\\series.py:6112\u001b[0m, in \u001b[0;36mSeries._arith_method\u001b[1;34m(self, other, op)\u001b[0m\n\u001b[0;32m   6110\u001b[0m \u001b[39mdef\u001b[39;00m \u001b[39m_arith_method\u001b[39m(\u001b[39mself\u001b[39m, other, op):\n\u001b[0;32m   6111\u001b[0m     \u001b[39mself\u001b[39m, other \u001b[39m=\u001b[39m ops\u001b[39m.\u001b[39malign_method_SERIES(\u001b[39mself\u001b[39m, other)\n\u001b[1;32m-> 6112\u001b[0m     \u001b[39mreturn\u001b[39;00m base\u001b[39m.\u001b[39;49mIndexOpsMixin\u001b[39m.\u001b[39;49m_arith_method(\u001b[39mself\u001b[39;49m, other, op)\n",
      "File \u001b[1;32mc:\\Users\\ayush\\Desktop\\Study\\Surender sir research paper internship\\env\\Lib\\site-packages\\pandas\\core\\base.py:1348\u001b[0m, in \u001b[0;36mIndexOpsMixin._arith_method\u001b[1;34m(self, other, op)\u001b[0m\n\u001b[0;32m   1345\u001b[0m rvalues \u001b[39m=\u001b[39m ensure_wrapped_if_datetimelike(rvalues)\n\u001b[0;32m   1347\u001b[0m \u001b[39mwith\u001b[39;00m np\u001b[39m.\u001b[39merrstate(\u001b[39mall\u001b[39m\u001b[39m=\u001b[39m\u001b[39m\"\u001b[39m\u001b[39mignore\u001b[39m\u001b[39m\"\u001b[39m):\n\u001b[1;32m-> 1348\u001b[0m     result \u001b[39m=\u001b[39m ops\u001b[39m.\u001b[39;49marithmetic_op(lvalues, rvalues, op)\n\u001b[0;32m   1350\u001b[0m \u001b[39mreturn\u001b[39;00m \u001b[39mself\u001b[39m\u001b[39m.\u001b[39m_construct_result(result, name\u001b[39m=\u001b[39mres_name)\n",
      "File \u001b[1;32mc:\\Users\\ayush\\Desktop\\Study\\Surender sir research paper internship\\env\\Lib\\site-packages\\pandas\\core\\ops\\array_ops.py:232\u001b[0m, in \u001b[0;36marithmetic_op\u001b[1;34m(left, right, op)\u001b[0m\n\u001b[0;32m    228\u001b[0m     _bool_arith_check(op, left, right)\n\u001b[0;32m    230\u001b[0m     \u001b[39m# error: Argument 1 to \"_na_arithmetic_op\" has incompatible type\u001b[39;00m\n\u001b[0;32m    231\u001b[0m     \u001b[39m# \"Union[ExtensionArray, ndarray[Any, Any]]\"; expected \"ndarray[Any, Any]\"\u001b[39;00m\n\u001b[1;32m--> 232\u001b[0m     res_values \u001b[39m=\u001b[39m _na_arithmetic_op(left, right, op)  \u001b[39m# type: ignore[arg-type]\u001b[39;00m\n\u001b[0;32m    234\u001b[0m \u001b[39mreturn\u001b[39;00m res_values\n",
      "File \u001b[1;32mc:\\Users\\ayush\\Desktop\\Study\\Surender sir research paper internship\\env\\Lib\\site-packages\\pandas\\core\\ops\\array_ops.py:171\u001b[0m, in \u001b[0;36m_na_arithmetic_op\u001b[1;34m(left, right, op, is_cmp)\u001b[0m\n\u001b[0;32m    168\u001b[0m     func \u001b[39m=\u001b[39m partial(expressions\u001b[39m.\u001b[39mevaluate, op)\n\u001b[0;32m    170\u001b[0m \u001b[39mtry\u001b[39;00m:\n\u001b[1;32m--> 171\u001b[0m     result \u001b[39m=\u001b[39m func(left, right)\n\u001b[0;32m    172\u001b[0m \u001b[39mexcept\u001b[39;00m \u001b[39mTypeError\u001b[39;00m:\n\u001b[0;32m    173\u001b[0m     \u001b[39mif\u001b[39;00m \u001b[39mnot\u001b[39;00m is_cmp \u001b[39mand\u001b[39;00m (is_object_dtype(left\u001b[39m.\u001b[39mdtype) \u001b[39mor\u001b[39;00m is_object_dtype(right)):\n\u001b[0;32m    174\u001b[0m         \u001b[39m# For object dtype, fallback to a masked operation (only operating\u001b[39;00m\n\u001b[0;32m    175\u001b[0m         \u001b[39m#  on the non-missing values)\u001b[39;00m\n\u001b[0;32m    176\u001b[0m         \u001b[39m# Don't do this for comparisons, as that will handle complex numbers\u001b[39;00m\n\u001b[0;32m    177\u001b[0m         \u001b[39m#  incorrectly, see GH#32047\u001b[39;00m\n",
      "File \u001b[1;32mc:\\Users\\ayush\\Desktop\\Study\\Surender sir research paper internship\\env\\Lib\\site-packages\\pandas\\core\\computation\\expressions.py:239\u001b[0m, in \u001b[0;36mevaluate\u001b[1;34m(op, a, b, use_numexpr)\u001b[0m\n\u001b[0;32m    236\u001b[0m \u001b[39mif\u001b[39;00m op_str \u001b[39mis\u001b[39;00m \u001b[39mnot\u001b[39;00m \u001b[39mNone\u001b[39;00m:\n\u001b[0;32m    237\u001b[0m     \u001b[39mif\u001b[39;00m use_numexpr:\n\u001b[0;32m    238\u001b[0m         \u001b[39m# error: \"None\" not callable\u001b[39;00m\n\u001b[1;32m--> 239\u001b[0m         \u001b[39mreturn\u001b[39;00m _evaluate(op, op_str, a, b)  \u001b[39m# type: ignore[misc]\u001b[39;00m\n\u001b[0;32m    240\u001b[0m \u001b[39mreturn\u001b[39;00m _evaluate_standard(op, op_str, a, b)\n",
      "File \u001b[1;32mc:\\Users\\ayush\\Desktop\\Study\\Surender sir research paper internship\\env\\Lib\\site-packages\\pandas\\core\\computation\\expressions.py:70\u001b[0m, in \u001b[0;36m_evaluate_standard\u001b[1;34m(op, op_str, a, b)\u001b[0m\n\u001b[0;32m     68\u001b[0m \u001b[39mif\u001b[39;00m _TEST_MODE:\n\u001b[0;32m     69\u001b[0m     _store_test_result(\u001b[39mFalse\u001b[39;00m)\n\u001b[1;32m---> 70\u001b[0m \u001b[39mreturn\u001b[39;00m op(a, b)\n",
      "File \u001b[1;32mc:\\Users\\ayush\\Desktop\\Study\\Surender sir research paper internship\\env\\Lib\\site-packages\\pandas\\core\\roperator.py:15\u001b[0m, in \u001b[0;36mrsub\u001b[1;34m(left, right)\u001b[0m\n\u001b[0;32m     14\u001b[0m \u001b[39mdef\u001b[39;00m \u001b[39mrsub\u001b[39m(left, right):\n\u001b[1;32m---> 15\u001b[0m     \u001b[39mreturn\u001b[39;00m right \u001b[39m-\u001b[39;49m left\n",
      "\u001b[1;31mValueError\u001b[0m: operands could not be broadcast together with shapes (32,10) (32,) "
     ]
    }
   ],
   "source": [
    "# loop over the desired number of epochs\n",
    "for epoch in np.arange(0, args[\"epochs\"]):\n",
    "\t# initialize the total loss for the epoch\n",
    "\tepochLoss = []\n",
    "\t# loop over our data in batches\n",
    "\tfor (batchX, batchY) in next_batch(x_train, y_train, args[\"batch-size\"]):\n",
    "\t\t# take the dot product between our current batch of features\n",
    "\t\t# and the weight matrix, then pass this value through our\n",
    "\t\t# activation function\n",
    "\t\tpreds = sigmoid_activation(batchX.dot(W))\n",
    "\t\tprint(preds)\n",
    "\t\t# preds = preds.flatten()\n",
    "\t\t# now that we have our predictions, we need to determine the\n",
    "\t\t# \"error\", which is the difference between our predictions\n",
    "\t\t# and the true values\n",
    "\t\tprint(preds.shape)\n",
    "\t\terror = (preds - batchY)\n",
    "\t\tepochLoss.append(np.sum(error ** 2))\n",
    "\t\t# the gradient descent update is the dot product between our\n",
    "\t\t# (1) current batch and (2) the error of the sigmoid\n",
    "\t\t# derivative of our predictions\n",
    "\t\td = error * sigmoid_deriv(preds)\n",
    "\t\tgradient = batchX.T.dot(d)\n",
    "\t\t# gradient = gradient.flatten()\n",
    "\t\t# in the update stage, all we need to do is \"nudge\" the\n",
    "\t\t# weight matrix in the negative direction of the gradient\n",
    "\t\t# (hence the term \"gradient descent\" by taking a small step\n",
    "\t\t# towards a set of \"more optimal\" parameters\n",
    "\t\tprint(args[\"alpha\"])\n",
    "\t\tW = W+ -args[\"alpha\"] * gradient\n",
    "\t\t# update our loss history by taking the average loss across all\n",
    "\t# batches\n",
    "\tloss = np.average(epochLoss)\n",
    "\tlosses.append(loss)\n",
    "\t# check to see if an update should be displayed\n",
    "\tif epoch == 0 or (epoch + 1) % 5 == 0:\n",
    "\t\tprint(\"[INFO] epoch={}, loss={:.7f}\".format(int(epoch + 1),\n",
    "\t\t\tloss))"
   ]
  },
  {
   "cell_type": "code",
   "execution_count": null,
   "metadata": {},
   "outputs": [],
   "source": []
  }
 ],
 "metadata": {
  "kernelspec": {
   "display_name": "base",
   "language": "python",
   "name": "python3"
  },
  "language_info": {
   "codemirror_mode": {
    "name": "ipython",
    "version": 3
   },
   "file_extension": ".py",
   "mimetype": "text/x-python",
   "name": "python",
   "nbconvert_exporter": "python",
   "pygments_lexer": "ipython3",
   "version": "3.11.3"
  },
  "orig_nbformat": 4,
  "vscode": {
   "interpreter": {
    "hash": "086edbbad6d007afd932f3998127bea1c36f47a35b43b79d0f508f10f9e57cc3"
   }
  }
 },
 "nbformat": 4,
 "nbformat_minor": 2
}
