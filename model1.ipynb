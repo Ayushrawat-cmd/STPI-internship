{
 "cells": [
  {
   "attachments": {},
   "cell_type": "markdown",
   "metadata": {},
   "source": [
    "Dataset:- https://www.kaggle.com/datasets/mirichoi0218/insurance"
   ]
  },
  {
   "attachments": {},
   "cell_type": "markdown",
   "metadata": {},
   "source": [
    "Import libraries"
   ]
  },
  {
   "cell_type": "code",
   "execution_count": 83,
   "metadata": {},
   "outputs": [],
   "source": [
    "import numpy as np\n",
    "import pandas as pd\n",
    "import seaborn as sns\n",
    "import matplotlib.pyplot as plt\n",
    "sns.set()"
   ]
  },
  {
   "attachments": {},
   "cell_type": "markdown",
   "metadata": {},
   "source": [
    "Import the data"
   ]
  },
  {
   "cell_type": "code",
   "execution_count": 84,
   "metadata": {},
   "outputs": [],
   "source": [
    "data = pd.read_csv(r\"insurance.csv\")"
   ]
  },
  {
   "cell_type": "code",
   "execution_count": 85,
   "metadata": {},
   "outputs": [
    {
     "data": {
      "text/html": [
       "<div>\n",
       "<style scoped>\n",
       "    .dataframe tbody tr th:only-of-type {\n",
       "        vertical-align: middle;\n",
       "    }\n",
       "\n",
       "    .dataframe tbody tr th {\n",
       "        vertical-align: top;\n",
       "    }\n",
       "\n",
       "    .dataframe thead th {\n",
       "        text-align: right;\n",
       "    }\n",
       "</style>\n",
       "<table border=\"1\" class=\"dataframe\">\n",
       "  <thead>\n",
       "    <tr style=\"text-align: right;\">\n",
       "      <th></th>\n",
       "      <th>age</th>\n",
       "      <th>sex</th>\n",
       "      <th>bmi</th>\n",
       "      <th>children</th>\n",
       "      <th>smoker</th>\n",
       "      <th>region</th>\n",
       "      <th>charges</th>\n",
       "    </tr>\n",
       "  </thead>\n",
       "  <tbody>\n",
       "    <tr>\n",
       "      <th>0</th>\n",
       "      <td>19</td>\n",
       "      <td>female</td>\n",
       "      <td>27.900</td>\n",
       "      <td>0</td>\n",
       "      <td>yes</td>\n",
       "      <td>southwest</td>\n",
       "      <td>16884.92400</td>\n",
       "    </tr>\n",
       "    <tr>\n",
       "      <th>1</th>\n",
       "      <td>18</td>\n",
       "      <td>male</td>\n",
       "      <td>33.770</td>\n",
       "      <td>1</td>\n",
       "      <td>no</td>\n",
       "      <td>southeast</td>\n",
       "      <td>1725.55230</td>\n",
       "    </tr>\n",
       "    <tr>\n",
       "      <th>2</th>\n",
       "      <td>28</td>\n",
       "      <td>male</td>\n",
       "      <td>33.000</td>\n",
       "      <td>3</td>\n",
       "      <td>no</td>\n",
       "      <td>southeast</td>\n",
       "      <td>4449.46200</td>\n",
       "    </tr>\n",
       "    <tr>\n",
       "      <th>3</th>\n",
       "      <td>33</td>\n",
       "      <td>male</td>\n",
       "      <td>22.705</td>\n",
       "      <td>0</td>\n",
       "      <td>no</td>\n",
       "      <td>northwest</td>\n",
       "      <td>21984.47061</td>\n",
       "    </tr>\n",
       "    <tr>\n",
       "      <th>4</th>\n",
       "      <td>32</td>\n",
       "      <td>male</td>\n",
       "      <td>28.880</td>\n",
       "      <td>0</td>\n",
       "      <td>no</td>\n",
       "      <td>northwest</td>\n",
       "      <td>3866.85520</td>\n",
       "    </tr>\n",
       "  </tbody>\n",
       "</table>\n",
       "</div>"
      ],
      "text/plain": [
       "   age     sex     bmi  children smoker     region      charges\n",
       "0   19  female  27.900         0    yes  southwest  16884.92400\n",
       "1   18    male  33.770         1     no  southeast   1725.55230\n",
       "2   28    male  33.000         3     no  southeast   4449.46200\n",
       "3   33    male  22.705         0     no  northwest  21984.47061\n",
       "4   32    male  28.880         0     no  northwest   3866.85520"
      ]
     },
     "execution_count": 85,
     "metadata": {},
     "output_type": "execute_result"
    }
   ],
   "source": [
    "data.head()"
   ]
  },
  {
   "cell_type": "code",
   "execution_count": 98,
   "metadata": {},
   "outputs": [],
   "source": [
    "Y = data.iloc[:,-1]\n",
    "\n",
    "X = data.iloc[:,:-1]\n",
    "# X = data.drop(['sex','children','region','charges'],axis=1)"
   ]
  },
  {
   "cell_type": "code",
   "execution_count": 87,
   "metadata": {},
   "outputs": [],
   "source": [
    "X['bmi'] = np.where(X[\"bmi\"].values>25,1,0)"
   ]
  },
  {
   "cell_type": "code",
   "execution_count": 99,
   "metadata": {},
   "outputs": [],
   "source": [
    "# np.where((X.dtypes == object))\n",
    "X = X.drop(['sex','children','region'],axis=1)"
   ]
  },
  {
   "cell_type": "code",
   "execution_count": 76,
   "metadata": {},
   "outputs": [],
   "source": [
    "data['bmi'] =np.where(data[\"bmi\"].values>25,\"yes\",\"no\")"
   ]
  },
  {
   "cell_type": "code",
   "execution_count": 102,
   "metadata": {},
   "outputs": [],
   "source": [
    "X[\"smoker\"] = np.where(X[\"smoker\"].values == \"yes\",1,0)"
   ]
  },
  {
   "cell_type": "code",
   "execution_count": 104,
   "metadata": {},
   "outputs": [
    {
     "data": {
      "text/html": [
       "<div>\n",
       "<style scoped>\n",
       "    .dataframe tbody tr th:only-of-type {\n",
       "        vertical-align: middle;\n",
       "    }\n",
       "\n",
       "    .dataframe tbody tr th {\n",
       "        vertical-align: top;\n",
       "    }\n",
       "\n",
       "    .dataframe thead th {\n",
       "        text-align: right;\n",
       "    }\n",
       "</style>\n",
       "<table border=\"1\" class=\"dataframe\">\n",
       "  <thead>\n",
       "    <tr style=\"text-align: right;\">\n",
       "      <th></th>\n",
       "      <th>age</th>\n",
       "      <th>bmi</th>\n",
       "      <th>smoker</th>\n",
       "    </tr>\n",
       "  </thead>\n",
       "  <tbody>\n",
       "    <tr>\n",
       "      <th>age</th>\n",
       "      <td>1.000000</td>\n",
       "      <td>0.109272</td>\n",
       "      <td>-0.025019</td>\n",
       "    </tr>\n",
       "    <tr>\n",
       "      <th>bmi</th>\n",
       "      <td>0.109272</td>\n",
       "      <td>1.000000</td>\n",
       "      <td>0.003750</td>\n",
       "    </tr>\n",
       "    <tr>\n",
       "      <th>smoker</th>\n",
       "      <td>-0.025019</td>\n",
       "      <td>0.003750</td>\n",
       "      <td>1.000000</td>\n",
       "    </tr>\n",
       "  </tbody>\n",
       "</table>\n",
       "</div>"
      ],
      "text/plain": [
       "             age       bmi    smoker\n",
       "age     1.000000  0.109272 -0.025019\n",
       "bmi     0.109272  1.000000  0.003750\n",
       "smoker -0.025019  0.003750  1.000000"
      ]
     },
     "execution_count": 104,
     "metadata": {},
     "output_type": "execute_result"
    }
   ],
   "source": [
    "X.corr()"
   ]
  },
  {
   "cell_type": "code",
   "execution_count": 80,
   "metadata": {},
   "outputs": [
    {
     "name": "stderr",
     "output_type": "stream",
     "text": [
      "c:\\Users\\ayush\\Desktop\\Study\\Surender sir research paper internship\\env\\Lib\\site-packages\\seaborn\\axisgrid.py:848: UserWarning: \n",
      "\n",
      "`distplot` is a deprecated function and will be removed in seaborn v0.14.0.\n",
      "\n",
      "Please adapt your code to use either `displot` (a figure-level function with\n",
      "similar flexibility) or `histplot` (an axes-level function for histograms).\n",
      "\n",
      "For a guide to updating your code to use the new functions, please see\n",
      "https://gist.github.com/mwaskom/de44147ed2974457ad6372750bbe5751\n",
      "\n",
      "  func(*plot_args, **plot_kwargs)\n",
      "c:\\Users\\ayush\\Desktop\\Study\\Surender sir research paper internship\\env\\Lib\\site-packages\\seaborn\\axisgrid.py:848: UserWarning: \n",
      "\n",
      "`distplot` is a deprecated function and will be removed in seaborn v0.14.0.\n",
      "\n",
      "Please adapt your code to use either `displot` (a figure-level function with\n",
      "similar flexibility) or `histplot` (an axes-level function for histograms).\n",
      "\n",
      "For a guide to updating your code to use the new functions, please see\n",
      "https://gist.github.com/mwaskom/de44147ed2974457ad6372750bbe5751\n",
      "\n",
      "  func(*plot_args, **plot_kwargs)\n",
      "c:\\Users\\ayush\\Desktop\\Study\\Surender sir research paper internship\\env\\Lib\\site-packages\\seaborn\\axisgrid.py:848: UserWarning: \n",
      "\n",
      "`distplot` is a deprecated function and will be removed in seaborn v0.14.0.\n",
      "\n",
      "Please adapt your code to use either `displot` (a figure-level function with\n",
      "similar flexibility) or `histplot` (an axes-level function for histograms).\n",
      "\n",
      "For a guide to updating your code to use the new functions, please see\n",
      "https://gist.github.com/mwaskom/de44147ed2974457ad6372750bbe5751\n",
      "\n",
      "  func(*plot_args, **plot_kwargs)\n",
      "c:\\Users\\ayush\\Desktop\\Study\\Surender sir research paper internship\\env\\Lib\\site-packages\\seaborn\\axisgrid.py:848: UserWarning: \n",
      "\n",
      "`distplot` is a deprecated function and will be removed in seaborn v0.14.0.\n",
      "\n",
      "Please adapt your code to use either `displot` (a figure-level function with\n",
      "similar flexibility) or `histplot` (an axes-level function for histograms).\n",
      "\n",
      "For a guide to updating your code to use the new functions, please see\n",
      "https://gist.github.com/mwaskom/de44147ed2974457ad6372750bbe5751\n",
      "\n",
      "  func(*plot_args, **plot_kwargs)\n"
     ]
    },
    {
     "data": {
      "image/png": "[encoded data removed]",
      "text/plain": [
       "<Figure size 600x600 with 4 Axes>"
      ]
     },
     "metadata": {},
     "output_type": "display_data"
    }
   ],
   "source": [
    "sns.FacetGrid(data=data, row='smoker', col='bmi').map(sns.distplot,'charges')\n",
    "plt.show()"
   ]
  },
  {
   "attachments": {},
   "cell_type": "markdown",
   "metadata": {},
   "source": [
    "One hot label encoding method\n"
   ]
  },
  {
   "cell_type": "code",
   "execution_count": 88,
   "metadata": {},
   "outputs": [],
   "source": [
    "def OneHotEncoderMethod(indices, data):\n",
    "    from sklearn.compose import ColumnTransformer\n",
    "    from sklearn.preprocessing import OneHotEncoder\n",
    "    columnTransformer = ColumnTransformer([('encoder', OneHotEncoder(),indices )], remainder='passthrough')\n",
    "    return columnTransformer.fit_transform(data)"
   ]
  },
  {
   "attachments": {},
   "cell_type": "markdown",
   "metadata": {},
   "source": [
    "Label ENCODING METHOD"
   ]
  },
  {
   "cell_type": "code",
   "execution_count": 18,
   "metadata": {},
   "outputs": [],
   "source": [
    "def LabelEncoderMethod(series):\n",
    "    from sklearn import preprocessing\n",
    "    LE = preprocessing.LabelEncoder()\n",
    "    return LE.fit_transform(series)"
   ]
  },
  {
   "attachments": {},
   "cell_type": "markdown",
   "metadata": {},
   "source": [
    "Encoding x features"
   ]
  },
  {
   "cell_type": "code",
   "execution_count": 19,
   "metadata": {},
   "outputs": [],
   "source": [
    "def EncodingSelection(X, threshold=10):\n",
    "    # Step 01 : Select the string col\n",
    "    string_cols = list(np.where((X.dtypes == object))[0])\n",
    "    one_hot_encoding_indices = []\n",
    "    \n",
    "    # Step 02: The number of categoty is 2 and more than threshold, label encode\n",
    "    for col in string_cols:\n",
    "        length = len(pd.unique(X[X.columns[col]]))\n",
    "        if length == 2 or length > threshold:\n",
    "            X[X.columns[col]] = LabelEncoderMethod(X[X.columns[col]])\n",
    "        else:\n",
    "            one_hot_encoding_indices.append(col)\n",
    "            \n",
    "    # Step 03: One hot encode otherwise \n",
    "    X = OneHotEncoderMethod(one_hot_encoding_indices, X)\n",
    "    return X"
   ]
  },
  {
   "cell_type": "code",
   "execution_count": 89,
   "metadata": {},
   "outputs": [],
   "source": [
    "X = EncodingSelection(X)"
   ]
  },
  {
   "cell_type": "code",
   "execution_count": 90,
   "metadata": {},
   "outputs": [
    {
     "ename": "AttributeError",
     "evalue": "'numpy.ndarray' object has no attribute 'corr'",
     "output_type": "error",
     "traceback": [
      "\u001b[1;31m---------------------------------------------------------------------------\u001b[0m",
      "\u001b[1;31mAttributeError\u001b[0m                            Traceback (most recent call last)",
      "Cell \u001b[1;32mIn[90], line 1\u001b[0m\n\u001b[1;32m----> 1\u001b[0m X\u001b[39m.\u001b[39;49mcorr()\n",
      "\u001b[1;31mAttributeError\u001b[0m: 'numpy.ndarray' object has no attribute 'corr'"
     ]
    }
   ],
   "source": [
    "X.corr()"
   ]
  },
  {
   "attachments": {},
   "cell_type": "markdown",
   "metadata": {},
   "source": [
    "# Min Max scaler"
   ]
  },
  {
   "cell_type": "code",
   "execution_count": 37,
   "metadata": {},
   "outputs": [],
   "source": [
    "from sklearn import preprocessing\n",
    "\n",
    "sx = preprocessing.MinMaxScaler()\n",
    "sy = preprocessing.MinMaxScaler()\n",
    "\n",
    "scaled_x = sx.fit_transform(X)\n",
    "scaled_y = sy.fit_transform(Y.values.reshape(data.shape[0],1))"
   ]
  },
  {
   "cell_type": "code",
   "execution_count": 10,
   "metadata": {},
   "outputs": [],
   "source": [
    "# scaled_x = np.append(scaled_x, X[:,:1],axis=1)"
   ]
  },
  {
   "cell_type": "code",
   "execution_count": 29,
   "metadata": {},
   "outputs": [
    {
     "data": {
      "text/plain": [
       "(1338, 3)"
      ]
     },
     "execution_count": 29,
     "metadata": {},
     "output_type": "execute_result"
    }
   ],
   "source": [
    "scaled_x.shape"
   ]
  },
  {
   "attachments": {},
   "cell_type": "markdown",
   "metadata": {},
   "source": [
    "Train test split"
   ]
  },
  {
   "cell_type": "code",
   "execution_count": 38,
   "metadata": {},
   "outputs": [],
   "source": [
    "from sklearn.model_selection import train_test_split\n",
    "x_train, x_test,y_train,y_test = train_test_split(scaled_x,scaled_y, test_size=0.20, random_state=1)"
   ]
  },
  {
   "cell_type": "code",
   "execution_count": 24,
   "metadata": {},
   "outputs": [],
   "source": [
    "from sklearn.metrics import r2_score"
   ]
  },
  {
   "attachments": {},
   "cell_type": "markdown",
   "metadata": {},
   "source": [
    "# Optimizers"
   ]
  },
  {
   "attachments": {},
   "cell_type": "markdown",
   "metadata": {},
   "source": [
    "# SGD"
   ]
  },
  {
   "cell_type": "code",
   "execution_count": 25,
   "metadata": {},
   "outputs": [],
   "source": [
    "import tensorflow as tf\n",
    "import numpy as np"
   ]
  },
  {
   "cell_type": "code",
   "execution_count": 26,
   "metadata": {},
   "outputs": [],
   "source": [
    "from tensorflow import keras\n",
    "from tensorflow.keras import layers\n",
    "from tensorflow.keras.models import Sequential\n",
    "from tensorflow.keras.layers import Dense\n",
    "from tensorflow.keras.optimizers import SGD, Adadelta, Adam, Adagrad, Adamax, Nadam, RMSprop \n",
    "from tensorflow.keras.losses import mse"
   ]
  },
  {
   "cell_type": "code",
   "execution_count": 40,
   "metadata": {},
   "outputs": [
    {
     "name": "stdout",
     "output_type": "stream",
     "text": [
      "Printing behins here: ----------------\n",
      "Epoch 1/100\n",
      "34/34 [==============================] - 0s 1ms/step - loss: 0.3405\n",
      "Epoch 2/100\n",
      "34/34 [==============================] - 0s 1ms/step - loss: 0.2287\n",
      "Epoch 3/100\n",
      "34/34 [==============================] - 0s 1ms/step - loss: 0.1927\n",
      "Epoch 4/100\n",
      "34/34 [==============================] - 0s 2ms/step - loss: 0.1660\n",
      "Epoch 5/100\n",
      "34/34 [==============================] - 0s 2ms/step - loss: 0.1437\n",
      "Epoch 6/100\n",
      "34/34 [==============================] - 0s 2ms/step - loss: 0.1245\n",
      "Epoch 7/100\n",
      "34/34 [==============================] - 0s 3ms/step - loss: 0.1080\n",
      "Epoch 8/100\n",
      "34/34 [==============================] - 0s 2ms/step - loss: 0.0941\n",
      "Epoch 9/100\n",
      "34/34 [==============================] - 0s 1ms/step - loss: 0.0823\n",
      "Epoch 10/100\n",
      "34/34 [==============================] - 0s 1ms/step - loss: 0.0723\n",
      "Epoch 11/100\n",
      "34/34 [==============================] - 0s 1ms/step - loss: 0.0635\n",
      "Epoch 12/100\n",
      "34/34 [==============================] - 0s 2ms/step - loss: 0.0561\n",
      "Epoch 13/100\n",
      "34/34 [==============================] - 0s 2ms/step - loss: 0.0498\n",
      "Epoch 14/100\n",
      "34/34 [==============================] - 0s 2ms/step - loss: 0.0444\n",
      "Epoch 15/100\n",
      "34/34 [==============================] - 0s 2ms/step - loss: 0.0397\n",
      "Epoch 16/100\n",
      "34/34 [==============================] - 0s 2ms/step - loss: 0.0357\n",
      "Epoch 17/100\n",
      "34/34 [==============================] - 0s 2ms/step - loss: 0.0322\n",
      "Epoch 18/100\n",
      "34/34 [==============================] - 0s 2ms/step - loss: 0.0293\n",
      "Epoch 19/100\n",
      "34/34 [==============================] - 0s 1ms/step - loss: 0.0267\n",
      "Epoch 20/100\n",
      "34/34 [==============================] - 0s 2ms/step - loss: 0.0245\n",
      "Epoch 21/100\n",
      "34/34 [==============================] - 0s 1ms/step - loss: 0.0225\n",
      "Epoch 22/100\n",
      "34/34 [==============================] - 0s 1ms/step - loss: 0.0209\n",
      "Epoch 23/100\n",
      "34/34 [==============================] - 0s 2ms/step - loss: 0.0194\n",
      "Epoch 24/100\n",
      "34/34 [==============================] - 0s 2ms/step - loss: 0.0182\n",
      "Epoch 25/100\n",
      "34/34 [==============================] - 0s 2ms/step - loss: 0.0171\n",
      "Epoch 26/100\n",
      "34/34 [==============================] - 0s 2ms/step - loss: 0.0162\n",
      "Epoch 27/100\n",
      "34/34 [==============================] - 0s 2ms/step - loss: 0.0154\n",
      "Epoch 28/100\n",
      "34/34 [==============================] - 0s 2ms/step - loss: 0.0147\n",
      "Epoch 29/100\n",
      "34/34 [==============================] - 0s 2ms/step - loss: 0.0141\n",
      "Epoch 30/100\n",
      "34/34 [==============================] - 0s 2ms/step - loss: 0.0135\n",
      "Epoch 31/100\n",
      "34/34 [==============================] - 0s 2ms/step - loss: 0.0131\n",
      "Epoch 32/100\n",
      "34/34 [==============================] - 0s 1ms/step - loss: 0.0127\n",
      "Epoch 33/100\n",
      "34/34 [==============================] - 0s 1ms/step - loss: 0.0123\n",
      "Epoch 34/100\n",
      "34/34 [==============================] - 0s 1ms/step - loss: 0.0121\n",
      "Epoch 35/100\n",
      "34/34 [==============================] - 0s 1ms/step - loss: 0.0118\n",
      "Epoch 36/100\n",
      "34/34 [==============================] - 0s 1ms/step - loss: 0.0116\n",
      "Epoch 37/100\n",
      "34/34 [==============================] - 0s 1ms/step - loss: 0.0114\n",
      "Epoch 38/100\n",
      "34/34 [==============================] - 0s 1ms/step - loss: 0.0112\n",
      "Epoch 39/100\n",
      "34/34 [==============================] - 0s 1ms/step - loss: 0.0110\n",
      "Epoch 40/100\n",
      "34/34 [==============================] - 0s 1ms/step - loss: 0.0109\n",
      "Epoch 41/100\n",
      "34/34 [==============================] - 0s 1ms/step - loss: 0.0108\n",
      "Epoch 42/100\n",
      "34/34 [==============================] - 0s 1ms/step - loss: 0.0107\n",
      "Epoch 43/100\n",
      "34/34 [==============================] - 0s 1ms/step - loss: 0.0106\n",
      "Epoch 44/100\n",
      "34/34 [==============================] - 0s 1ms/step - loss: 0.0105\n",
      "Epoch 45/100\n",
      "34/34 [==============================] - 0s 1ms/step - loss: 0.0105\n",
      "Epoch 46/100\n",
      "34/34 [==============================] - 0s 1ms/step - loss: 0.0104\n",
      "Epoch 47/100\n",
      "34/34 [==============================] - 0s 1ms/step - loss: 0.0103\n",
      "Epoch 48/100\n",
      "34/34 [==============================] - 0s 1ms/step - loss: 0.0103\n",
      "Epoch 49/100\n",
      "34/34 [==============================] - 0s 1ms/step - loss: 0.0103\n",
      "Epoch 50/100\n",
      "34/34 [==============================] - 0s 1ms/step - loss: 0.0102\n",
      "Epoch 51/100\n",
      "34/34 [==============================] - 0s 1ms/step - loss: 0.0102\n",
      "Epoch 52/100\n",
      "34/34 [==============================] - 0s 1ms/step - loss: 0.0102\n",
      "Epoch 53/100\n",
      "34/34 [==============================] - 0s 1ms/step - loss: 0.0102\n",
      "Epoch 54/100\n",
      "34/34 [==============================] - 0s 2ms/step - loss: 0.0101\n",
      "Epoch 55/100\n",
      "34/34 [==============================] - 0s 1ms/step - loss: 0.0101\n",
      "Epoch 56/100\n",
      "34/34 [==============================] - 0s 1ms/step - loss: 0.0101\n",
      "Epoch 57/100\n",
      "34/34 [==============================] - 0s 1ms/step - loss: 0.0101\n",
      "Epoch 58/100\n",
      "34/34 [==============================] - 0s 1ms/step - loss: 0.0101\n",
      "Epoch 59/100\n",
      "34/34 [==============================] - 0s 2ms/step - loss: 0.0101\n",
      "Epoch 60/100\n",
      "34/34 [==============================] - 0s 1ms/step - loss: 0.0101\n",
      "Epoch 61/100\n",
      "34/34 [==============================] - 0s 1ms/step - loss: 0.0100\n",
      "Epoch 62/100\n",
      "34/34 [==============================] - 0s 1ms/step - loss: 0.0100\n",
      "Epoch 63/100\n",
      "34/34 [==============================] - 0s 1ms/step - loss: 0.0100\n",
      "Epoch 64/100\n",
      "34/34 [==============================] - 0s 1ms/step - loss: 0.0100\n",
      "Epoch 65/100\n",
      "34/34 [==============================] - 0s 2ms/step - loss: 0.0100\n",
      "Epoch 66/100\n",
      "34/34 [==============================] - 0s 2ms/step - loss: 0.0100\n",
      "Epoch 67/100\n",
      "34/34 [==============================] - 0s 2ms/step - loss: 0.0100\n",
      "Epoch 68/100\n",
      "34/34 [==============================] - 0s 2ms/step - loss: 0.0100\n",
      "Epoch 69/100\n",
      "34/34 [==============================] - 0s 2ms/step - loss: 0.0100\n",
      "Epoch 70/100\n",
      "34/34 [==============================] - 0s 2ms/step - loss: 0.0100\n",
      "Epoch 71/100\n",
      "34/34 [==============================] - 0s 1ms/step - loss: 0.0100\n",
      "Epoch 72/100\n",
      "34/34 [==============================] - 0s 1ms/step - loss: 0.0100\n",
      "Epoch 73/100\n",
      "34/34 [==============================] - 0s 2ms/step - loss: 0.0100\n",
      "Epoch 74/100\n",
      "34/34 [==============================] - 0s 1ms/step - loss: 0.0100\n",
      "Epoch 75/100\n",
      "34/34 [==============================] - 0s 2ms/step - loss: 0.0100\n",
      "Epoch 76/100\n",
      "34/34 [==============================] - 0s 2ms/step - loss: 0.0100\n",
      "Epoch 77/100\n",
      "34/34 [==============================] - 0s 1ms/step - loss: 0.0100\n",
      "Epoch 78/100\n",
      "34/34 [==============================] - 0s 994us/step - loss: 0.0100\n",
      "Epoch 79/100\n",
      "34/34 [==============================] - 0s 2ms/step - loss: 0.0100\n",
      "Epoch 80/100\n",
      "34/34 [==============================] - 0s 2ms/step - loss: 0.0100\n",
      "Epoch 81/100\n",
      "34/34 [==============================] - 0s 2ms/step - loss: 0.0100\n",
      "Epoch 82/100\n",
      "34/34 [==============================] - 0s 1ms/step - loss: 0.0100\n",
      "Epoch 83/100\n",
      "34/34 [==============================] - 0s 1ms/step - loss: 0.0100\n",
      "Epoch 84/100\n",
      "34/34 [==============================] - 0s 1ms/step - loss: 0.0100\n",
      "Epoch 85/100\n",
      "34/34 [==============================] - 0s 1ms/step - loss: 0.0100\n",
      "Epoch 86/100\n",
      "34/34 [==============================] - 0s 1ms/step - loss: 0.0100\n",
      "Epoch 87/100\n",
      "34/34 [==============================] - 0s 1ms/step - loss: 0.0100\n",
      "Epoch 88/100\n",
      "34/34 [==============================] - 0s 2ms/step - loss: 0.0100\n",
      "Epoch 89/100\n",
      "34/34 [==============================] - 0s 1ms/step - loss: 0.0100\n",
      "Epoch 90/100\n",
      "34/34 [==============================] - 0s 1ms/step - loss: 0.0100\n",
      "Epoch 91/100\n",
      "34/34 [==============================] - 0s 1ms/step - loss: 0.0100\n",
      "Epoch 92/100\n",
      "34/34 [==============================] - 0s 1ms/step - loss: 0.0100\n",
      "Epoch 93/100\n",
      "34/34 [==============================] - 0s 1ms/step - loss: 0.0100\n",
      "Epoch 94/100\n",
      "34/34 [==============================] - 0s 2ms/step - loss: 0.0100\n",
      "Epoch 95/100\n",
      "34/34 [==============================] - 0s 1ms/step - loss: 0.0100\n",
      "Epoch 96/100\n",
      "34/34 [==============================] - 0s 1ms/step - loss: 0.0100\n",
      "Epoch 97/100\n",
      "34/34 [==============================] - 0s 1ms/step - loss: 0.0100\n",
      "Epoch 98/100\n",
      "34/34 [==============================] - 0s 1ms/step - loss: 0.0100\n",
      "Epoch 99/100\n",
      "34/34 [==============================] - 0s 1ms/step - loss: 0.0100\n",
      "Epoch 100/100\n",
      "34/34 [==============================] - 0s 1ms/step - loss: 0.0100\n"
     ]
    },
    {
     "data": {
      "text/plain": [
       "<matplotlib.legend.Legend at 0x288f4f0bd50>"
      ]
     },
     "execution_count": 40,
     "metadata": {},
     "output_type": "execute_result"
    },
    {
     "data": {
      "image/png": "[encoded data removed]",
      "text/plain": [
       "<Figure size 640x480 with 1 Axes>"
      ]
     },
     "metadata": {},
     "output_type": "display_data"
    }
   ],
   "source": [
    "#SGD\n",
    "# Use the required optimizer to compile the model\n",
    "\n",
    "model = Sequential()\n",
    "model.add(Dense(1,activation = 'linear'))\n",
    "# model.add(Dense(1))\n",
    "\n",
    "print(\"Printing behins here: ----------------\")\n",
    "model.compile(optimizer=tf.keras.optimizers.SGD(learning_rate=0.01,momentum=0.0,\n",
    "    nesterov=False,),loss=tf.keras.losses.mse)\n",
    "train = model.fit(x_train,y_train,epochs=100)\n",
    "\n",
    "#loss over time\n",
    "plt.plot(train.history['loss'], label='loss')\n",
    "plt.xlabel('epochs')\n",
    "plt.ylabel('loss')\n",
    "plt.legend(['SGD'])\n",
    "# model.predict(x_test,y_test)"
   ]
  },
  {
   "cell_type": "code",
   "execution_count": 32,
   "metadata": {},
   "outputs": [
    {
     "name": "stdout",
     "output_type": "stream",
     "text": [
      "9/9 [==============================] - 1s 3ms/step\n"
     ]
    }
   ],
   "source": [
    "pred = model.predict(x_test)\n"
   ]
  },
  {
   "cell_type": "code",
   "execution_count": 20,
   "metadata": {},
   "outputs": [
    {
     "data": {
      "text/plain": [
       "-0.35328615947889386"
      ]
     },
     "execution_count": 20,
     "metadata": {},
     "output_type": "execute_result"
    }
   ],
   "source": [
    "r2_score(y_test,pred) # for all features"
   ]
  },
  {
   "cell_type": "code",
   "execution_count": 33,
   "metadata": {},
   "outputs": [
    {
     "data": {
      "text/plain": [
       "0.7355777356168881"
      ]
     },
     "execution_count": 33,
     "metadata": {},
     "output_type": "execute_result"
    }
   ],
   "source": [
    "#turn bmi in 0 and 1 form\n",
    "r2_score(y_test,pred)"
   ]
  },
  {
   "cell_type": "code",
   "execution_count": 68,
   "metadata": {},
   "outputs": [
    {
     "data": {
      "text/plain": [
       "0.6038662866807989"
      ]
     },
     "execution_count": 68,
     "metadata": {},
     "output_type": "execute_result"
    }
   ],
   "source": [
    "r2_score(y_test,pred) # for age bmi smoker"
   ]
  },
  {
   "cell_type": "code",
   "execution_count": 73,
   "metadata": {},
   "outputs": [
    {
     "data": {
      "text/plain": [
       "0.7568036916476395"
      ]
     },
     "execution_count": 73,
     "metadata": {},
     "output_type": "execute_result"
    }
   ],
   "source": [
    "r2_score(y_test,pred)"
   ]
  },
  {
   "attachments": {},
   "cell_type": "markdown",
   "metadata": {},
   "source": [
    "# KFOLD validation"
   ]
  },
  {
   "cell_type": "code",
   "execution_count": 16,
   "metadata": {},
   "outputs": [],
   "source": [
    "from sklearn.model_selection import KFold\n",
    "kf  = KFold(n_splits=5, shuffle = True, random_state= 42)"
   ]
  },
  {
   "attachments": {},
   "cell_type": "markdown",
   "metadata": {},
   "source": [
    "## SGD function "
   ]
  },
  {
   "cell_type": "code",
   "execution_count": 73,
   "metadata": {},
   "outputs": [],
   "source": [
    "def SGD_model(x_train, y_train, x_test, y_test):\n",
    "    model = Sequential()\n",
    "    model.add(Dense(1, activation='linear'))\n",
    "    # model.add(Ac)\n",
    "    print(\"Printing behins here: ----------------\")\n",
    "    model.compile(optimizer=tf.keras.optimizers.SGD(learning_rate=0.01,momentum=0.0,\n",
    "        nesterov=False),loss=tf.keras.losses.mse)\n",
    "    train = model.fit(x_train,y_train,epochs=100)\n",
    "\n",
    "    #loss over time\n",
    "    plt.plot(train.history['loss'] ,label='loss')\n",
    "    plt.title('SGD')\n",
    "    plt.xlabel('epochs')\n",
    "    plt.ylabel('loss')\n",
    "    plt.legend('12345')\n",
    "    pred = model.predict(x_test)\n",
    "    return r2_score(y_test,pred)"
   ]
  },
  {
   "attachments": {},
   "cell_type": "markdown",
   "metadata": {},
   "source": [
    "## Mini batch SGD"
   ]
  },
  {
   "cell_type": "code",
   "execution_count": 88,
   "metadata": {},
   "outputs": [],
   "source": [
    "def MINI_BATCH_SGD_model(x_train, y_train, x_test, y_test):\n",
    "    model = Sequential()\n",
    "    model.add(Dense(1, activation='linear'))\n",
    "    # model.add(Ac)\n",
    "    print(\"Printing behins here: ----------------\")\n",
    "    model.compile(optimizer=tf.keras.optimizers.SGD(learning_rate=0.01,momentum=0.0,\n",
    "        nesterov=False),loss=tf.keras.losses.mse)\n",
    "    train = model.fit(x_train,y_train,epochs=100, batch_size=20)\n",
    "\n",
    "    #loss over time\n",
    "    plt.plot(train.history['loss'] ,label='loss')\n",
    "    plt.title('SGD')\n",
    "    plt.xlabel('epochs')\n",
    "    plt.ylabel('loss')\n",
    "    plt.legend('12345')\n",
    "    pred = model.predict(x_test)\n",
    "    return r2_score(y_test,pred)"
   ]
  },
  {
   "attachments": {},
   "cell_type": "markdown",
   "metadata": {},
   "source": [
    "## Momentum"
   ]
  },
  {
   "cell_type": "code",
   "execution_count": 38,
   "metadata": {},
   "outputs": [],
   "source": [
    "def MOMENTUM_model(x_train, y_train, x_test, y_test):\n",
    "    model = Sequential()\n",
    "    model.add(Dense(1, activation='linear'))\n",
    "    # model.add(Ac)\n",
    "    print(\"Printing behins here: ----------------\")\n",
    "    model.compile(optimizer=tf.keras.optimizers.SGD(learning_rate=0.2/(1+0.96*100),momentum=0.9,\n",
    "        nesterov=False),loss=tf.keras.losses.mse)\n",
    "    train = model.fit(x_train,y_train,epochs=100)\n",
    "\n",
    "    #loss over time\n",
    "    plt.plot(train.history['loss'] ,label='loss')\n",
    "    plt.title('SGD')\n",
    "    plt.xlabel('epochs')\n",
    "    plt.ylabel('loss')\n",
    "    plt.legend('12345')\n",
    "    pred = model.predict(x_test)\n",
    "    return r2_score(y_test,pred)"
   ]
  },
  {
   "attachments": {},
   "cell_type": "markdown",
   "metadata": {},
   "source": [
    "## Nesterov"
   ]
  },
  {
   "cell_type": "code",
   "execution_count": 95,
   "metadata": {},
   "outputs": [],
   "source": [
    "def NESTEROV_model(x_train, y_train, x_test, y_test):\n",
    "    model = Sequential()\n",
    "    model.add(Dense(1, activation='linear'))\n",
    "    # model.add(Ac)\n",
    "    print(\"Printing behins here: ----------------\")\n",
    "    model.compile(optimizer=tf.keras.optimizers.SGD(learning_rate=0.01,momentum=0.9,\n",
    "        nesterov=True),loss=tf.keras.losses.mse)\n",
    "    train = model.fit(x_train,y_train,epochs=100)\n",
    "\n",
    "    #loss over time\n",
    "    plt.plot(train.history['loss'] ,label='loss')\n",
    "    plt.title('SGD')\n",
    "    plt.xlabel('epochs')\n",
    "    plt.ylabel('loss')\n",
    "    plt.legend('12345')\n",
    "    pred = model.predict(x_test)\n",
    "    return r2_score(y_test,pred)"
   ]
  },
  {
   "attachments": {},
   "cell_type": "markdown",
   "metadata": {},
   "source": [
    "## RmsProp"
   ]
  },
  {
   "cell_type": "code",
   "execution_count": 98,
   "metadata": {},
   "outputs": [],
   "source": [
    "def RMSPROP_model(x_train, y_train, x_test, y_test):\n",
    "    model = Sequential()\n",
    "    model.add(Dense(1, activation='linear'))\n",
    "    # model.add(Ac)\n",
    "    print(\"Printing behins here: ----------------\")\n",
    "    model.compile(optimizer=keras.optimizers.RMSprop(learning_rate=0.01, rho=0.9, epsilon=1e-8) ,loss=tf.keras.losses.mse)\n",
    "    train = model.fit(x_train,y_train,epochs=100)\n",
    "\n",
    "    #loss over time\n",
    "    plt.plot(train.history['loss'] ,label='loss')\n",
    "    plt.title('SGD')\n",
    "    plt.xlabel('epochs')\n",
    "    plt.ylabel('loss')\n",
    "    plt.legend(['1','2','3','4','5'])\n",
    "    pred = model.predict(x_test)\n",
    "    return r2_score(y_test,pred)"
   ]
  },
  {
   "attachments": {},
   "cell_type": "markdown",
   "metadata": {},
   "source": [
    "## ADAM"
   ]
  },
  {
   "cell_type": "code",
   "execution_count": 14,
   "metadata": {},
   "outputs": [],
   "source": [
    "def ADAM_model(x_train, y_train, x_test, y_test):\n",
    "    #Creating Sequential Model\n",
    "    # lr_schedule = keras.optimizers.schedules.l\n",
    "    print(\"Printing behins here: ----------------\")\n",
    "    model = Sequential()\n",
    "    model.add(Dense(1))\n",
    "    # Use the required optimizer to compile the model\n",
    "    model.compile(optimizer=Adam(learning_rate=0.2/(1+0.96*100),\n",
    "        beta_1=0.9,\n",
    "        beta_2=0.999,\n",
    "        epsilon=1e-8,\n",
    "        amsgrad=False,),loss=mse)\n",
    "    train = model.fit(x_train,y_train,epochs=100)\n",
    "\n",
    "    #loss over time\n",
    "    plt.plot(train.history['loss'],label='loss')\n",
    "    plt.xlabel('epochs')\n",
    "    plt.ylabel('loss')\n",
    "    plt.legend('Adam')\n",
    "    pred = model.predict(x_test)\n",
    "    return r2_score(y_test,pred)"
   ]
  },
  {
   "cell_type": "code",
   "execution_count": 17,
   "metadata": {},
   "outputs": [
    {
     "name": "stdout",
     "output_type": "stream",
     "text": [
      "Printing behins here: ----------------\n",
      "Epoch 1/100\n",
      "34/34 [==============================] - 21s 13ms/step - loss: 665.2834\n",
      "Epoch 2/100\n",
      "34/34 [==============================] - 0s 2ms/step - loss: 177.6550\n",
      "Epoch 3/100\n",
      "34/34 [==============================] - 0s 2ms/step - loss: 28.9648\n",
      "Epoch 4/100\n",
      "34/34 [==============================] - 0s 1ms/step - loss: 2.4798\n",
      "Epoch 5/100\n",
      "34/34 [==============================] - 0s 1ms/step - loss: 0.1557\n",
      "Epoch 6/100\n",
      "34/34 [==============================] - 0s 1ms/step - loss: 0.0772\n",
      "Epoch 7/100\n",
      "34/34 [==============================] - 0s 2ms/step - loss: 0.0742\n",
      "Epoch 8/100\n",
      "34/34 [==============================] - 0s 2ms/step - loss: 0.0714\n",
      "Epoch 9/100\n",
      "34/34 [==============================] - 0s 2ms/step - loss: 0.0685\n",
      "Epoch 10/100\n",
      "34/34 [==============================] - 0s 1ms/step - loss: 0.0657\n",
      "Epoch 11/100\n",
      "34/34 [==============================] - 0s 1ms/step - loss: 0.0628\n",
      "Epoch 12/100\n",
      "34/34 [==============================] - 0s 1ms/step - loss: 0.0600\n",
      "Epoch 13/100\n",
      "34/34 [==============================] - 0s 2ms/step - loss: 0.0573\n",
      "Epoch 14/100\n",
      "34/34 [==============================] - 0s 2ms/step - loss: 0.0545\n",
      "Epoch 15/100\n",
      "34/34 [==============================] - 0s 2ms/step - loss: 0.0519\n",
      "Epoch 16/100\n",
      "34/34 [==============================] - 0s 2ms/step - loss: 0.0494\n",
      "Epoch 17/100\n",
      "34/34 [==============================] - 0s 2ms/step - loss: 0.0470\n",
      "Epoch 18/100\n",
      "34/34 [==============================] - 0s 2ms/step - loss: 0.0448\n",
      "Epoch 19/100\n",
      "34/34 [==============================] - 0s 1ms/step - loss: 0.0426\n",
      "Epoch 20/100\n",
      "34/34 [==============================] - 0s 1ms/step - loss: 0.0406\n",
      "Epoch 21/100\n",
      "34/34 [==============================] - 0s 2ms/step - loss: 0.0387\n",
      "Epoch 22/100\n",
      "34/34 [==============================] - 0s 1ms/step - loss: 0.0369\n",
      "Epoch 23/100\n",
      "34/34 [==============================] - 0s 2ms/step - loss: 0.0353\n",
      "Epoch 24/100\n",
      "34/34 [==============================] - 0s 3ms/step - loss: 0.0337\n",
      "Epoch 25/100\n",
      "34/34 [==============================] - 0s 2ms/step - loss: 0.0323\n",
      "Epoch 26/100\n",
      "34/34 [==============================] - 0s 1ms/step - loss: 0.0310\n",
      "Epoch 27/100\n",
      "34/34 [==============================] - 0s 3ms/step - loss: 0.0298\n",
      "Epoch 28/100\n",
      "34/34 [==============================] - 0s 2ms/step - loss: 0.0286\n",
      "Epoch 29/100\n",
      "34/34 [==============================] - 0s 2ms/step - loss: 0.0276\n",
      "Epoch 30/100\n",
      "34/34 [==============================] - 0s 2ms/step - loss: 0.0267\n",
      "Epoch 31/100\n",
      "34/34 [==============================] - 0s 2ms/step - loss: 0.0259\n",
      "Epoch 32/100\n",
      "34/34 [==============================] - 0s 2ms/step - loss: 0.0251\n",
      "Epoch 33/100\n",
      "34/34 [==============================] - 0s 1ms/step - loss: 0.0244\n",
      "Epoch 34/100\n",
      "34/34 [==============================] - 0s 2ms/step - loss: 0.0237\n",
      "Epoch 35/100\n",
      "34/34 [==============================] - 0s 2ms/step - loss: 0.0231\n",
      "Epoch 36/100\n",
      "34/34 [==============================] - 0s 2ms/step - loss: 0.0226\n",
      "Epoch 37/100\n",
      "34/34 [==============================] - 0s 2ms/step - loss: 0.0221\n",
      "Epoch 38/100\n",
      "34/34 [==============================] - 0s 3ms/step - loss: 0.0217\n",
      "Epoch 39/100\n",
      "34/34 [==============================] - 0s 1ms/step - loss: 0.0213\n",
      "Epoch 40/100\n",
      "34/34 [==============================] - 0s 1ms/step - loss: 0.0209\n",
      "Epoch 41/100\n",
      "34/34 [==============================] - 0s 1ms/step - loss: 0.0206\n",
      "Epoch 42/100\n",
      "34/34 [==============================] - 0s 1ms/step - loss: 0.0202\n",
      "Epoch 43/100\n",
      "34/34 [==============================] - 0s 1ms/step - loss: 0.0199\n",
      "Epoch 44/100\n",
      "34/34 [==============================] - 0s 1ms/step - loss: 0.0198\n",
      "Epoch 45/100\n",
      "34/34 [==============================] - 0s 2ms/step - loss: 0.0194\n",
      "Epoch 46/100\n",
      "34/34 [==============================] - 0s 2ms/step - loss: 0.0191\n",
      "Epoch 47/100\n",
      "34/34 [==============================] - 0s 2ms/step - loss: 0.0189\n",
      "Epoch 48/100\n",
      "34/34 [==============================] - 0s 3ms/step - loss: 0.0187\n",
      "Epoch 49/100\n",
      "34/34 [==============================] - 0s 1ms/step - loss: 0.0185\n",
      "Epoch 50/100\n",
      "34/34 [==============================] - 0s 2ms/step - loss: 0.0183\n",
      "Epoch 51/100\n",
      "34/34 [==============================] - 0s 1ms/step - loss: 0.0181\n",
      "Epoch 52/100\n",
      "34/34 [==============================] - 0s 1ms/step - loss: 0.0179\n",
      "Epoch 53/100\n",
      "34/34 [==============================] - 0s 1ms/step - loss: 0.0177\n",
      "Epoch 54/100\n",
      "34/34 [==============================] - 0s 2ms/step - loss: 0.0175\n",
      "Epoch 55/100\n",
      "34/34 [==============================] - 0s 2ms/step - loss: 0.0175\n",
      "Epoch 56/100\n",
      "34/34 [==============================] - 0s 2ms/step - loss: 0.0173\n",
      "Epoch 57/100\n",
      "34/34 [==============================] - 0s 4ms/step - loss: 0.0170\n",
      "Epoch 58/100\n",
      "34/34 [==============================] - 0s 3ms/step - loss: 0.0169\n",
      "Epoch 59/100\n",
      "34/34 [==============================] - 0s 3ms/step - loss: 0.0167\n",
      "Epoch 60/100\n",
      "34/34 [==============================] - 0s 3ms/step - loss: 0.0165\n",
      "Epoch 61/100\n",
      "34/34 [==============================] - 0s 3ms/step - loss: 0.0163\n",
      "Epoch 62/100\n",
      "34/34 [==============================] - 0s 2ms/step - loss: 0.0163\n",
      "Epoch 63/100\n",
      "34/34 [==============================] - 0s 2ms/step - loss: 0.0160\n",
      "Epoch 64/100\n",
      "34/34 [==============================] - 0s 2ms/step - loss: 0.0159\n",
      "Epoch 65/100\n",
      "34/34 [==============================] - 0s 2ms/step - loss: 0.0157\n",
      "Epoch 66/100\n",
      "34/34 [==============================] - 0s 2ms/step - loss: 0.0157\n",
      "Epoch 67/100\n",
      "34/34 [==============================] - 0s 4ms/step - loss: 0.0156\n",
      "Epoch 68/100\n",
      "34/34 [==============================] - 0s 3ms/step - loss: 0.0154\n",
      "Epoch 69/100\n",
      "34/34 [==============================] - 0s 3ms/step - loss: 0.0152\n",
      "Epoch 70/100\n",
      "34/34 [==============================] - 0s 2ms/step - loss: 0.0151\n",
      "Epoch 71/100\n",
      "34/34 [==============================] - 0s 3ms/step - loss: 0.0149\n",
      "Epoch 72/100\n",
      "34/34 [==============================] - 0s 3ms/step - loss: 0.0148\n",
      "Epoch 73/100\n",
      "34/34 [==============================] - 0s 6ms/step - loss: 0.0147\n",
      "Epoch 74/100\n",
      "34/34 [==============================] - 0s 4ms/step - loss: 0.0146\n",
      "Epoch 75/100\n",
      "34/34 [==============================] - 0s 4ms/step - loss: 0.0145\n",
      "Epoch 76/100\n",
      "34/34 [==============================] - 0s 4ms/step - loss: 0.0143\n",
      "Epoch 77/100\n",
      "34/34 [==============================] - 0s 3ms/step - loss: 0.0143\n",
      "Epoch 78/100\n",
      "34/34 [==============================] - 0s 4ms/step - loss: 0.0142\n",
      "Epoch 79/100\n",
      "34/34 [==============================] - 0s 2ms/step - loss: 0.0140\n",
      "Epoch 80/100\n",
      "34/34 [==============================] - 0s 4ms/step - loss: 0.0139\n",
      "Epoch 81/100\n",
      "34/34 [==============================] - 0s 3ms/step - loss: 0.0137\n",
      "Epoch 82/100\n",
      "34/34 [==============================] - 0s 3ms/step - loss: 0.0136\n",
      "Epoch 83/100\n",
      "34/34 [==============================] - 0s 3ms/step - loss: 0.0135\n",
      "Epoch 84/100\n",
      "34/34 [==============================] - 0s 3ms/step - loss: 0.0135\n",
      "Epoch 85/100\n",
      "34/34 [==============================] - 0s 2ms/step - loss: 0.0134\n",
      "Epoch 86/100\n",
      "34/34 [==============================] - 0s 3ms/step - loss: 0.0132\n",
      "Epoch 87/100\n",
      "34/34 [==============================] - 0s 3ms/step - loss: 0.0131\n",
      "Epoch 88/100\n",
      "34/34 [==============================] - 0s 3ms/step - loss: 0.0130\n",
      "Epoch 89/100\n",
      "34/34 [==============================] - 0s 3ms/step - loss: 0.0129\n",
      "Epoch 90/100\n",
      "34/34 [==============================] - 0s 3ms/step - loss: 0.0128\n",
      "Epoch 91/100\n",
      "34/34 [==============================] - 0s 3ms/step - loss: 0.0127\n",
      "Epoch 92/100\n",
      "34/34 [==============================] - 0s 3ms/step - loss: 0.0126\n",
      "Epoch 93/100\n",
      "34/34 [==============================] - 0s 2ms/step - loss: 0.0125\n",
      "Epoch 94/100\n",
      "34/34 [==============================] - 0s 3ms/step - loss: 0.0126\n",
      "Epoch 95/100\n",
      "34/34 [==============================] - 0s 4ms/step - loss: 0.0123\n",
      "Epoch 96/100\n",
      "34/34 [==============================] - 0s 4ms/step - loss: 0.0123\n",
      "Epoch 97/100\n",
      "34/34 [==============================] - 0s 4ms/step - loss: 0.0122\n",
      "Epoch 98/100\n",
      "34/34 [==============================] - 0s 4ms/step - loss: 0.0121\n",
      "Epoch 99/100\n",
      "34/34 [==============================] - 0s 5ms/step - loss: 0.0121\n",
      "Epoch 100/100\n",
      "34/34 [==============================] - 0s 4ms/step - loss: 0.0120\n",
      "9/9 [==============================] - 1s 2ms/step\n",
      "Printing behins here: ----------------\n",
      "Epoch 1/100\n",
      "34/34 [==============================] - 1s 1ms/step - loss: 127.1243\n",
      "Epoch 2/100\n",
      "34/34 [==============================] - 0s 2ms/step - loss: 3.5341\n",
      "Epoch 3/100\n",
      "34/34 [==============================] - 0s 1ms/step - loss: 0.1596\n",
      "Epoch 4/100\n",
      "34/34 [==============================] - 0s 1ms/step - loss: 0.0548\n",
      "Epoch 5/100\n",
      "34/34 [==============================] - 0s 1ms/step - loss: 0.0535\n",
      "Epoch 6/100\n",
      "34/34 [==============================] - 0s 1ms/step - loss: 0.0524\n",
      "Epoch 7/100\n",
      "34/34 [==============================] - 0s 2ms/step - loss: 0.0513\n",
      "Epoch 8/100\n",
      "34/34 [==============================] - 0s 3ms/step - loss: 0.0502\n",
      "Epoch 9/100\n",
      "34/34 [==============================] - 0s 2ms/step - loss: 0.0491\n",
      "Epoch 10/100\n",
      "34/34 [==============================] - 0s 2ms/step - loss: 0.0479\n",
      "Epoch 11/100\n",
      "34/34 [==============================] - 0s 3ms/step - loss: 0.0467\n",
      "Epoch 12/100\n",
      "34/34 [==============================] - 0s 3ms/step - loss: 0.0456\n",
      "Epoch 13/100\n",
      "34/34 [==============================] - 0s 2ms/step - loss: 0.0444\n",
      "Epoch 14/100\n",
      "34/34 [==============================] - 0s 2ms/step - loss: 0.0431\n",
      "Epoch 15/100\n",
      "34/34 [==============================] - 0s 2ms/step - loss: 0.0420\n",
      "Epoch 16/100\n",
      "34/34 [==============================] - 0s 2ms/step - loss: 0.0408\n",
      "Epoch 17/100\n",
      "34/34 [==============================] - 0s 2ms/step - loss: 0.0397\n",
      "Epoch 18/100\n",
      "34/34 [==============================] - 0s 2ms/step - loss: 0.0384\n",
      "Epoch 19/100\n",
      "34/34 [==============================] - 0s 2ms/step - loss: 0.0374\n",
      "Epoch 20/100\n",
      "34/34 [==============================] - 0s 2ms/step - loss: 0.0362\n",
      "Epoch 21/100\n",
      "34/34 [==============================] - 0s 2ms/step - loss: 0.0351\n",
      "Epoch 22/100\n",
      "34/34 [==============================] - 0s 3ms/step - loss: 0.0343\n",
      "Epoch 23/100\n",
      "34/34 [==============================] - 0s 2ms/step - loss: 0.0331\n",
      "Epoch 24/100\n",
      "34/34 [==============================] - 0s 3ms/step - loss: 0.0320\n",
      "Epoch 25/100\n",
      "34/34 [==============================] - 0s 2ms/step - loss: 0.0311\n",
      "Epoch 26/100\n",
      "34/34 [==============================] - 0s 4ms/step - loss: 0.0302\n",
      "Epoch 27/100\n",
      "34/34 [==============================] - 0s 3ms/step - loss: 0.0294\n",
      "Epoch 28/100\n",
      "34/34 [==============================] - 0s 2ms/step - loss: 0.0285\n",
      "Epoch 29/100\n",
      "34/34 [==============================] - 0s 2ms/step - loss: 0.0275\n",
      "Epoch 30/100\n",
      "34/34 [==============================] - 0s 1ms/step - loss: 0.0267\n",
      "Epoch 31/100\n",
      "34/34 [==============================] - 0s 1ms/step - loss: 0.0261\n",
      "Epoch 32/100\n",
      "34/34 [==============================] - 0s 1ms/step - loss: 0.0252\n",
      "Epoch 33/100\n",
      "34/34 [==============================] - 0s 1ms/step - loss: 0.0246\n",
      "Epoch 34/100\n",
      "34/34 [==============================] - 0s 2ms/step - loss: 0.0238\n",
      "Epoch 35/100\n",
      "34/34 [==============================] - 0s 3ms/step - loss: 0.0232\n",
      "Epoch 36/100\n",
      "34/34 [==============================] - 0s 2ms/step - loss: 0.0227\n",
      "Epoch 37/100\n",
      "34/34 [==============================] - 0s 1ms/step - loss: 0.0219\n",
      "Epoch 38/100\n",
      "34/34 [==============================] - 0s 1ms/step - loss: 0.0216\n",
      "Epoch 39/100\n",
      "34/34 [==============================] - 0s 1ms/step - loss: 0.0208\n",
      "Epoch 40/100\n",
      "34/34 [==============================] - 0s 1ms/step - loss: 0.0204\n",
      "Epoch 41/100\n",
      "34/34 [==============================] - 0s 1ms/step - loss: 0.0200\n",
      "Epoch 42/100\n",
      "34/34 [==============================] - 0s 1ms/step - loss: 0.0195\n",
      "Epoch 43/100\n",
      "34/34 [==============================] - 0s 1ms/step - loss: 0.0191\n",
      "Epoch 44/100\n",
      "34/34 [==============================] - 0s 2ms/step - loss: 0.0186\n",
      "Epoch 45/100\n",
      "34/34 [==============================] - 0s 2ms/step - loss: 0.0183\n",
      "Epoch 46/100\n",
      "34/34 [==============================] - 0s 2ms/step - loss: 0.0177\n",
      "Epoch 47/100\n",
      "34/34 [==============================] - 0s 3ms/step - loss: 0.0175\n",
      "Epoch 48/100\n",
      "34/34 [==============================] - 0s 2ms/step - loss: 0.0171\n",
      "Epoch 49/100\n",
      "34/34 [==============================] - 0s 2ms/step - loss: 0.0167\n",
      "Epoch 50/100\n",
      "34/34 [==============================] - 0s 2ms/step - loss: 0.0165\n",
      "Epoch 51/100\n",
      "34/34 [==============================] - 0s 2ms/step - loss: 0.0162\n",
      "Epoch 52/100\n",
      "34/34 [==============================] - 0s 3ms/step - loss: 0.0158\n",
      "Epoch 53/100\n",
      "34/34 [==============================] - 0s 2ms/step - loss: 0.0157\n",
      "Epoch 54/100\n",
      "34/34 [==============================] - 0s 2ms/step - loss: 0.0156\n",
      "Epoch 55/100\n",
      "34/34 [==============================] - 0s 1ms/step - loss: 0.0152\n",
      "Epoch 56/100\n",
      "34/34 [==============================] - 0s 1ms/step - loss: 0.0151\n",
      "Epoch 57/100\n",
      "34/34 [==============================] - 0s 1ms/step - loss: 0.0146\n",
      "Epoch 58/100\n",
      "34/34 [==============================] - 0s 1ms/step - loss: 0.0143\n",
      "Epoch 59/100\n",
      "34/34 [==============================] - 0s 1ms/step - loss: 0.0143\n",
      "Epoch 60/100\n",
      "34/34 [==============================] - 0s 1ms/step - loss: 0.0143\n",
      "Epoch 61/100\n",
      "34/34 [==============================] - 0s 2ms/step - loss: 0.0138\n",
      "Epoch 62/100\n",
      "34/34 [==============================] - 0s 1ms/step - loss: 0.0136\n",
      "Epoch 63/100\n",
      "34/34 [==============================] - 0s 3ms/step - loss: 0.0133\n",
      "Epoch 64/100\n",
      "34/34 [==============================] - 0s 3ms/step - loss: 0.0132\n",
      "Epoch 65/100\n",
      "34/34 [==============================] - 0s 2ms/step - loss: 0.0130\n",
      "Epoch 66/100\n",
      "34/34 [==============================] - 0s 1ms/step - loss: 0.0127\n",
      "Epoch 67/100\n",
      "34/34 [==============================] - 0s 1ms/step - loss: 0.0126\n",
      "Epoch 68/100\n",
      "34/34 [==============================] - 0s 2ms/step - loss: 0.0125\n",
      "Epoch 69/100\n",
      "34/34 [==============================] - 0s 2ms/step - loss: 0.0124\n",
      "Epoch 70/100\n",
      "34/34 [==============================] - 0s 1ms/step - loss: 0.0122\n",
      "Epoch 71/100\n",
      "34/34 [==============================] - 0s 1ms/step - loss: 0.0121\n",
      "Epoch 72/100\n",
      "34/34 [==============================] - 0s 3ms/step - loss: 0.0120\n",
      "Epoch 73/100\n",
      "34/34 [==============================] - 0s 3ms/step - loss: 0.0118\n",
      "Epoch 74/100\n",
      "34/34 [==============================] - 0s 2ms/step - loss: 0.0117\n",
      "Epoch 75/100\n",
      "34/34 [==============================] - 0s 2ms/step - loss: 0.0117\n",
      "Epoch 76/100\n",
      "34/34 [==============================] - 0s 1ms/step - loss: 0.0114\n",
      "Epoch 77/100\n",
      "34/34 [==============================] - 0s 1ms/step - loss: 0.0113\n",
      "Epoch 78/100\n",
      "34/34 [==============================] - 0s 1ms/step - loss: 0.0113\n",
      "Epoch 79/100\n",
      "34/34 [==============================] - 0s 1ms/step - loss: 0.0111\n",
      "Epoch 80/100\n",
      "34/34 [==============================] - 0s 1ms/step - loss: 0.0110\n",
      "Epoch 81/100\n",
      "34/34 [==============================] - 0s 1ms/step - loss: 0.0110\n",
      "Epoch 82/100\n",
      "34/34 [==============================] - 0s 2ms/step - loss: 0.0108\n",
      "Epoch 83/100\n",
      "34/34 [==============================] - 0s 3ms/step - loss: 0.0109\n",
      "Epoch 84/100\n",
      "34/34 [==============================] - 0s 3ms/step - loss: 0.0107\n",
      "Epoch 85/100\n",
      "34/34 [==============================] - 0s 2ms/step - loss: 0.0108\n",
      "Epoch 86/100\n",
      "34/34 [==============================] - 0s 2ms/step - loss: 0.0107\n",
      "Epoch 87/100\n",
      "34/34 [==============================] - 0s 2ms/step - loss: 0.0106\n",
      "Epoch 88/100\n",
      "34/34 [==============================] - 0s 1ms/step - loss: 0.0105\n",
      "Epoch 89/100\n",
      "34/34 [==============================] - 0s 1ms/step - loss: 0.0103\n",
      "Epoch 90/100\n",
      "34/34 [==============================] - 0s 3ms/step - loss: 0.0102\n",
      "Epoch 91/100\n",
      "34/34 [==============================] - 0s 2ms/step - loss: 0.0102\n",
      "Epoch 92/100\n",
      "34/34 [==============================] - 0s 2ms/step - loss: 0.0103\n",
      "Epoch 93/100\n",
      "34/34 [==============================] - 0s 1ms/step - loss: 0.0102\n",
      "Epoch 94/100\n",
      "34/34 [==============================] - 0s 1ms/step - loss: 0.0101\n",
      "Epoch 95/100\n",
      "34/34 [==============================] - 0s 1ms/step - loss: 0.0100\n",
      "Epoch 96/100\n",
      "34/34 [==============================] - 0s 1ms/step - loss: 0.0100\n",
      "Epoch 97/100\n",
      "34/34 [==============================] - 0s 1ms/step - loss: 0.0103\n",
      "Epoch 98/100\n",
      "34/34 [==============================] - 0s 1ms/step - loss: 0.0100\n",
      "Epoch 99/100\n",
      "34/34 [==============================] - 0s 1ms/step - loss: 0.0099\n",
      "Epoch 100/100\n",
      "34/34 [==============================] - 0s 1ms/step - loss: 0.0099\n",
      "9/9 [==============================] - 0s 4ms/step\n",
      "Printing behins here: ----------------\n",
      "Epoch 1/100\n",
      "34/34 [==============================] - 1s 2ms/step - loss: 1128.1118\n",
      "Epoch 2/100\n",
      "34/34 [==============================] - 0s 2ms/step - loss: 426.6069\n",
      "Epoch 3/100\n",
      "34/34 [==============================] - 0s 3ms/step - loss: 122.6724\n",
      "Epoch 4/100\n",
      "34/34 [==============================] - 0s 2ms/step - loss: 26.0281\n",
      "Epoch 5/100\n",
      "34/34 [==============================] - 0s 2ms/step - loss: 3.9720\n",
      "Epoch 6/100\n",
      "34/34 [==============================] - 0s 3ms/step - loss: 0.4700\n",
      "Epoch 7/100\n",
      "34/34 [==============================] - 0s 2ms/step - loss: 0.1084\n",
      "Epoch 8/100\n",
      "34/34 [==============================] - 0s 4ms/step - loss: 0.0852\n",
      "Epoch 9/100\n",
      "34/34 [==============================] - 0s 3ms/step - loss: 0.0826\n",
      "Epoch 10/100\n",
      "34/34 [==============================] - 0s 3ms/step - loss: 0.0813\n",
      "Epoch 11/100\n",
      "34/34 [==============================] - 0s 3ms/step - loss: 0.0799\n",
      "Epoch 12/100\n",
      "34/34 [==============================] - 0s 2ms/step - loss: 0.0786\n",
      "Epoch 13/100\n",
      "34/34 [==============================] - 0s 2ms/step - loss: 0.0772\n",
      "Epoch 14/100\n",
      "34/34 [==============================] - 0s 2ms/step - loss: 0.0757\n",
      "Epoch 15/100\n",
      "34/34 [==============================] - 0s 2ms/step - loss: 0.0743\n",
      "Epoch 16/100\n",
      "34/34 [==============================] - 0s 2ms/step - loss: 0.0729\n",
      "Epoch 17/100\n",
      "34/34 [==============================] - 0s 2ms/step - loss: 0.0714\n",
      "Epoch 18/100\n",
      "34/34 [==============================] - 0s 3ms/step - loss: 0.0701\n",
      "Epoch 19/100\n",
      "34/34 [==============================] - 0s 2ms/step - loss: 0.0686\n",
      "Epoch 20/100\n",
      "34/34 [==============================] - 0s 2ms/step - loss: 0.0671\n",
      "Epoch 21/100\n",
      "34/34 [==============================] - 0s 2ms/step - loss: 0.0657\n",
      "Epoch 22/100\n",
      "34/34 [==============================] - 0s 3ms/step - loss: 0.0642\n",
      "Epoch 23/100\n",
      "34/34 [==============================] - 0s 2ms/step - loss: 0.0628\n",
      "Epoch 24/100\n",
      "34/34 [==============================] - 0s 2ms/step - loss: 0.0614\n",
      "Epoch 25/100\n",
      "34/34 [==============================] - 0s 2ms/step - loss: 0.0601\n",
      "Epoch 26/100\n",
      "34/34 [==============================] - 0s 2ms/step - loss: 0.0586\n",
      "Epoch 27/100\n",
      "34/34 [==============================] - 0s 2ms/step - loss: 0.0572\n",
      "Epoch 28/100\n",
      "34/34 [==============================] - 0s 2ms/step - loss: 0.0559\n",
      "Epoch 29/100\n",
      "34/34 [==============================] - 0s 3ms/step - loss: 0.0546\n",
      "Epoch 30/100\n",
      "34/34 [==============================] - 0s 2ms/step - loss: 0.0534\n",
      "Epoch 31/100\n",
      "34/34 [==============================] - 0s 1ms/step - loss: 0.0521\n",
      "Epoch 32/100\n",
      "34/34 [==============================] - 0s 2ms/step - loss: 0.0508\n",
      "Epoch 33/100\n",
      "34/34 [==============================] - 0s 2ms/step - loss: 0.0496\n",
      "Epoch 34/100\n",
      "34/34 [==============================] - 0s 1ms/step - loss: 0.0485\n",
      "Epoch 35/100\n",
      "34/34 [==============================] - 0s 1ms/step - loss: 0.0473\n",
      "Epoch 36/100\n",
      "34/34 [==============================] - 0s 3ms/step - loss: 0.0461\n",
      "Epoch 37/100\n",
      "34/34 [==============================] - 0s 2ms/step - loss: 0.0450\n",
      "Epoch 38/100\n",
      "34/34 [==============================] - 0s 2ms/step - loss: 0.0438\n",
      "Epoch 39/100\n",
      "34/34 [==============================] - 0s 2ms/step - loss: 0.0428\n",
      "Epoch 40/100\n",
      "34/34 [==============================] - 0s 2ms/step - loss: 0.0417\n",
      "Epoch 41/100\n",
      "34/34 [==============================] - 0s 3ms/step - loss: 0.0406\n",
      "Epoch 42/100\n",
      "34/34 [==============================] - 0s 2ms/step - loss: 0.0396\n",
      "Epoch 43/100\n",
      "34/34 [==============================] - 0s 4ms/step - loss: 0.0386\n",
      "Epoch 44/100\n",
      "34/34 [==============================] - 0s 3ms/step - loss: 0.0376\n",
      "Epoch 45/100\n",
      "34/34 [==============================] - 0s 3ms/step - loss: 0.0366\n",
      "Epoch 46/100\n",
      "34/34 [==============================] - 0s 2ms/step - loss: 0.0357\n",
      "Epoch 47/100\n",
      "34/34 [==============================] - 0s 4ms/step - loss: 0.0348\n",
      "Epoch 48/100\n",
      "34/34 [==============================] - 0s 3ms/step - loss: 0.0339\n",
      "Epoch 49/100\n",
      "34/34 [==============================] - 0s 3ms/step - loss: 0.0330\n",
      "Epoch 50/100\n",
      "34/34 [==============================] - 0s 3ms/step - loss: 0.0321\n",
      "Epoch 51/100\n",
      "34/34 [==============================] - 0s 3ms/step - loss: 0.0313\n",
      "Epoch 52/100\n",
      "34/34 [==============================] - 0s 3ms/step - loss: 0.0305\n",
      "Epoch 53/100\n",
      "34/34 [==============================] - 0s 2ms/step - loss: 0.0297\n",
      "Epoch 54/100\n",
      "34/34 [==============================] - 0s 3ms/step - loss: 0.0289\n",
      "Epoch 55/100\n",
      "34/34 [==============================] - 0s 2ms/step - loss: 0.0281\n",
      "Epoch 56/100\n",
      "34/34 [==============================] - 0s 2ms/step - loss: 0.0274\n",
      "Epoch 57/100\n",
      "34/34 [==============================] - 0s 3ms/step - loss: 0.0266\n",
      "Epoch 58/100\n",
      "34/34 [==============================] - 0s 3ms/step - loss: 0.0260\n",
      "Epoch 59/100\n",
      "34/34 [==============================] - 0s 2ms/step - loss: 0.0252\n",
      "Epoch 60/100\n",
      "34/34 [==============================] - 0s 2ms/step - loss: 0.0246\n",
      "Epoch 61/100\n",
      "34/34 [==============================] - 0s 2ms/step - loss: 0.0240\n",
      "Epoch 62/100\n",
      "34/34 [==============================] - 0s 2ms/step - loss: 0.0233\n",
      "Epoch 63/100\n",
      "34/34 [==============================] - 0s 4ms/step - loss: 0.0226\n",
      "Epoch 64/100\n",
      "34/34 [==============================] - 0s 2ms/step - loss: 0.0221\n",
      "Epoch 65/100\n",
      "34/34 [==============================] - 0s 3ms/step - loss: 0.0215\n",
      "Epoch 66/100\n",
      "34/34 [==============================] - 0s 2ms/step - loss: 0.0209\n",
      "Epoch 67/100\n",
      "34/34 [==============================] - 0s 2ms/step - loss: 0.0203\n",
      "Epoch 68/100\n",
      "34/34 [==============================] - 0s 2ms/step - loss: 0.0198\n",
      "Epoch 69/100\n",
      "34/34 [==============================] - 0s 2ms/step - loss: 0.0193\n",
      "Epoch 70/100\n",
      "34/34 [==============================] - 0s 2ms/step - loss: 0.0188\n",
      "Epoch 71/100\n",
      "34/34 [==============================] - 0s 4ms/step - loss: 0.0184\n",
      "Epoch 72/100\n",
      "34/34 [==============================] - 0s 2ms/step - loss: 0.0179\n",
      "Epoch 73/100\n",
      "34/34 [==============================] - 0s 2ms/step - loss: 0.0175\n",
      "Epoch 74/100\n",
      "34/34 [==============================] - 0s 2ms/step - loss: 0.0170\n",
      "Epoch 75/100\n",
      "34/34 [==============================] - 0s 2ms/step - loss: 0.0166\n",
      "Epoch 76/100\n",
      "34/34 [==============================] - 0s 3ms/step - loss: 0.0162\n",
      "Epoch 77/100\n",
      "34/34 [==============================] - 0s 2ms/step - loss: 0.0158\n",
      "Epoch 78/100\n",
      "34/34 [==============================] - 0s 2ms/step - loss: 0.0155\n",
      "Epoch 79/100\n",
      "34/34 [==============================] - 0s 1ms/step - loss: 0.0151\n",
      "Epoch 80/100\n",
      "34/34 [==============================] - 0s 2ms/step - loss: 0.0148\n",
      "Epoch 81/100\n",
      "34/34 [==============================] - 0s 1ms/step - loss: 0.0145\n",
      "Epoch 82/100\n",
      "34/34 [==============================] - 0s 2ms/step - loss: 0.0142\n",
      "Epoch 83/100\n",
      "34/34 [==============================] - 0s 2ms/step - loss: 0.0139\n",
      "Epoch 84/100\n",
      "34/34 [==============================] - 0s 3ms/step - loss: 0.0137\n",
      "Epoch 85/100\n",
      "34/34 [==============================] - 0s 3ms/step - loss: 0.0134\n",
      "Epoch 86/100\n",
      "34/34 [==============================] - 0s 3ms/step - loss: 0.0132\n",
      "Epoch 87/100\n",
      "34/34 [==============================] - 0s 2ms/step - loss: 0.0129\n",
      "Epoch 88/100\n",
      "34/34 [==============================] - 0s 3ms/step - loss: 0.0127\n",
      "Epoch 89/100\n",
      "34/34 [==============================] - 0s 3ms/step - loss: 0.0125\n",
      "Epoch 90/100\n",
      "34/34 [==============================] - 0s 2ms/step - loss: 0.0123\n",
      "Epoch 91/100\n",
      "34/34 [==============================] - 0s 2ms/step - loss: 0.0121\n",
      "Epoch 92/100\n",
      "34/34 [==============================] - 0s 3ms/step - loss: 0.0119\n",
      "Epoch 93/100\n",
      "34/34 [==============================] - 0s 3ms/step - loss: 0.0118\n",
      "Epoch 94/100\n",
      "34/34 [==============================] - 0s 3ms/step - loss: 0.0116\n",
      "Epoch 95/100\n",
      "34/34 [==============================] - 0s 3ms/step - loss: 0.0115\n",
      "Epoch 96/100\n",
      "34/34 [==============================] - 0s 2ms/step - loss: 0.0114\n",
      "Epoch 97/100\n",
      "34/34 [==============================] - 0s 1ms/step - loss: 0.0112\n",
      "Epoch 98/100\n",
      "34/34 [==============================] - 0s 1ms/step - loss: 0.0111\n",
      "Epoch 99/100\n",
      "34/34 [==============================] - 0s 2ms/step - loss: 0.0110\n",
      "Epoch 100/100\n",
      "34/34 [==============================] - 0s 2ms/step - loss: 0.0109\n",
      "9/9 [==============================] - 0s 1ms/step\n",
      "Printing behins here: ----------------\n",
      "Epoch 1/100\n",
      "34/34 [==============================] - 1s 2ms/step - loss: 53.9587\n",
      "Epoch 2/100\n",
      "34/34 [==============================] - 0s 3ms/step - loss: 0.5007\n",
      "Epoch 3/100\n",
      "34/34 [==============================] - 0s 3ms/step - loss: 0.1690\n",
      "Epoch 4/100\n",
      "34/34 [==============================] - 0s 2ms/step - loss: 0.1432\n",
      "Epoch 5/100\n",
      "34/34 [==============================] - 0s 2ms/step - loss: 0.1337\n",
      "Epoch 6/100\n",
      "34/34 [==============================] - 0s 2ms/step - loss: 0.1248\n",
      "Epoch 7/100\n",
      "34/34 [==============================] - 0s 2ms/step - loss: 0.1169\n",
      "Epoch 8/100\n",
      "34/34 [==============================] - 0s 3ms/step - loss: 0.1083\n",
      "Epoch 9/100\n",
      "34/34 [==============================] - 0s 3ms/step - loss: 0.1010\n",
      "Epoch 10/100\n",
      "34/34 [==============================] - 0s 3ms/step - loss: 0.0934\n",
      "Epoch 11/100\n",
      "34/34 [==============================] - 0s 3ms/step - loss: 0.0871\n",
      "Epoch 12/100\n",
      "34/34 [==============================] - 0s 5ms/step - loss: 0.0806\n",
      "Epoch 13/100\n",
      "34/34 [==============================] - 0s 3ms/step - loss: 0.0749\n",
      "Epoch 14/100\n",
      "34/34 [==============================] - 0s 4ms/step - loss: 0.0696\n",
      "Epoch 15/100\n",
      "34/34 [==============================] - 0s 3ms/step - loss: 0.0647\n",
      "Epoch 16/100\n",
      "34/34 [==============================] - 0s 2ms/step - loss: 0.0603\n",
      "Epoch 17/100\n",
      "34/34 [==============================] - 0s 2ms/step - loss: 0.0557\n",
      "Epoch 18/100\n",
      "34/34 [==============================] - 0s 2ms/step - loss: 0.0517\n",
      "Epoch 19/100\n",
      "34/34 [==============================] - 0s 2ms/step - loss: 0.0483\n",
      "Epoch 20/100\n",
      "34/34 [==============================] - 0s 2ms/step - loss: 0.0442\n",
      "Epoch 21/100\n",
      "34/34 [==============================] - 0s 1ms/step - loss: 0.0409\n",
      "Epoch 22/100\n",
      "34/34 [==============================] - 0s 2ms/step - loss: 0.0381\n",
      "Epoch 23/100\n",
      "34/34 [==============================] - 0s 1ms/step - loss: 0.0350\n",
      "Epoch 24/100\n",
      "34/34 [==============================] - 0s 1ms/step - loss: 0.0325\n",
      "Epoch 25/100\n",
      "34/34 [==============================] - 0s 1ms/step - loss: 0.0301\n",
      "Epoch 26/100\n",
      "34/34 [==============================] - 0s 2ms/step - loss: 0.0278\n",
      "Epoch 27/100\n",
      "34/34 [==============================] - 0s 1ms/step - loss: 0.0258\n",
      "Epoch 28/100\n",
      "34/34 [==============================] - 0s 1ms/step - loss: 0.0237\n",
      "Epoch 29/100\n",
      "34/34 [==============================] - 0s 1ms/step - loss: 0.0221\n",
      "Epoch 30/100\n",
      "34/34 [==============================] - 0s 1ms/step - loss: 0.0205\n",
      "Epoch 31/100\n",
      "34/34 [==============================] - 0s 1ms/step - loss: 0.0194\n",
      "Epoch 32/100\n",
      "34/34 [==============================] - 0s 2ms/step - loss: 0.0180\n",
      "Epoch 33/100\n",
      "34/34 [==============================] - 0s 1ms/step - loss: 0.0169\n",
      "Epoch 34/100\n",
      "34/34 [==============================] - 0s 1ms/step - loss: 0.0158\n",
      "Epoch 35/100\n",
      "34/34 [==============================] - 0s 1ms/step - loss: 0.0151\n",
      "Epoch 36/100\n",
      "34/34 [==============================] - 0s 2ms/step - loss: 0.0143\n",
      "Epoch 37/100\n",
      "34/34 [==============================] - 0s 3ms/step - loss: 0.0135\n",
      "Epoch 38/100\n",
      "34/34 [==============================] - 0s 2ms/step - loss: 0.0130\n",
      "Epoch 39/100\n",
      "34/34 [==============================] - 0s 3ms/step - loss: 0.0123\n",
      "Epoch 40/100\n",
      "34/34 [==============================] - 0s 3ms/step - loss: 0.0120\n",
      "Epoch 41/100\n",
      "34/34 [==============================] - 0s 6ms/step - loss: 0.0117\n",
      "Epoch 42/100\n",
      "34/34 [==============================] - 0s 4ms/step - loss: 0.0113\n",
      "Epoch 43/100\n",
      "34/34 [==============================] - 0s 3ms/step - loss: 0.0112\n",
      "Epoch 44/100\n",
      "34/34 [==============================] - 0s 4ms/step - loss: 0.0108\n",
      "Epoch 45/100\n",
      "34/34 [==============================] - 0s 3ms/step - loss: 0.0104\n",
      "Epoch 46/100\n",
      "34/34 [==============================] - 0s 2ms/step - loss: 0.0102\n",
      "Epoch 47/100\n",
      "34/34 [==============================] - 0s 3ms/step - loss: 0.0101\n",
      "Epoch 48/100\n",
      "34/34 [==============================] - 0s 3ms/step - loss: 0.0100\n",
      "Epoch 49/100\n",
      "34/34 [==============================] - 0s 2ms/step - loss: 0.0100\n",
      "Epoch 50/100\n",
      "34/34 [==============================] - 0s 2ms/step - loss: 0.0098\n",
      "Epoch 51/100\n",
      "34/34 [==============================] - 0s 3ms/step - loss: 0.0097\n",
      "Epoch 52/100\n",
      "34/34 [==============================] - 0s 2ms/step - loss: 0.0097\n",
      "Epoch 53/100\n",
      "34/34 [==============================] - 0s 2ms/step - loss: 0.0097\n",
      "Epoch 54/100\n",
      "34/34 [==============================] - 0s 2ms/step - loss: 0.0097\n",
      "Epoch 55/100\n",
      "34/34 [==============================] - 0s 3ms/step - loss: 0.0095\n",
      "Epoch 56/100\n",
      "34/34 [==============================] - 0s 2ms/step - loss: 0.0095\n",
      "Epoch 57/100\n",
      "34/34 [==============================] - 0s 3ms/step - loss: 0.0094\n",
      "Epoch 58/100\n",
      "34/34 [==============================] - 0s 2ms/step - loss: 0.0094\n",
      "Epoch 59/100\n",
      "34/34 [==============================] - 0s 2ms/step - loss: 0.0094\n",
      "Epoch 60/100\n",
      "34/34 [==============================] - 0s 4ms/step - loss: 0.0094\n",
      "Epoch 61/100\n",
      "34/34 [==============================] - 0s 3ms/step - loss: 0.0094\n",
      "Epoch 62/100\n",
      "34/34 [==============================] - 0s 3ms/step - loss: 0.0093\n",
      "Epoch 63/100\n",
      "34/34 [==============================] - 0s 3ms/step - loss: 0.0094\n",
      "Epoch 64/100\n",
      "34/34 [==============================] - 0s 2ms/step - loss: 0.0093\n",
      "Epoch 65/100\n",
      "34/34 [==============================] - 0s 3ms/step - loss: 0.0095\n",
      "Epoch 66/100\n",
      "34/34 [==============================] - 0s 2ms/step - loss: 0.0094\n",
      "Epoch 67/100\n",
      "34/34 [==============================] - 0s 2ms/step - loss: 0.0095\n",
      "Epoch 68/100\n",
      "34/34 [==============================] - 0s 1ms/step - loss: 0.0093\n",
      "Epoch 69/100\n",
      "34/34 [==============================] - 0s 1ms/step - loss: 0.0092\n",
      "Epoch 70/100\n",
      "34/34 [==============================] - 0s 1ms/step - loss: 0.0093\n",
      "Epoch 71/100\n",
      "34/34 [==============================] - 0s 1ms/step - loss: 0.0094\n",
      "Epoch 72/100\n",
      "34/34 [==============================] - 0s 2ms/step - loss: 0.0094\n",
      "Epoch 73/100\n",
      "34/34 [==============================] - 0s 4ms/step - loss: 0.0093\n",
      "Epoch 74/100\n",
      "34/34 [==============================] - 0s 3ms/step - loss: 0.0094\n",
      "Epoch 75/100\n",
      "34/34 [==============================] - 0s 3ms/step - loss: 0.0094\n",
      "Epoch 76/100\n",
      "34/34 [==============================] - 0s 3ms/step - loss: 0.0094\n",
      "Epoch 77/100\n",
      "34/34 [==============================] - 0s 3ms/step - loss: 0.0094\n",
      "Epoch 78/100\n",
      "34/34 [==============================] - 0s 4ms/step - loss: 0.0095\n",
      "Epoch 79/100\n",
      "34/34 [==============================] - 0s 3ms/step - loss: 0.0093\n",
      "Epoch 80/100\n",
      "34/34 [==============================] - 0s 2ms/step - loss: 0.0092\n",
      "Epoch 81/100\n",
      "34/34 [==============================] - 0s 3ms/step - loss: 0.0093\n",
      "Epoch 82/100\n",
      "34/34 [==============================] - 0s 3ms/step - loss: 0.0093\n",
      "Epoch 83/100\n",
      "34/34 [==============================] - 0s 3ms/step - loss: 0.0093\n",
      "Epoch 84/100\n",
      "34/34 [==============================] - 0s 4ms/step - loss: 0.0092\n",
      "Epoch 85/100\n",
      "34/34 [==============================] - 0s 4ms/step - loss: 0.0094\n",
      "Epoch 86/100\n",
      "34/34 [==============================] - 0s 4ms/step - loss: 0.0093\n",
      "Epoch 87/100\n",
      "34/34 [==============================] - 0s 2ms/step - loss: 0.0093\n",
      "Epoch 88/100\n",
      "34/34 [==============================] - 0s 3ms/step - loss: 0.0098\n",
      "Epoch 89/100\n",
      "34/34 [==============================] - 0s 2ms/step - loss: 0.0097\n",
      "Epoch 90/100\n",
      "34/34 [==============================] - 0s 3ms/step - loss: 0.0094\n",
      "Epoch 91/100\n",
      "34/34 [==============================] - 0s 5ms/step - loss: 0.0093\n",
      "Epoch 92/100\n",
      "34/34 [==============================] - 0s 2ms/step - loss: 0.0094\n",
      "Epoch 93/100\n",
      "34/34 [==============================] - 0s 4ms/step - loss: 0.0095\n",
      "Epoch 94/100\n",
      "34/34 [==============================] - 0s 3ms/step - loss: 0.0095\n",
      "Epoch 95/100\n",
      "34/34 [==============================] - 0s 3ms/step - loss: 0.0093\n",
      "Epoch 96/100\n",
      "34/34 [==============================] - 0s 3ms/step - loss: 0.0092\n",
      "Epoch 97/100\n",
      "34/34 [==============================] - 0s 2ms/step - loss: 0.0094\n",
      "Epoch 98/100\n",
      "34/34 [==============================] - 0s 4ms/step - loss: 0.0092\n",
      "Epoch 99/100\n",
      "34/34 [==============================] - 0s 2ms/step - loss: 0.0093\n",
      "Epoch 100/100\n",
      "34/34 [==============================] - 0s 2ms/step - loss: 0.0095\n",
      "9/9 [==============================] - 0s 753us/step\n",
      "Printing behins here: ----------------\n",
      "Epoch 1/100\n",
      "34/34 [==============================] - 1s 3ms/step - loss: 2.1335\n",
      "Epoch 2/100\n",
      "34/34 [==============================] - 0s 3ms/step - loss: 0.1301\n",
      "Epoch 3/100\n",
      "34/34 [==============================] - 0s 3ms/step - loss: 0.0520\n",
      "Epoch 4/100\n",
      "34/34 [==============================] - 0s 3ms/step - loss: 0.0355\n",
      "Epoch 5/100\n",
      "34/34 [==============================] - 0s 2ms/step - loss: 0.0286\n",
      "Epoch 6/100\n",
      "34/34 [==============================] - 0s 2ms/step - loss: 0.0241\n",
      "Epoch 7/100\n",
      "34/34 [==============================] - 0s 3ms/step - loss: 0.0213\n",
      "Epoch 8/100\n",
      "34/34 [==============================] - 0s 3ms/step - loss: 0.0196\n",
      "Epoch 9/100\n",
      "34/34 [==============================] - 0s 2ms/step - loss: 0.0182\n",
      "Epoch 10/100\n",
      "34/34 [==============================] - 0s 3ms/step - loss: 0.0173\n",
      "Epoch 11/100\n",
      "34/34 [==============================] - 0s 3ms/step - loss: 0.0162\n",
      "Epoch 12/100\n",
      "34/34 [==============================] - 0s 3ms/step - loss: 0.0155\n",
      "Epoch 13/100\n",
      "34/34 [==============================] - 0s 3ms/step - loss: 0.0150\n",
      "Epoch 14/100\n",
      "34/34 [==============================] - 0s 3ms/step - loss: 0.0140\n",
      "Epoch 15/100\n",
      "34/34 [==============================] - 0s 3ms/step - loss: 0.0135\n",
      "Epoch 16/100\n",
      "34/34 [==============================] - 0s 3ms/step - loss: 0.0131\n",
      "Epoch 17/100\n",
      "34/34 [==============================] - 0s 2ms/step - loss: 0.0127\n",
      "Epoch 18/100\n",
      "34/34 [==============================] - 0s 4ms/step - loss: 0.0125\n",
      "Epoch 19/100\n",
      "34/34 [==============================] - 0s 6ms/step - loss: 0.0119\n",
      "Epoch 20/100\n",
      "34/34 [==============================] - 0s 3ms/step - loss: 0.0117\n",
      "Epoch 21/100\n",
      "34/34 [==============================] - 0s 3ms/step - loss: 0.0113\n",
      "Epoch 22/100\n",
      "34/34 [==============================] - 0s 2ms/step - loss: 0.0111\n",
      "Epoch 23/100\n",
      "34/34 [==============================] - 0s 2ms/step - loss: 0.0109\n",
      "Epoch 24/100\n",
      "34/34 [==============================] - 0s 2ms/step - loss: 0.0107\n",
      "Epoch 25/100\n",
      "34/34 [==============================] - 0s 2ms/step - loss: 0.0107\n",
      "Epoch 26/100\n",
      "34/34 [==============================] - 0s 3ms/step - loss: 0.0109\n",
      "Epoch 27/100\n",
      "34/34 [==============================] - 0s 3ms/step - loss: 0.0109\n",
      "Epoch 28/100\n",
      "34/34 [==============================] - 0s 2ms/step - loss: 0.0103\n",
      "Epoch 29/100\n",
      "34/34 [==============================] - 0s 3ms/step - loss: 0.0105\n",
      "Epoch 30/100\n",
      "34/34 [==============================] - 0s 2ms/step - loss: 0.0103\n",
      "Epoch 31/100\n",
      "34/34 [==============================] - 0s 2ms/step - loss: 0.0100\n",
      "Epoch 32/100\n",
      "34/34 [==============================] - 0s 4ms/step - loss: 0.0099\n",
      "Epoch 33/100\n",
      "34/34 [==============================] - 0s 3ms/step - loss: 0.0098\n",
      "Epoch 34/100\n",
      "34/34 [==============================] - 0s 2ms/step - loss: 0.0101\n",
      "Epoch 35/100\n",
      "34/34 [==============================] - 0s 3ms/step - loss: 0.0098\n",
      "Epoch 36/100\n",
      "34/34 [==============================] - 0s 2ms/step - loss: 0.0098\n",
      "Epoch 37/100\n",
      "34/34 [==============================] - 0s 5ms/step - loss: 0.0103\n",
      "Epoch 38/100\n",
      "34/34 [==============================] - 0s 3ms/step - loss: 0.0111\n",
      "Epoch 39/100\n",
      "34/34 [==============================] - 0s 2ms/step - loss: 0.0100\n",
      "Epoch 40/100\n",
      "34/34 [==============================] - 0s 3ms/step - loss: 0.0102\n",
      "Epoch 41/100\n",
      "34/34 [==============================] - 0s 3ms/step - loss: 0.0099\n",
      "Epoch 42/100\n",
      "34/34 [==============================] - 0s 2ms/step - loss: 0.0098\n",
      "Epoch 43/100\n",
      "34/34 [==============================] - 0s 2ms/step - loss: 0.0098\n",
      "Epoch 44/100\n",
      "34/34 [==============================] - 0s 3ms/step - loss: 0.0097\n",
      "Epoch 45/100\n",
      "34/34 [==============================] - 0s 3ms/step - loss: 0.0096\n",
      "Epoch 46/100\n",
      "34/34 [==============================] - 0s 2ms/step - loss: 0.0097\n",
      "Epoch 47/100\n",
      "34/34 [==============================] - 0s 3ms/step - loss: 0.0095\n",
      "Epoch 48/100\n",
      "34/34 [==============================] - 0s 2ms/step - loss: 0.0099\n",
      "Epoch 49/100\n",
      "34/34 [==============================] - 0s 3ms/step - loss: 0.0096\n",
      "Epoch 50/100\n",
      "34/34 [==============================] - 0s 2ms/step - loss: 0.0104\n",
      "Epoch 51/100\n",
      "34/34 [==============================] - 0s 2ms/step - loss: 0.0096\n",
      "Epoch 52/100\n",
      "34/34 [==============================] - 0s 3ms/step - loss: 0.0096\n",
      "Epoch 53/100\n",
      "34/34 [==============================] - 0s 2ms/step - loss: 0.0097\n",
      "Epoch 54/100\n",
      "34/34 [==============================] - 0s 2ms/step - loss: 0.0099\n",
      "Epoch 55/100\n",
      "34/34 [==============================] - 0s 3ms/step - loss: 0.0099\n",
      "Epoch 56/100\n",
      "34/34 [==============================] - 0s 3ms/step - loss: 0.0095\n",
      "Epoch 57/100\n",
      "34/34 [==============================] - 0s 4ms/step - loss: 0.0096\n",
      "Epoch 58/100\n",
      "34/34 [==============================] - 0s 3ms/step - loss: 0.0096\n",
      "Epoch 59/100\n",
      "34/34 [==============================] - 0s 2ms/step - loss: 0.0097\n",
      "Epoch 60/100\n",
      "34/34 [==============================] - 0s 4ms/step - loss: 0.0097\n",
      "Epoch 61/100\n",
      "34/34 [==============================] - 0s 4ms/step - loss: 0.0099\n",
      "Epoch 62/100\n",
      "34/34 [==============================] - 0s 2ms/step - loss: 0.0103\n",
      "Epoch 63/100\n",
      "34/34 [==============================] - 0s 3ms/step - loss: 0.0095\n",
      "Epoch 64/100\n",
      "34/34 [==============================] - 0s 3ms/step - loss: 0.0096\n",
      "Epoch 65/100\n",
      "34/34 [==============================] - 0s 2ms/step - loss: 0.0097\n",
      "Epoch 66/100\n",
      "34/34 [==============================] - 0s 3ms/step - loss: 0.0107\n",
      "Epoch 67/100\n",
      "34/34 [==============================] - 0s 4ms/step - loss: 0.0101\n",
      "Epoch 68/100\n",
      "34/34 [==============================] - 0s 3ms/step - loss: 0.0098\n",
      "Epoch 69/100\n",
      "34/34 [==============================] - 0s 3ms/step - loss: 0.0107\n",
      "Epoch 70/100\n",
      "34/34 [==============================] - 0s 3ms/step - loss: 0.0108\n",
      "Epoch 71/100\n",
      "34/34 [==============================] - 0s 2ms/step - loss: 0.0104\n",
      "Epoch 72/100\n",
      "34/34 [==============================] - 0s 2ms/step - loss: 0.0096\n",
      "Epoch 73/100\n",
      "34/34 [==============================] - 0s 2ms/step - loss: 0.0104\n",
      "Epoch 74/100\n",
      "34/34 [==============================] - 0s 3ms/step - loss: 0.0096\n",
      "Epoch 75/100\n",
      "34/34 [==============================] - 0s 3ms/step - loss: 0.0102\n",
      "Epoch 76/100\n",
      "34/34 [==============================] - 0s 3ms/step - loss: 0.0099\n",
      "Epoch 77/100\n",
      "34/34 [==============================] - 0s 3ms/step - loss: 0.0097\n",
      "Epoch 78/100\n",
      "34/34 [==============================] - 0s 2ms/step - loss: 0.0099\n",
      "Epoch 79/100\n",
      "34/34 [==============================] - 0s 2ms/step - loss: 0.0098\n",
      "Epoch 80/100\n",
      "34/34 [==============================] - 0s 4ms/step - loss: 0.0101\n",
      "Epoch 81/100\n",
      "34/34 [==============================] - 0s 3ms/step - loss: 0.0105\n",
      "Epoch 82/100\n",
      "34/34 [==============================] - 0s 2ms/step - loss: 0.0099\n",
      "Epoch 83/100\n",
      "34/34 [==============================] - 0s 3ms/step - loss: 0.0109\n",
      "Epoch 84/100\n",
      "34/34 [==============================] - 0s 2ms/step - loss: 0.0097\n",
      "Epoch 85/100\n",
      "34/34 [==============================] - 0s 2ms/step - loss: 0.0098\n",
      "Epoch 86/100\n",
      "34/34 [==============================] - 0s 2ms/step - loss: 0.0099\n",
      "Epoch 87/100\n",
      "34/34 [==============================] - 0s 2ms/step - loss: 0.0099\n",
      "Epoch 88/100\n",
      "34/34 [==============================] - 0s 2ms/step - loss: 0.0097\n",
      "Epoch 89/100\n",
      "34/34 [==============================] - 0s 2ms/step - loss: 0.0106\n",
      "Epoch 90/100\n",
      "34/34 [==============================] - 0s 2ms/step - loss: 0.0106\n",
      "Epoch 91/100\n",
      "34/34 [==============================] - 0s 3ms/step - loss: 0.0101\n",
      "Epoch 92/100\n",
      "34/34 [==============================] - 0s 3ms/step - loss: 0.0104\n",
      "Epoch 93/100\n",
      "34/34 [==============================] - 0s 2ms/step - loss: 0.0099\n",
      "Epoch 94/100\n",
      "34/34 [==============================] - 0s 3ms/step - loss: 0.0099\n",
      "Epoch 95/100\n",
      "34/34 [==============================] - 0s 3ms/step - loss: 0.0102\n",
      "Epoch 96/100\n",
      "34/34 [==============================] - 0s 2ms/step - loss: 0.0103\n",
      "Epoch 97/100\n",
      "34/34 [==============================] - 0s 2ms/step - loss: 0.0112\n",
      "Epoch 98/100\n",
      "34/34 [==============================] - 0s 3ms/step - loss: 0.0123\n",
      "Epoch 99/100\n",
      "34/34 [==============================] - 0s 3ms/step - loss: 0.0105\n",
      "Epoch 100/100\n",
      "34/34 [==============================] - 0s 4ms/step - loss: 0.0106\n",
      "9/9 [==============================] - 0s 1ms/step\n"
     ]
    },
    {
     "data": {
      "image/png": "[encoded data removed]",
      "text/plain": [
       "<Figure size 640x480 with 1 Axes>"
      ]
     },
     "metadata": {},
     "output_type": "display_data"
    }
   ],
   "source": [
    "SGD_score  = []\n",
    "mini_batch_sgd_score= []\n",
    "momentum_score = []\n",
    "nesterov_score = []\n",
    "rms_prop_score = []\n",
    "ADAM_score = []\n",
    "for train_index, test_index in kf.split(scaled_x):\n",
    "    x_train, x_test = scaled_x[train_index], scaled_x[test_index]\n",
    "    y_train, y_test = scaled_y[train_index], scaled_y[test_index]\n",
    "    # SGD_score.append(SGD_model(x_train,y_train,x_test,y_test))\n",
    "    # mini_batch_sgd_score.append(MINI_BATCH_SGD_model(x_train,y_train,x_test,y_test))\n",
    "    # momentum_score.append(MOMENTUM_model(x_train,y_train,x_test,y_test))\n",
    "    # nesterov_score.append(NESTEROV_model(x_train,y_train,x_test,y_test))\n",
    "    # rms_prop_score.append(RMSPROP_model(x_train,y_train,x_test,y_test))\n",
    "    ADAM_score.append(ADAM_model(x_train,y_train,x_test,y_test))\n",
    "    "
   ]
  },
  {
   "attachments": {},
   "cell_type": "markdown",
   "metadata": {},
   "source": []
  },
  {
   "cell_type": "code",
   "execution_count": 76,
   "metadata": {},
   "outputs": [
    {
     "data": {
      "text/plain": [
       "[0.7810509903748457,\n",
       " 0.7378344073707732,\n",
       " 0.7679840126164018,\n",
       " 0.6306667111985713,\n",
       " 0.7459003067726547]"
      ]
     },
     "execution_count": 76,
     "metadata": {},
     "output_type": "execute_result"
    }
   ],
   "source": [
    "np.mean(SGD_score)"
   ]
  },
  {
   "cell_type": "code",
   "execution_count": 30,
   "metadata": {},
   "outputs": [
    {
     "data": {
      "text/plain": [
       "0.6859073461332793"
      ]
     },
     "execution_count": 30,
     "metadata": {},
     "output_type": "execute_result"
    }
   ],
   "source": [
    "np.mean(ADAM_score) \n",
    "# for 0.001 = alpha"
   ]
  },
  {
   "cell_type": "code",
   "execution_count": 34,
   "metadata": {},
   "outputs": [
    {
     "data": {
      "text/plain": [
       "0.7340598802725693"
      ]
     },
     "execution_count": 34,
     "metadata": {},
     "output_type": "execute_result"
    }
   ],
   "source": [
    "np.mean(ADAM_score)\n",
    "# for 0.01 = alpha"
   ]
  },
  {
   "cell_type": "code",
   "execution_count": 37,
   "metadata": {},
   "outputs": [
    {
     "data": {
      "text/plain": [
       "0.7379998144367365"
      ]
     },
     "execution_count": 37,
     "metadata": {},
     "output_type": "execute_result"
    }
   ],
   "source": [
    "np.mean(ADAM_score)\n",
    "# for learning rate decay"
   ]
  },
  {
   "cell_type": "code",
   "execution_count": 94,
   "metadata": {},
   "outputs": [
    {
     "data": {
      "text/plain": [
       "0.7395091601511976"
      ]
     },
     "execution_count": 94,
     "metadata": {},
     "output_type": "execute_result"
    }
   ],
   "source": [
    "np.mean(mini_batch_sgd_score)"
   ]
  },
  {
   "cell_type": "code",
   "execution_count": 26,
   "metadata": {},
   "outputs": [
    {
     "data": {
      "text/plain": [
       "0.7287750837320033"
      ]
     },
     "execution_count": 26,
     "metadata": {},
     "output_type": "execute_result"
    }
   ],
   "source": [
    "np.mean(momentum_score) \n",
    "# without decay rate"
   ]
  },
  {
   "cell_type": "code",
   "execution_count": 40,
   "metadata": {},
   "outputs": [
    {
     "data": {
      "text/plain": [
       "0.7377358670796849"
      ]
     },
     "execution_count": 40,
     "metadata": {},
     "output_type": "execute_result"
    }
   ],
   "source": [
    "np.mean(momentum_score)\n",
    "# with decay rate"
   ]
  },
  {
   "cell_type": "code",
   "execution_count": 97,
   "metadata": {},
   "outputs": [
    {
     "data": {
      "text/plain": [
       "0.7397622437255729"
      ]
     },
     "execution_count": 97,
     "metadata": {},
     "output_type": "execute_result"
    }
   ],
   "source": [
    "np.mean(nesterov_score)"
   ]
  },
  {
   "cell_type": "code",
   "execution_count": 100,
   "metadata": {},
   "outputs": [
    {
     "data": {
      "text/plain": [
       "0.7280993363428557"
      ]
     },
     "execution_count": 100,
     "metadata": {},
     "output_type": "execute_result"
    }
   ],
   "source": [
    "np.mean(rms_prop_score)"
   ]
  },
  {
   "cell_type": "code",
   "execution_count": 122,
   "metadata": {},
   "outputs": [
    {
     "data": {
      "text/plain": [
       "0.7375670063487549"
      ]
     },
     "execution_count": 122,
     "metadata": {},
     "output_type": "execute_result"
    }
   ],
   "source": [
    "np.mean(momentum_score) # for age bmi smoker"
   ]
  },
  {
   "cell_type": "code",
   "execution_count": 18,
   "metadata": {},
   "outputs": [
    {
     "data": {
      "text/plain": [
       "0.6766521126757556"
      ]
     },
     "execution_count": 18,
     "metadata": {},
     "output_type": "execute_result"
    }
   ],
   "source": [
    "np.mean(ADAM_score)"
   ]
  },
  {
   "cell_type": "code",
   "execution_count": 10,
   "metadata": {},
   "outputs": [],
   "source": [
    "\n",
    "def sigmoid_activation(x):\n",
    "\t# compute the sigmoid activation value for a given input\n",
    "\treturn 1.0 / (1 + np.exp(-x))\n",
    "def sigmoid_deriv(x):\n",
    "\t# compute the derivative of the sigmoid function ASSUMING\n",
    "\t# that the input \"x\" has already been passed through the sigmoid\n",
    "\t# activation function\n",
    "\treturn x * (1 - x)"
   ]
  },
  {
   "cell_type": "code",
   "execution_count": 11,
   "metadata": {},
   "outputs": [],
   "source": [
    "def predict(X, W):\n",
    "\t# take the dot product between our features and weight matrix\n",
    "\tpreds = sigmoid_activation(X.dot(W))\n",
    "\t# apply a step function to threshold the outputs to binary\n",
    "\t# class labels\n",
    "\tpreds[preds <= 0.5] = 0\n",
    "\tpreds[preds > 0] = 1\n",
    "\t# return the predictions\n",
    "\treturn preds"
   ]
  },
  {
   "cell_type": "code",
   "execution_count": 12,
   "metadata": {},
   "outputs": [],
   "source": [
    "def next_batch(X, y, batchSize):\n",
    "\t# loop over our dataset \"X\" in mini-batches, yielding a tuple of\n",
    "\t# the current batched data and labels\n",
    "\tfor i in np.arange(0, X.shape[0], batchSize):\n",
    "\t\tyield (X[i:i + batchSize], y[i:i + batchSize])"
   ]
  },
  {
   "cell_type": "code",
   "execution_count": 13,
   "metadata": {},
   "outputs": [],
   "source": [
    "X = np.c_[X, np.ones((X.shape[0]))]"
   ]
  },
  {
   "cell_type": "code",
   "execution_count": 14,
   "metadata": {},
   "outputs": [
    {
     "data": {
      "text/plain": [
       "array([[0., 0., 0., ..., 0., 1., 1.],\n",
       "       [0., 0., 1., ..., 1., 0., 1.],\n",
       "       [0., 0., 1., ..., 3., 0., 1.],\n",
       "       ...,\n",
       "       [0., 0., 1., ..., 0., 0., 1.],\n",
       "       [0., 0., 0., ..., 0., 0., 1.],\n",
       "       [0., 1., 0., ..., 0., 1., 1.]])"
      ]
     },
     "execution_count": 14,
     "metadata": {},
     "output_type": "execute_result"
    }
   ],
   "source": [
    "X"
   ]
  },
  {
   "cell_type": "code",
   "execution_count": 15,
   "metadata": {},
   "outputs": [],
   "source": [
    "from sklearn.model_selection import train_test_split\n",
    "x_train, x_test,y_train,y_test = train_test_split(X,Y, test_size=0.20, random_state=1)"
   ]
  },
  {
   "cell_type": "code",
   "execution_count": 16,
   "metadata": {},
   "outputs": [
    {
     "name": "stdout",
     "output_type": "stream",
     "text": [
      "[INFO] training...\n"
     ]
    }
   ],
   "source": [
    "# initialize our weight matrix and list of losses\n",
    "print(\"[INFO] training...\")\n",
    "W = np.random.randn(X.shape[1], 1)\n",
    "losses = []"
   ]
  },
  {
   "cell_type": "code",
   "execution_count": 17,
   "metadata": {},
   "outputs": [
    {
     "name": "stdout",
     "output_type": "stream",
     "text": [
      "100\n"
     ]
    }
   ],
   "source": [
    "# construct the argument parse and parse the arguments\n",
    "\n",
    "import easydict\n",
    "args = easydict.EasyDict({\n",
    "        \"batch-size\": 32,\n",
    "        \"epochs\": 100,\n",
    "        \"alpha\": 0.01,\n",
    "})\n",
    "print(args[\"epochs\"])"
   ]
  },
  {
   "cell_type": "code",
   "execution_count": 24,
   "metadata": {},
   "outputs": [
    {
     "name": "stdout",
     "output_type": "stream",
     "text": [
      "[[1. 1. 1. 1. 1. 1. 1. 1. 1. 1.]\n",
      " [1. 1. 1. 1. 1. 1. 1. 1. 1. 1.]\n",
      " [1. 1. 1. 1. 1. 1. 1. 1. 1. 1.]\n",
      " [1. 1. 1. 1. 1. 1. 1. 1. 1. 1.]\n",
      " [1. 1. 1. 1. 1. 1. 1. 1. 1. 1.]\n",
      " [1. 1. 1. 1. 1. 1. 1. 1. 1. 1.]\n",
      " [1. 1. 1. 1. 1. 1. 1. 1. 1. 1.]\n",
      " [1. 1. 1. 1. 1. 1. 1. 1. 1. 1.]\n",
      " [1. 1. 1. 1. 1. 1. 1. 1. 1. 1.]\n",
      " [1. 1. 1. 1. 1. 1. 1. 1. 1. 1.]\n",
      " [1. 1. 1. 1. 1. 1. 1. 1. 1. 1.]\n",
      " [1. 1. 1. 1. 1. 1. 1. 1. 1. 1.]\n",
      " [1. 1. 1. 1. 1. 1. 1. 1. 1. 1.]\n",
      " [1. 1. 1. 1. 1. 1. 1. 1. 1. 1.]\n",
      " [1. 1. 1. 1. 1. 1. 1. 1. 1. 1.]\n",
      " [1. 1. 1. 1. 1. 1. 1. 1. 1. 1.]\n",
      " [1. 1. 1. 1. 1. 1. 1. 1. 1. 1.]\n",
      " [1. 1. 1. 1. 1. 1. 1. 1. 1. 1.]\n",
      " [1. 1. 1. 1. 1. 1. 1. 1. 1. 1.]\n",
      " [1. 1. 1. 1. 1. 1. 1. 1. 1. 1.]\n",
      " [1. 1. 1. 1. 1. 1. 1. 1. 1. 1.]\n",
      " [1. 1. 1. 1. 1. 1. 1. 1. 1. 1.]\n",
      " [1. 1. 1. 1. 1. 1. 1. 1. 1. 1.]\n",
      " [1. 1. 1. 1. 1. 1. 1. 1. 1. 1.]\n",
      " [1. 1. 1. 1. 1. 1. 1. 1. 1. 1.]\n",
      " [1. 1. 1. 1. 1. 1. 1. 1. 1. 1.]\n",
      " [1. 1. 1. 1. 1. 1. 1. 1. 1. 1.]\n",
      " [1. 1. 1. 1. 1. 1. 1. 1. 1. 1.]\n",
      " [1. 1. 1. 1. 1. 1. 1. 1. 1. 1.]\n",
      " [1. 1. 1. 1. 1. 1. 1. 1. 1. 1.]\n",
      " [1. 1. 1. 1. 1. 1. 1. 1. 1. 1.]\n",
      " [1. 1. 1. 1. 1. 1. 1. 1. 1. 1.]]\n",
      "(32, 10)\n"
     ]
    },
    {
     "ename": "ValueError",
     "evalue": "operands could not be broadcast together with shapes (32,10) (32,) ",
     "output_type": "error",
     "traceback": [
      "\u001b[1;31m---------------------------------------------------------------------------\u001b[0m",
      "\u001b[1;31mValueError\u001b[0m                                Traceback (most recent call last)",
      "Cell \u001b[1;32mIn[24], line 17\u001b[0m\n\u001b[0;32m     12\u001b[0m \u001b[39m# preds = preds.flatten()\u001b[39;00m\n\u001b[0;32m     13\u001b[0m \u001b[39m# now that we have our predictions, we need to determine the\u001b[39;00m\n\u001b[0;32m     14\u001b[0m \u001b[39m# \"error\", which is the difference between our predictions\u001b[39;00m\n\u001b[0;32m     15\u001b[0m \u001b[39m# and the true values\u001b[39;00m\n\u001b[0;32m     16\u001b[0m \u001b[39mprint\u001b[39m(preds\u001b[39m.\u001b[39mshape)\n\u001b[1;32m---> 17\u001b[0m error \u001b[39m=\u001b[39m (preds \u001b[39m-\u001b[39;49m batchY)\n\u001b[0;32m     18\u001b[0m epochLoss\u001b[39m.\u001b[39mappend(np\u001b[39m.\u001b[39msum(error \u001b[39m*\u001b[39m\u001b[39m*\u001b[39m \u001b[39m2\u001b[39m))\n\u001b[0;32m     19\u001b[0m \u001b[39m# the gradient descent update is the dot product between our\u001b[39;00m\n\u001b[0;32m     20\u001b[0m \u001b[39m# (1) current batch and (2) the error of the sigmoid\u001b[39;00m\n\u001b[0;32m     21\u001b[0m \u001b[39m# derivative of our predictions\u001b[39;00m\n",
      "File \u001b[1;32mc:\\Users\\ayush\\Desktop\\Study\\Surender sir research paper internship\\env\\Lib\\site-packages\\pandas\\core\\generic.py:2016\u001b[0m, in \u001b[0;36mNDFrame.__array_ufunc__\u001b[1;34m(self, ufunc, method, *inputs, **kwargs)\u001b[0m\n\u001b[0;32m   2012\u001b[0m \u001b[39m@final\u001b[39m\n\u001b[0;32m   2013\u001b[0m \u001b[39mdef\u001b[39;00m \u001b[39m__array_ufunc__\u001b[39m(\n\u001b[0;32m   2014\u001b[0m     \u001b[39mself\u001b[39m, ufunc: np\u001b[39m.\u001b[39mufunc, method: \u001b[39mstr\u001b[39m, \u001b[39m*\u001b[39minputs: Any, \u001b[39m*\u001b[39m\u001b[39m*\u001b[39mkwargs: Any\n\u001b[0;32m   2015\u001b[0m ):\n\u001b[1;32m-> 2016\u001b[0m     \u001b[39mreturn\u001b[39;00m arraylike\u001b[39m.\u001b[39;49marray_ufunc(\u001b[39mself\u001b[39;49m, ufunc, method, \u001b[39m*\u001b[39;49minputs, \u001b[39m*\u001b[39;49m\u001b[39m*\u001b[39;49mkwargs)\n",
      "File \u001b[1;32mc:\\Users\\ayush\\Desktop\\Study\\Surender sir research paper internship\\env\\Lib\\site-packages\\pandas\\core\\arraylike.py:273\u001b[0m, in \u001b[0;36marray_ufunc\u001b[1;34m(self, ufunc, method, *inputs, **kwargs)\u001b[0m\n\u001b[0;32m    270\u001b[0m kwargs \u001b[39m=\u001b[39m _standardize_out_kwarg(\u001b[39m*\u001b[39m\u001b[39m*\u001b[39mkwargs)\n\u001b[0;32m    272\u001b[0m \u001b[39m# for binary ops, use our custom dunder methods\u001b[39;00m\n\u001b[1;32m--> 273\u001b[0m result \u001b[39m=\u001b[39m maybe_dispatch_ufunc_to_dunder_op(\u001b[39mself\u001b[39;49m, ufunc, method, \u001b[39m*\u001b[39;49minputs, \u001b[39m*\u001b[39;49m\u001b[39m*\u001b[39;49mkwargs)\n\u001b[0;32m    274\u001b[0m \u001b[39mif\u001b[39;00m result \u001b[39mis\u001b[39;00m \u001b[39mnot\u001b[39;00m \u001b[39mNotImplemented\u001b[39m:\n\u001b[0;32m    275\u001b[0m     \u001b[39mreturn\u001b[39;00m result\n",
      "File \u001b[1;32mc:\\Users\\ayush\\Desktop\\Study\\Surender sir research paper internship\\env\\Lib\\site-packages\\pandas\\_libs\\ops_dispatch.pyx:113\u001b[0m, in \u001b[0;36mpandas._libs.ops_dispatch.maybe_dispatch_ufunc_to_dunder_op\u001b[1;34m()\u001b[0m\n",
      "File \u001b[1;32mc:\\Users\\ayush\\Desktop\\Study\\Surender sir research paper internship\\env\\Lib\\site-packages\\pandas\\core\\ops\\common.py:81\u001b[0m, in \u001b[0;36m_unpack_zerodim_and_defer.<locals>.new_method\u001b[1;34m(self, other)\u001b[0m\n\u001b[0;32m     77\u001b[0m             \u001b[39mreturn\u001b[39;00m \u001b[39mNotImplemented\u001b[39m\n\u001b[0;32m     79\u001b[0m other \u001b[39m=\u001b[39m item_from_zerodim(other)\n\u001b[1;32m---> 81\u001b[0m \u001b[39mreturn\u001b[39;00m method(\u001b[39mself\u001b[39;49m, other)\n",
      "File \u001b[1;32mc:\\Users\\ayush\\Desktop\\Study\\Surender sir research paper internship\\env\\Lib\\site-packages\\pandas\\core\\arraylike.py:198\u001b[0m, in \u001b[0;36mOpsMixin.__rsub__\u001b[1;34m(self, other)\u001b[0m\n\u001b[0;32m    196\u001b[0m \u001b[39m@unpack_zerodim_and_defer\u001b[39m(\u001b[39m\"\u001b[39m\u001b[39m__rsub__\u001b[39m\u001b[39m\"\u001b[39m)\n\u001b[0;32m    197\u001b[0m \u001b[39mdef\u001b[39;00m \u001b[39m__rsub__\u001b[39m(\u001b[39mself\u001b[39m, other):\n\u001b[1;32m--> 198\u001b[0m     \u001b[39mreturn\u001b[39;00m \u001b[39mself\u001b[39;49m\u001b[39m.\u001b[39;49m_arith_method(other, roperator\u001b[39m.\u001b[39;49mrsub)\n",
      "File \u001b[1;32mc:\\Users\\ayush\\Desktop\\Study\\Surender sir research paper internship\\env\\Lib\\site-packages\\pandas\\core\\series.py:6112\u001b[0m, in \u001b[0;36mSeries._arith_method\u001b[1;34m(self, other, op)\u001b[0m\n\u001b[0;32m   6110\u001b[0m \u001b[39mdef\u001b[39;00m \u001b[39m_arith_method\u001b[39m(\u001b[39mself\u001b[39m, other, op):\n\u001b[0;32m   6111\u001b[0m     \u001b[39mself\u001b[39m, other \u001b[39m=\u001b[39m ops\u001b[39m.\u001b[39malign_method_SERIES(\u001b[39mself\u001b[39m, other)\n\u001b[1;32m-> 6112\u001b[0m     \u001b[39mreturn\u001b[39;00m base\u001b[39m.\u001b[39;49mIndexOpsMixin\u001b[39m.\u001b[39;49m_arith_method(\u001b[39mself\u001b[39;49m, other, op)\n",
      "File \u001b[1;32mc:\\Users\\ayush\\Desktop\\Study\\Surender sir research paper internship\\env\\Lib\\site-packages\\pandas\\core\\base.py:1348\u001b[0m, in \u001b[0;36mIndexOpsMixin._arith_method\u001b[1;34m(self, other, op)\u001b[0m\n\u001b[0;32m   1345\u001b[0m rvalues \u001b[39m=\u001b[39m ensure_wrapped_if_datetimelike(rvalues)\n\u001b[0;32m   1347\u001b[0m \u001b[39mwith\u001b[39;00m np\u001b[39m.\u001b[39merrstate(\u001b[39mall\u001b[39m\u001b[39m=\u001b[39m\u001b[39m\"\u001b[39m\u001b[39mignore\u001b[39m\u001b[39m\"\u001b[39m):\n\u001b[1;32m-> 1348\u001b[0m     result \u001b[39m=\u001b[39m ops\u001b[39m.\u001b[39;49marithmetic_op(lvalues, rvalues, op)\n\u001b[0;32m   1350\u001b[0m \u001b[39mreturn\u001b[39;00m \u001b[39mself\u001b[39m\u001b[39m.\u001b[39m_construct_result(result, name\u001b[39m=\u001b[39mres_name)\n",
      "File \u001b[1;32mc:\\Users\\ayush\\Desktop\\Study\\Surender sir research paper internship\\env\\Lib\\site-packages\\pandas\\core\\ops\\array_ops.py:232\u001b[0m, in \u001b[0;36marithmetic_op\u001b[1;34m(left, right, op)\u001b[0m\n\u001b[0;32m    228\u001b[0m     _bool_arith_check(op, left, right)\n\u001b[0;32m    230\u001b[0m     \u001b[39m# error: Argument 1 to \"_na_arithmetic_op\" has incompatible type\u001b[39;00m\n\u001b[0;32m    231\u001b[0m     \u001b[39m# \"Union[ExtensionArray, ndarray[Any, Any]]\"; expected \"ndarray[Any, Any]\"\u001b[39;00m\n\u001b[1;32m--> 232\u001b[0m     res_values \u001b[39m=\u001b[39m _na_arithmetic_op(left, right, op)  \u001b[39m# type: ignore[arg-type]\u001b[39;00m\n\u001b[0;32m    234\u001b[0m \u001b[39mreturn\u001b[39;00m res_values\n",
      "File \u001b[1;32mc:\\Users\\ayush\\Desktop\\Study\\Surender sir research paper internship\\env\\Lib\\site-packages\\pandas\\core\\ops\\array_ops.py:171\u001b[0m, in \u001b[0;36m_na_arithmetic_op\u001b[1;34m(left, right, op, is_cmp)\u001b[0m\n\u001b[0;32m    168\u001b[0m     func \u001b[39m=\u001b[39m partial(expressions\u001b[39m.\u001b[39mevaluate, op)\n\u001b[0;32m    170\u001b[0m \u001b[39mtry\u001b[39;00m:\n\u001b[1;32m--> 171\u001b[0m     result \u001b[39m=\u001b[39m func(left, right)\n\u001b[0;32m    172\u001b[0m \u001b[39mexcept\u001b[39;00m \u001b[39mTypeError\u001b[39;00m:\n\u001b[0;32m    173\u001b[0m     \u001b[39mif\u001b[39;00m \u001b[39mnot\u001b[39;00m is_cmp \u001b[39mand\u001b[39;00m (is_object_dtype(left\u001b[39m.\u001b[39mdtype) \u001b[39mor\u001b[39;00m is_object_dtype(right)):\n\u001b[0;32m    174\u001b[0m         \u001b[39m# For object dtype, fallback to a masked operation (only operating\u001b[39;00m\n\u001b[0;32m    175\u001b[0m         \u001b[39m#  on the non-missing values)\u001b[39;00m\n\u001b[0;32m    176\u001b[0m         \u001b[39m# Don't do this for comparisons, as that will handle complex numbers\u001b[39;00m\n\u001b[0;32m    177\u001b[0m         \u001b[39m#  incorrectly, see GH#32047\u001b[39;00m\n",
      "File \u001b[1;32mc:\\Users\\ayush\\Desktop\\Study\\Surender sir research paper internship\\env\\Lib\\site-packages\\pandas\\core\\computation\\expressions.py:239\u001b[0m, in \u001b[0;36mevaluate\u001b[1;34m(op, a, b, use_numexpr)\u001b[0m\n\u001b[0;32m    236\u001b[0m \u001b[39mif\u001b[39;00m op_str \u001b[39mis\u001b[39;00m \u001b[39mnot\u001b[39;00m \u001b[39mNone\u001b[39;00m:\n\u001b[0;32m    237\u001b[0m     \u001b[39mif\u001b[39;00m use_numexpr:\n\u001b[0;32m    238\u001b[0m         \u001b[39m# error: \"None\" not callable\u001b[39;00m\n\u001b[1;32m--> 239\u001b[0m         \u001b[39mreturn\u001b[39;00m _evaluate(op, op_str, a, b)  \u001b[39m# type: ignore[misc]\u001b[39;00m\n\u001b[0;32m    240\u001b[0m \u001b[39mreturn\u001b[39;00m _evaluate_standard(op, op_str, a, b)\n",
      "File \u001b[1;32mc:\\Users\\ayush\\Desktop\\Study\\Surender sir research paper internship\\env\\Lib\\site-packages\\pandas\\core\\computation\\expressions.py:70\u001b[0m, in \u001b[0;36m_evaluate_standard\u001b[1;34m(op, op_str, a, b)\u001b[0m\n\u001b[0;32m     68\u001b[0m \u001b[39mif\u001b[39;00m _TEST_MODE:\n\u001b[0;32m     69\u001b[0m     _store_test_result(\u001b[39mFalse\u001b[39;00m)\n\u001b[1;32m---> 70\u001b[0m \u001b[39mreturn\u001b[39;00m op(a, b)\n",
      "File \u001b[1;32mc:\\Users\\ayush\\Desktop\\Study\\Surender sir research paper internship\\env\\Lib\\site-packages\\pandas\\core\\roperator.py:15\u001b[0m, in \u001b[0;36mrsub\u001b[1;34m(left, right)\u001b[0m\n\u001b[0;32m     14\u001b[0m \u001b[39mdef\u001b[39;00m \u001b[39mrsub\u001b[39m(left, right):\n\u001b[1;32m---> 15\u001b[0m     \u001b[39mreturn\u001b[39;00m right \u001b[39m-\u001b[39;49m left\n",
      "\u001b[1;31mValueError\u001b[0m: operands could not be broadcast together with shapes (32,10) (32,) "
     ]
    }
   ],
   "source": [
    "# loop over the desired number of epochs\n",
    "for epoch in np.arange(0, args[\"epochs\"]):\n",
    "\t# initialize the total loss for the epoch\n",
    "\tepochLoss = []\n",
    "\t# loop over our data in batches\n",
    "\tfor (batchX, batchY) in next_batch(x_train, y_train, args[\"batch-size\"]):\n",
    "\t\t# take the dot product between our current batch of features\n",
    "\t\t# and the weight matrix, then pass this value through our\n",
    "\t\t# activation function\n",
    "\t\tpreds = sigmoid_activation(batchX.dot(W))\n",
    "\t\tprint(preds)\n",
    "\t\t# preds = preds.flatten()\n",
    "\t\t# now that we have our predictions, we need to determine the\n",
    "\t\t# \"error\", which is the difference between our predictions\n",
    "\t\t# and the true values\n",
    "\t\tprint(preds.shape)\n",
    "\t\terror = (preds - batchY)\n",
    "\t\tepochLoss.append(np.sum(error ** 2))\n",
    "\t\t# the gradient descent update is the dot product between our\n",
    "\t\t# (1) current batch and (2) the error of the sigmoid\n",
    "\t\t# derivative of our predictions\n",
    "\t\td = error * sigmoid_deriv(preds)\n",
    "\t\tgradient = batchX.T.dot(d)\n",
    "\t\t# gradient = gradient.flatten()\n",
    "\t\t# in the update stage, all we need to do is \"nudge\" the\n",
    "\t\t# weight matrix in the negative direction of the gradient\n",
    "\t\t# (hence the term \"gradient descent\" by taking a small step\n",
    "\t\t# towards a set of \"more optimal\" parameters\n",
    "\t\tprint(args[\"alpha\"])\n",
    "\t\tW = W+ -args[\"alpha\"] * gradient\n",
    "\t\t# update our loss history by taking the average loss across all\n",
    "\t# batches\n",
    "\tloss = np.average(epochLoss)\n",
    "\tlosses.append(loss)\n",
    "\t# check to see if an update should be displayed\n",
    "\tif epoch == 0 or (epoch + 1) % 5 == 0:\n",
    "\t\tprint(\"[INFO] epoch={}, loss={:.7f}\".format(int(epoch + 1),\n",
    "\t\t\tloss))"
   ]
  },
  {
   "cell_type": "code",
   "execution_count": null,
   "metadata": {},
   "outputs": [],
   "source": []
  }
 ],
 "metadata": {
  "kernelspec": {
   "display_name": "base",
   "language": "python",
   "name": "python3"
  },
  "language_info": {
   "codemirror_mode": {
    "name": "ipython",
    "version": 3
   },
   "file_extension": ".py",
   "mimetype": "text/x-python",
   "name": "python",
   "nbconvert_exporter": "python",
   "pygments_lexer": "ipython3",
   "version": "3.11.3"
  },
  "orig_nbformat": 4,
  "vscode": {
   "interpreter": {
    "hash": "086edbbad6d007afd932f3998127bea1c36f47a35b43b79d0f508f10f9e57cc3"
   }
  }
 },
 "nbformat": 4,
 "nbformat_minor": 2
}
